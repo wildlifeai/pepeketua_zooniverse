{
  "nbformat": 4,
  "nbformat_minor": 0,
  "metadata": {
    "colab": {
      "name": "zooniverse_classifications.ipynb",
      "provenance": [],
      "collapsed_sections": [],
      "toc_visible": true,
      "authorship_tag": "ABX9TyP6GqHb9x3Uj59FQvxI1Qcn",
      "include_colab_link": true
    },
    "kernelspec": {
      "name": "python3",
      "display_name": "Python 3"
    }
  },
  "cells": [
    {
      "cell_type": "markdown",
      "metadata": {
        "id": "view-in-github",
        "colab_type": "text"
      },
      "source": [
        "<a href=\"https://colab.research.google.com/github/wildlifeai/pepeketua_zooniverse/blob/main/zooniverse_classifications.ipynb\" target=\"_parent\"><img src=\"https://colab.research.google.com/assets/colab-badge.svg\" alt=\"Open In Colab\"/></a>"
      ]
    },
    {
      "cell_type": "markdown",
      "metadata": {
        "id": "Kvs6P42y4QT0"
      },
      "source": [
        "This notebook contains the scripts to download the annotations of landmarks of Archey's frogs from Zooniverse and modify them to train ML algorithms."
      ]
    },
    {
      "cell_type": "markdown",
      "metadata": {
        "id": "JcT2UBUcdj-a"
      },
      "source": [
        "#Requirements"
      ]
    },
    {
      "cell_type": "markdown",
      "metadata": {
        "id": "n6eYkFWpHXQ7"
      },
      "source": [
        "### Install required packages"
      ]
    },
    {
      "cell_type": "markdown",
      "metadata": {
        "id": "TH2C_1HBdmX4"
      },
      "source": [
        "We use the \"panoptes_client\" package to communicate with Zooniverse. If you don't have it installed, run the command below."
      ]
    },
    {
      "cell_type": "code",
      "metadata": {
        "id": "r2E5PR5iaGfC"
      },
      "source": [
        "!pip install panoptes_client"
      ],
      "execution_count": null,
      "outputs": []
    },
    {
      "cell_type": "markdown",
      "metadata": {
        "id": "79i1Eyx4HdvF"
      },
      "source": [
        "### Load required libraries"
      ]
    },
    {
      "cell_type": "markdown",
      "metadata": {
        "id": "dBrZIug5d896"
      },
      "source": [
        "Load generic libraries"
      ]
    },
    {
      "cell_type": "code",
      "metadata": {
        "id": "RYnsIFqAeBOT"
      },
      "source": [
        "import io\n",
        "import zipfile\n",
        "import json\n",
        "import getpass\n",
        "import pandas as pd\n",
        "import numpy as np\n",
        "\n",
        "from google.colab import drive\n",
        "from datetime import date\n",
        "from panoptes_client import (\n",
        "    SubjectSet,\n",
        "    Subject,\n",
        "    Project,\n",
        "    Panoptes,\n",
        ") "
      ],
      "execution_count": null,
      "outputs": []
    },
    {
      "cell_type": "markdown",
      "metadata": {
        "id": "6Ikud4XZHGvO"
      },
      "source": [
        "### Connect to Zooniverse"
      ]
    },
    {
      "cell_type": "markdown",
      "metadata": {
        "id": "aUh4bvCGfPvt"
      },
      "source": [
        "You need to specify your Zooniverse username and password. Uploading and downloading information from Zooniverse is only accessible to those user with access to the project."
      ]
    },
    {
      "cell_type": "code",
      "metadata": {
        "id": "e8sbIcMBfMTq"
      },
      "source": [
        "# Your user name and password for Zooniverse. \n",
        "zoo_user = getpass.getpass('Enter your Zooniverse user')\n",
        "zoo_pass = getpass.getpass('Enter your Zooniverse password')\n",
        "\n",
        "\n",
        "# Connect to Zooniverse with your username and password\n",
        "auth = Panoptes.connect(username=zoo_user, password=zoo_pass)\n",
        "\n",
        "if not auth.logged_in:\n",
        "    raise AuthenticationError(\"Your credentials are invalid. Please try again.\")\n",
        "\n",
        "# Connect to the Zooniverse project (our frog project # is 13355)\n",
        "project = Project(13355)"
      ],
      "execution_count": null,
      "outputs": []
    },
    {
      "cell_type": "markdown",
      "metadata": {
        "id": "dQ9HlEUpc-Gq"
      },
      "source": [
        "#Download Zooniverse annotations"
      ]
    },
    {
      "cell_type": "code",
      "metadata": {
        "id": "4utkpbtWRcUQ"
      },
      "source": [
        "# Get the export classifications\n",
        "export = project.get_export(\"classifications\")\n",
        "\n",
        "# Save the response as pandas data frame\n",
        "classifications = pd.read_csv(\n",
        "    io.StringIO(export.content.decode(\"utf-8\")),\n",
        "    usecols=[\n",
        "             \"user_name\",\n",
        "             \"subject_ids\",\n",
        "             \"subject_data\",\n",
        "             \"classification_id\",\n",
        "             #\"workflow_id\",\n",
        "             #\"workflow_version\",\n",
        "             \"annotations\",\n",
        "             ],\n",
        "             )\n",
        "# Convert JSON strings into Python dictionaries, providing access to key-value pairs.\n",
        "classifications['annotations'] = [json.loads(q) for q in classifications.annotations]\n",
        "\n",
        "# Flatten annotations\n",
        "x =[]\n",
        "y = []\n",
        "label = []\n",
        "classification_id = []\n",
        "\n",
        "for i,row in classifications.iterrows():\n",
        "  class_id = row['classification_id']\n",
        "  \n",
        "  for t in row['annotations']:\n",
        "    # Select survey Task = T0\n",
        "    if t['task'] == 'T0':\n",
        "      if len(t['value']) > 0:\n",
        "        for l in t['value']:\n",
        "          x.append(l['x'])\n",
        "          y.append(l['y'])\n",
        "          label.append(l['tool_label'])\n",
        "          classification_id.append(class_id)\n",
        "      else:\n",
        "        x.append('')\n",
        "        y.append('')\n",
        "        label.append('')\n",
        "        classification_id.append(class_id)\n",
        "    \n",
        "# Combine all the annotations into a data frame\n",
        "annotations = pd.concat([\n",
        "                     pd.DataFrame(x, columns =['x']),\n",
        "                     pd.DataFrame(y, columns =['y']),\n",
        "                     pd.DataFrame(label, columns =['label']),\n",
        "                     pd.DataFrame(classification_id, columns =['classification_id'])],\n",
        "                    axis=1)\n",
        "\n",
        "# Drop metadata and index columns from original df\n",
        "classifications = classifications.drop(columns=[\"annotations\"])\n",
        "\n",
        "# Add metadata information based on the classification id\n",
        "flat_anotations = pd.merge(annotations, classifications, \n",
        "                           how=\"left\", on=[\"classification_id\"])\n"
      ],
      "execution_count": null,
      "outputs": []
    },
    {
      "cell_type": "markdown",
      "metadata": {
        "id": "ulm2jGz40qfs"
      },
      "source": [
        "Display a table of the dataframe with the annotations"
      ]
    },
    {
      "cell_type": "code",
      "metadata": {
        "id": "-Cjog1lU0wv1"
      },
      "source": [
        "from google.colab import data_table\n",
        "data_table.DataTable(flat_anotations)"
      ],
      "execution_count": null,
      "outputs": []
    },
    {
      "cell_type": "markdown",
      "metadata": {
        "id": "88IHOp-IIYw0"
      },
      "source": [
        "##Analyse classifications"
      ]
    },
    {
      "cell_type": "markdown",
      "metadata": {
        "id": "Gj62Nb_eVdD1"
      },
      "source": [
        "Compare the accuracy difference between three different users"
      ]
    },
    {
      "cell_type": "code",
      "metadata": {
        "id": "tGPhvgamVRqn"
      },
      "source": [
        "duplicated_annotations = flat_anotations.groupby(['subject_ids','label']).filter(lambda x: len(x) > 1)\n",
        "\n",
        "duplicated_annotations.sort_values(by=['label','subject_ids'])[['x','y','label','user_name','subject_ids']].round({'x': 1, 'y': 1})\n",
        "\n",
        "#duplicated_annotations.groupby(['subject_ids','label']).agg({'x':['max','min'],'y':['max','min']})\n"
      ],
      "execution_count": null,
      "outputs": []
    }
  ]
}