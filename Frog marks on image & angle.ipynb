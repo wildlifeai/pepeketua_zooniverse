{
 "cells": [
  {
   "cell_type": "code",
   "execution_count": 1,
   "metadata": {},
   "outputs": [],
   "source": [
    "import numpy as np\n",
    "import pandas as pd\n",
    "import cv2\n",
    "from matplotlib import pyplot as plt\n",
    "import os"
   ]
  },
  {
   "cell_type": "code",
   "execution_count": 2,
   "metadata": {},
   "outputs": [],
   "source": [
    "import ast"
   ]
  },
  {
   "cell_type": "code",
   "execution_count": 3,
   "metadata": {},
   "outputs": [],
   "source": [
    "df = pd.read_csv('C:\\\\Users\\\\Chen\\\\Frog ID\\\\Frog data\\\\flat_anotations.csv')"
   ]
  },
  {
   "cell_type": "code",
   "execution_count": 4,
   "metadata": {},
   "outputs": [
    {
     "data": {
      "text/html": [
       "<div>\n",
       "<style scoped>\n",
       "    .dataframe tbody tr th:only-of-type {\n",
       "        vertical-align: middle;\n",
       "    }\n",
       "\n",
       "    .dataframe tbody tr th {\n",
       "        vertical-align: top;\n",
       "    }\n",
       "\n",
       "    .dataframe thead th {\n",
       "        text-align: right;\n",
       "    }\n",
       "</style>\n",
       "<table border=\"1\" class=\"dataframe\">\n",
       "  <thead>\n",
       "    <tr style=\"text-align: right;\">\n",
       "      <th></th>\n",
       "      <th>x</th>\n",
       "      <th>y</th>\n",
       "      <th>label</th>\n",
       "      <th>classification_id</th>\n",
       "      <th>user_name</th>\n",
       "      <th>subject_data</th>\n",
       "      <th>subject_ids</th>\n",
       "    </tr>\n",
       "  </thead>\n",
       "  <tbody>\n",
       "    <tr>\n",
       "      <th>0</th>\n",
       "      <td>629.945068</td>\n",
       "      <td>877.188782</td>\n",
       "      <td>Tip of snout</td>\n",
       "      <td>278017541</td>\n",
       "      <td>victorav</td>\n",
       "      <td>{\"50445441\":{\"retired\":null,\"grid\":\"Grid A\",\"c...</td>\n",
       "      <td>50445441</td>\n",
       "    </tr>\n",
       "    <tr>\n",
       "      <th>1</th>\n",
       "      <td>1227.169678</td>\n",
       "      <td>910.180786</td>\n",
       "      <td>Vent</td>\n",
       "      <td>278017541</td>\n",
       "      <td>victorav</td>\n",
       "      <td>{\"50445441\":{\"retired\":null,\"grid\":\"Grid A\",\"c...</td>\n",
       "      <td>50445441</td>\n",
       "    </tr>\n",
       "    <tr>\n",
       "      <th>2</th>\n",
       "      <td>733.764771</td>\n",
       "      <td>775.934021</td>\n",
       "      <td>Right eye</td>\n",
       "      <td>278017541</td>\n",
       "      <td>victorav</td>\n",
       "      <td>{\"50445441\":{\"retired\":null,\"grid\":\"Grid A\",\"c...</td>\n",
       "      <td>50445441</td>\n",
       "    </tr>\n",
       "    <tr>\n",
       "      <th>3</th>\n",
       "      <td>738.509338</td>\n",
       "      <td>991.895691</td>\n",
       "      <td>Left eye</td>\n",
       "      <td>278017541</td>\n",
       "      <td>victorav</td>\n",
       "      <td>{\"50445441\":{\"retired\":null,\"grid\":\"Grid A\",\"c...</td>\n",
       "      <td>50445441</td>\n",
       "    </tr>\n",
       "    <tr>\n",
       "      <th>4</th>\n",
       "      <td>912.628296</td>\n",
       "      <td>750.835022</td>\n",
       "      <td>Right front leg</td>\n",
       "      <td>278017541</td>\n",
       "      <td>victorav</td>\n",
       "      <td>{\"50445441\":{\"retired\":null,\"grid\":\"Grid A\",\"c...</td>\n",
       "      <td>50445441</td>\n",
       "    </tr>\n",
       "  </tbody>\n",
       "</table>\n",
       "</div>"
      ],
      "text/plain": [
       "             x           y            label  classification_id user_name  \\\n",
       "0   629.945068  877.188782     Tip of snout          278017541  victorav   \n",
       "1  1227.169678  910.180786             Vent          278017541  victorav   \n",
       "2   733.764771  775.934021        Right eye          278017541  victorav   \n",
       "3   738.509338  991.895691         Left eye          278017541  victorav   \n",
       "4   912.628296  750.835022  Right front leg          278017541  victorav   \n",
       "\n",
       "                                        subject_data  subject_ids  \n",
       "0  {\"50445441\":{\"retired\":null,\"grid\":\"Grid A\",\"c...     50445441  \n",
       "1  {\"50445441\":{\"retired\":null,\"grid\":\"Grid A\",\"c...     50445441  \n",
       "2  {\"50445441\":{\"retired\":null,\"grid\":\"Grid A\",\"c...     50445441  \n",
       "3  {\"50445441\":{\"retired\":null,\"grid\":\"Grid A\",\"c...     50445441  \n",
       "4  {\"50445441\":{\"retired\":null,\"grid\":\"Grid A\",\"c...     50445441  "
      ]
     },
     "execution_count": 4,
     "metadata": {},
     "output_type": "execute_result"
    }
   ],
   "source": [
    "df.head()"
   ]
  },
  {
   "cell_type": "code",
   "execution_count": 5,
   "metadata": {},
   "outputs": [],
   "source": [
    "df['data_filename']=df.subject_data.str.replace(\"null\",\"0\")"
   ]
  },
  {
   "cell_type": "code",
   "execution_count": 6,
   "metadata": {},
   "outputs": [
    {
     "data": {
      "text/html": [
       "<div>\n",
       "<style scoped>\n",
       "    .dataframe tbody tr th:only-of-type {\n",
       "        vertical-align: middle;\n",
       "    }\n",
       "\n",
       "    .dataframe tbody tr th {\n",
       "        vertical-align: top;\n",
       "    }\n",
       "\n",
       "    .dataframe thead th {\n",
       "        text-align: right;\n",
       "    }\n",
       "</style>\n",
       "<table border=\"1\" class=\"dataframe\">\n",
       "  <thead>\n",
       "    <tr style=\"text-align: right;\">\n",
       "      <th></th>\n",
       "      <th>x</th>\n",
       "      <th>y</th>\n",
       "      <th>label</th>\n",
       "      <th>classification_id</th>\n",
       "      <th>user_name</th>\n",
       "      <th>subject_data</th>\n",
       "      <th>subject_ids</th>\n",
       "      <th>data_filename</th>\n",
       "    </tr>\n",
       "  </thead>\n",
       "  <tbody>\n",
       "    <tr>\n",
       "      <th>0</th>\n",
       "      <td>629.945068</td>\n",
       "      <td>877.188782</td>\n",
       "      <td>Tip of snout</td>\n",
       "      <td>278017541</td>\n",
       "      <td>victorav</td>\n",
       "      <td>{\"50445441\":{\"retired\":null,\"grid\":\"Grid A\",\"c...</td>\n",
       "      <td>50445441</td>\n",
       "      <td>{\"50445441\":{\"retired\":0,\"grid\":\"Grid A\",\"capt...</td>\n",
       "    </tr>\n",
       "    <tr>\n",
       "      <th>1</th>\n",
       "      <td>1227.169678</td>\n",
       "      <td>910.180786</td>\n",
       "      <td>Vent</td>\n",
       "      <td>278017541</td>\n",
       "      <td>victorav</td>\n",
       "      <td>{\"50445441\":{\"retired\":null,\"grid\":\"Grid A\",\"c...</td>\n",
       "      <td>50445441</td>\n",
       "      <td>{\"50445441\":{\"retired\":0,\"grid\":\"Grid A\",\"capt...</td>\n",
       "    </tr>\n",
       "    <tr>\n",
       "      <th>2</th>\n",
       "      <td>733.764771</td>\n",
       "      <td>775.934021</td>\n",
       "      <td>Right eye</td>\n",
       "      <td>278017541</td>\n",
       "      <td>victorav</td>\n",
       "      <td>{\"50445441\":{\"retired\":null,\"grid\":\"Grid A\",\"c...</td>\n",
       "      <td>50445441</td>\n",
       "      <td>{\"50445441\":{\"retired\":0,\"grid\":\"Grid A\",\"capt...</td>\n",
       "    </tr>\n",
       "    <tr>\n",
       "      <th>3</th>\n",
       "      <td>738.509338</td>\n",
       "      <td>991.895691</td>\n",
       "      <td>Left eye</td>\n",
       "      <td>278017541</td>\n",
       "      <td>victorav</td>\n",
       "      <td>{\"50445441\":{\"retired\":null,\"grid\":\"Grid A\",\"c...</td>\n",
       "      <td>50445441</td>\n",
       "      <td>{\"50445441\":{\"retired\":0,\"grid\":\"Grid A\",\"capt...</td>\n",
       "    </tr>\n",
       "    <tr>\n",
       "      <th>4</th>\n",
       "      <td>912.628296</td>\n",
       "      <td>750.835022</td>\n",
       "      <td>Right front leg</td>\n",
       "      <td>278017541</td>\n",
       "      <td>victorav</td>\n",
       "      <td>{\"50445441\":{\"retired\":null,\"grid\":\"Grid A\",\"c...</td>\n",
       "      <td>50445441</td>\n",
       "      <td>{\"50445441\":{\"retired\":0,\"grid\":\"Grid A\",\"capt...</td>\n",
       "    </tr>\n",
       "  </tbody>\n",
       "</table>\n",
       "</div>"
      ],
      "text/plain": [
       "             x           y            label  classification_id user_name  \\\n",
       "0   629.945068  877.188782     Tip of snout          278017541  victorav   \n",
       "1  1227.169678  910.180786             Vent          278017541  victorav   \n",
       "2   733.764771  775.934021        Right eye          278017541  victorav   \n",
       "3   738.509338  991.895691         Left eye          278017541  victorav   \n",
       "4   912.628296  750.835022  Right front leg          278017541  victorav   \n",
       "\n",
       "                                        subject_data  subject_ids  \\\n",
       "0  {\"50445441\":{\"retired\":null,\"grid\":\"Grid A\",\"c...     50445441   \n",
       "1  {\"50445441\":{\"retired\":null,\"grid\":\"Grid A\",\"c...     50445441   \n",
       "2  {\"50445441\":{\"retired\":null,\"grid\":\"Grid A\",\"c...     50445441   \n",
       "3  {\"50445441\":{\"retired\":null,\"grid\":\"Grid A\",\"c...     50445441   \n",
       "4  {\"50445441\":{\"retired\":null,\"grid\":\"Grid A\",\"c...     50445441   \n",
       "\n",
       "                                       data_filename  \n",
       "0  {\"50445441\":{\"retired\":0,\"grid\":\"Grid A\",\"capt...  \n",
       "1  {\"50445441\":{\"retired\":0,\"grid\":\"Grid A\",\"capt...  \n",
       "2  {\"50445441\":{\"retired\":0,\"grid\":\"Grid A\",\"capt...  \n",
       "3  {\"50445441\":{\"retired\":0,\"grid\":\"Grid A\",\"capt...  \n",
       "4  {\"50445441\":{\"retired\":0,\"grid\":\"Grid A\",\"capt...  "
      ]
     },
     "execution_count": 6,
     "metadata": {},
     "output_type": "execute_result"
    }
   ],
   "source": [
    "df.head()"
   ]
  },
  {
   "cell_type": "code",
   "execution_count": 7,
   "metadata": {},
   "outputs": [],
   "source": [
    "df['fig_name']=df['data_filename'].apply(lambda x: ast.literal_eval(x)[list(eval(x).keys())[0]]['filename'])"
   ]
  },
  {
   "cell_type": "code",
   "execution_count": 8,
   "metadata": {},
   "outputs": [],
   "source": [
    "df['frog_id']=df['data_filename'].apply(lambda x: ast.literal_eval(x)[list(eval(x).keys())[0]]['frog_id'])"
   ]
  },
  {
   "cell_type": "code",
   "execution_count": 9,
   "metadata": {},
   "outputs": [
    {
     "data": {
      "text/html": [
       "<div>\n",
       "<style scoped>\n",
       "    .dataframe tbody tr th:only-of-type {\n",
       "        vertical-align: middle;\n",
       "    }\n",
       "\n",
       "    .dataframe tbody tr th {\n",
       "        vertical-align: top;\n",
       "    }\n",
       "\n",
       "    .dataframe thead th {\n",
       "        text-align: right;\n",
       "    }\n",
       "</style>\n",
       "<table border=\"1\" class=\"dataframe\">\n",
       "  <thead>\n",
       "    <tr style=\"text-align: right;\">\n",
       "      <th></th>\n",
       "      <th>x</th>\n",
       "      <th>y</th>\n",
       "      <th>label</th>\n",
       "      <th>classification_id</th>\n",
       "      <th>user_name</th>\n",
       "      <th>subject_data</th>\n",
       "      <th>subject_ids</th>\n",
       "      <th>data_filename</th>\n",
       "      <th>fig_name</th>\n",
       "      <th>frog_id</th>\n",
       "    </tr>\n",
       "  </thead>\n",
       "  <tbody>\n",
       "    <tr>\n",
       "      <th>0</th>\n",
       "      <td>629.945068</td>\n",
       "      <td>877.188782</td>\n",
       "      <td>Tip of snout</td>\n",
       "      <td>278017541</td>\n",
       "      <td>victorav</td>\n",
       "      <td>{\"50445441\":{\"retired\":null,\"grid\":\"Grid A\",\"c...</td>\n",
       "      <td>50445441</td>\n",
       "      <td>{\"50445441\":{\"retired\":0,\"grid\":\"Grid A\",\"capt...</td>\n",
       "      <td>00_0-357.jpg</td>\n",
       "      <td>130</td>\n",
       "    </tr>\n",
       "    <tr>\n",
       "      <th>1</th>\n",
       "      <td>1227.169678</td>\n",
       "      <td>910.180786</td>\n",
       "      <td>Vent</td>\n",
       "      <td>278017541</td>\n",
       "      <td>victorav</td>\n",
       "      <td>{\"50445441\":{\"retired\":null,\"grid\":\"Grid A\",\"c...</td>\n",
       "      <td>50445441</td>\n",
       "      <td>{\"50445441\":{\"retired\":0,\"grid\":\"Grid A\",\"capt...</td>\n",
       "      <td>00_0-357.jpg</td>\n",
       "      <td>130</td>\n",
       "    </tr>\n",
       "    <tr>\n",
       "      <th>2</th>\n",
       "      <td>733.764771</td>\n",
       "      <td>775.934021</td>\n",
       "      <td>Right eye</td>\n",
       "      <td>278017541</td>\n",
       "      <td>victorav</td>\n",
       "      <td>{\"50445441\":{\"retired\":null,\"grid\":\"Grid A\",\"c...</td>\n",
       "      <td>50445441</td>\n",
       "      <td>{\"50445441\":{\"retired\":0,\"grid\":\"Grid A\",\"capt...</td>\n",
       "      <td>00_0-357.jpg</td>\n",
       "      <td>130</td>\n",
       "    </tr>\n",
       "    <tr>\n",
       "      <th>3</th>\n",
       "      <td>738.509338</td>\n",
       "      <td>991.895691</td>\n",
       "      <td>Left eye</td>\n",
       "      <td>278017541</td>\n",
       "      <td>victorav</td>\n",
       "      <td>{\"50445441\":{\"retired\":null,\"grid\":\"Grid A\",\"c...</td>\n",
       "      <td>50445441</td>\n",
       "      <td>{\"50445441\":{\"retired\":0,\"grid\":\"Grid A\",\"capt...</td>\n",
       "      <td>00_0-357.jpg</td>\n",
       "      <td>130</td>\n",
       "    </tr>\n",
       "    <tr>\n",
       "      <th>4</th>\n",
       "      <td>912.628296</td>\n",
       "      <td>750.835022</td>\n",
       "      <td>Right front leg</td>\n",
       "      <td>278017541</td>\n",
       "      <td>victorav</td>\n",
       "      <td>{\"50445441\":{\"retired\":null,\"grid\":\"Grid A\",\"c...</td>\n",
       "      <td>50445441</td>\n",
       "      <td>{\"50445441\":{\"retired\":0,\"grid\":\"Grid A\",\"capt...</td>\n",
       "      <td>00_0-357.jpg</td>\n",
       "      <td>130</td>\n",
       "    </tr>\n",
       "    <tr>\n",
       "      <th>5</th>\n",
       "      <td>894.585632</td>\n",
       "      <td>993.976257</td>\n",
       "      <td>Left front leg</td>\n",
       "      <td>278017541</td>\n",
       "      <td>victorav</td>\n",
       "      <td>{\"50445441\":{\"retired\":null,\"grid\":\"Grid A\",\"c...</td>\n",
       "      <td>50445441</td>\n",
       "      <td>{\"50445441\":{\"retired\":0,\"grid\":\"Grid A\",\"capt...</td>\n",
       "      <td>00_0-357.jpg</td>\n",
       "      <td>130</td>\n",
       "    </tr>\n",
       "    <tr>\n",
       "      <th>6</th>\n",
       "      <td>741.838806</td>\n",
       "      <td>1128.011841</td>\n",
       "      <td>Tip of snout</td>\n",
       "      <td>278017631</td>\n",
       "      <td>victorav</td>\n",
       "      <td>{\"50445447\":{\"retired\":null,\"grid\":\"Grid B\",\"c...</td>\n",
       "      <td>50445447</td>\n",
       "      <td>{\"50445447\":{\"retired\":0,\"grid\":\"Grid B\",\"capt...</td>\n",
       "      <td>1100-2578.jpg</td>\n",
       "      <td>171</td>\n",
       "    </tr>\n",
       "    <tr>\n",
       "      <th>7</th>\n",
       "      <td>1328.153687</td>\n",
       "      <td>1027.318481</td>\n",
       "      <td>Vent</td>\n",
       "      <td>278017631</td>\n",
       "      <td>victorav</td>\n",
       "      <td>{\"50445447\":{\"retired\":null,\"grid\":\"Grid B\",\"c...</td>\n",
       "      <td>50445447</td>\n",
       "      <td>{\"50445447\":{\"retired\":0,\"grid\":\"Grid B\",\"capt...</td>\n",
       "      <td>1100-2578.jpg</td>\n",
       "      <td>171</td>\n",
       "    </tr>\n",
       "  </tbody>\n",
       "</table>\n",
       "</div>"
      ],
      "text/plain": [
       "             x            y            label  classification_id user_name  \\\n",
       "0   629.945068   877.188782     Tip of snout          278017541  victorav   \n",
       "1  1227.169678   910.180786             Vent          278017541  victorav   \n",
       "2   733.764771   775.934021        Right eye          278017541  victorav   \n",
       "3   738.509338   991.895691         Left eye          278017541  victorav   \n",
       "4   912.628296   750.835022  Right front leg          278017541  victorav   \n",
       "5   894.585632   993.976257   Left front leg          278017541  victorav   \n",
       "6   741.838806  1128.011841     Tip of snout          278017631  victorav   \n",
       "7  1328.153687  1027.318481             Vent          278017631  victorav   \n",
       "\n",
       "                                        subject_data  subject_ids  \\\n",
       "0  {\"50445441\":{\"retired\":null,\"grid\":\"Grid A\",\"c...     50445441   \n",
       "1  {\"50445441\":{\"retired\":null,\"grid\":\"Grid A\",\"c...     50445441   \n",
       "2  {\"50445441\":{\"retired\":null,\"grid\":\"Grid A\",\"c...     50445441   \n",
       "3  {\"50445441\":{\"retired\":null,\"grid\":\"Grid A\",\"c...     50445441   \n",
       "4  {\"50445441\":{\"retired\":null,\"grid\":\"Grid A\",\"c...     50445441   \n",
       "5  {\"50445441\":{\"retired\":null,\"grid\":\"Grid A\",\"c...     50445441   \n",
       "6  {\"50445447\":{\"retired\":null,\"grid\":\"Grid B\",\"c...     50445447   \n",
       "7  {\"50445447\":{\"retired\":null,\"grid\":\"Grid B\",\"c...     50445447   \n",
       "\n",
       "                                       data_filename       fig_name frog_id  \n",
       "0  {\"50445441\":{\"retired\":0,\"grid\":\"Grid A\",\"capt...   00_0-357.jpg     130  \n",
       "1  {\"50445441\":{\"retired\":0,\"grid\":\"Grid A\",\"capt...   00_0-357.jpg     130  \n",
       "2  {\"50445441\":{\"retired\":0,\"grid\":\"Grid A\",\"capt...   00_0-357.jpg     130  \n",
       "3  {\"50445441\":{\"retired\":0,\"grid\":\"Grid A\",\"capt...   00_0-357.jpg     130  \n",
       "4  {\"50445441\":{\"retired\":0,\"grid\":\"Grid A\",\"capt...   00_0-357.jpg     130  \n",
       "5  {\"50445441\":{\"retired\":0,\"grid\":\"Grid A\",\"capt...   00_0-357.jpg     130  \n",
       "6  {\"50445447\":{\"retired\":0,\"grid\":\"Grid B\",\"capt...  1100-2578.jpg     171  \n",
       "7  {\"50445447\":{\"retired\":0,\"grid\":\"Grid B\",\"capt...  1100-2578.jpg     171  "
      ]
     },
     "execution_count": 9,
     "metadata": {},
     "output_type": "execute_result"
    }
   ],
   "source": [
    "df.head(8)"
   ]
  },
  {
   "cell_type": "code",
   "execution_count": 10,
   "metadata": {},
   "outputs": [],
   "source": [
    "path='C:\\\\Users\\\\Chen\\\\Frog ID\\\\whareorino_a\\\\Grid A\\\\Individual Frogs'"
   ]
  },
  {
   "cell_type": "code",
   "execution_count": 11,
   "metadata": {},
   "outputs": [],
   "source": [
    "image=cv2.imread(os.path.join(path,df['frog_id'].iloc[25],df['fig_name'].iloc[25]))"
   ]
  },
  {
   "cell_type": "code",
   "execution_count": 12,
   "metadata": {},
   "outputs": [],
   "source": [
    "cv2.imshow('image',image)\n",
    "cv2.cv2.waitKey(0) # משך זמן הצגת תמונה-0 אין סוף  \n",
    "cv2.destroyAllWindows() #"
   ]
  },
  {
   "cell_type": "code",
   "execution_count": 16,
   "metadata": {},
   "outputs": [],
   "source": [
    "# פונקציה שמגדירה איך להקטין תמונה תוך שמירה על פורפורציות\n",
    "def ResizeWithAspectRatio(image, width=None, height=None, inter=cv2.INTER_AREA):\n",
    "    dim = None\n",
    "    (h, w) = image.shape[:2]\n",
    "\n",
    "    if width is None and height is None:\n",
    "        return image\n",
    "    if width is None:\n",
    "        r = height / float(h)\n",
    "        dim = (int(w * r), height)\n",
    "    else:\n",
    "        r = width / float(w)\n",
    "        dim = (width, int(h * r))\n",
    "\n",
    "    return cv2.resize(image, dim, interpolation=inter)"
   ]
  },
  {
   "cell_type": "code",
   "execution_count": 17,
   "metadata": {},
   "outputs": [],
   "source": [
    "def open_img(filepath):\n",
    "    \n",
    "    img=cv2.imread(filepath) # התמונה\n",
    "    mark=cv2.circle(img, (int(df['x'].iloc[0]),int(df['y'].iloc[0])),10,(0,0,255))\n",
    "    resize = ResizeWithAspectRatio(mark, width=900) # התמונה מוקטנת\n",
    "    #mark=cv2.circle(resize, (140,140),5,(0,0,255))\n",
    "\n",
    "    \n",
    "    cv2.imshow(\"Image number {}\".format(filepath), resize)\n",
    "    cv2.cv2.waitKey(0) # משך זמן הצגת תמונה-0 אין סוף  \n",
    "    cv2.destroyAllWindows() # "
   ]
  },
  {
   "cell_type": "code",
   "execution_count": 18,
   "metadata": {},
   "outputs": [],
   "source": [
    "def open_img(filepath):\n",
    "    \n",
    "    img=cv2.imread(filepath) # התמונה\n",
    "    mark=cv2.circle(img, (int(df['x'].iloc[0]),int(df['y'].iloc[0])),10,(0,0,255),5)\n",
    "    mark1=cv2.circle(mark, (int(df['x'].iloc[1]),int(df['y'].iloc[1])),10,(0,0,255),5)\n",
    "    mark2=cv2.circle(mark1, (int(df['x'].iloc[2]),int(df['y'].iloc[2])),10,(0,0,255),5)\n",
    "    mark3=cv2.circle(mark2, (int(df['x'].iloc[3]),int(df['y'].iloc[3])),10,(0,0,255),5)\n",
    "    mark4=cv2.circle(mark3, (int(df['x'].iloc[4]),int(df['y'].iloc[4])),10,(0,0,255),5)\n",
    "    mark5=cv2.circle(mark4, (int(df['x'].iloc[5]),int(df['y'].iloc[5])),10,(0,0,255),5)\n",
    "    resize = ResizeWithAspectRatio(mark5, width=900) # התמונה מוקטנת\n",
    "    \n",
    "\n",
    "    \n",
    "    cv2.imshow(\"Image number {}\".format(filepath), resize)\n",
    "    cv2.cv2.waitKey(0) # משך זמן הצגת תמונה-0 אין סוף  \n",
    "    cv2.destroyAllWindows() # "
   ]
  },
  {
   "cell_type": "code",
   "execution_count": 38,
   "metadata": {},
   "outputs": [],
   "source": [
    "def open_img(filepath, df):\n",
    "    \n",
    "    snout=(int(df['x'].iloc[0]),int(df['y'].iloc[0]))\n",
    "    vent=(int(df['x'].iloc[1]),int(df['y'].iloc[1]))\n",
    "    reye=(int(df['x'].iloc[2]),int(df['y'].iloc[2]))\n",
    "    leye=(int(df['x'].iloc[3]),int(df['y'].iloc[3]))\n",
    "    rleg=(int(df['x'].iloc[4]),int(df['y'].iloc[4]))\n",
    "    lleg=(int(df['x'].iloc[5]),int(df['y'].iloc[5]))\n",
    "\n",
    "    img=cv2.imread(filepath) # התמונה\n",
    "    mark=cv2.circle(img, snout,10,(0,0,255),4)\n",
    "    mark1=cv2.circle(mark, vent,10,(0,0,255),4)\n",
    "    mark2=cv2.circle(mark1, reye,10,(0,0,255),4)\n",
    "    mark3=cv2.circle(mark2, leye,10,(0,0,255),4)\n",
    "    mark4=cv2.circle(mark3, rleg,10,(0,0,255),4)\n",
    "    mark5=cv2.circle(mark4, lleg,10,(0,0,255),4)\n",
    "    snout_ventline=cv2.line(mark5, snout, vent, (0,0,255), 3)\n",
    "    eyeline=cv2.line(mark5, reye, leye, (0,0,255), 3)\n",
    "    legline=cv2.line(mark5, rleg, lleg, (0,0,255), 3)\n",
    "    resize = ResizeWithAspectRatio(mark5, width=900) # התמונה מוקטנת\n",
    "    \n",
    "\n",
    "    \n",
    "    cv2.imshow(\"Image number {}\".format(filepath), resize)\n",
    "    cv2.cv2.waitKey(0) # משך זמן הצגת תמונה-0 אין סוף  \n",
    "    cv2.destroyAllWindows() # "
   ]
  },
  {
   "cell_type": "code",
   "execution_count": 28,
   "metadata": {},
   "outputs": [
    {
     "ename": "SyntaxError",
     "evalue": "expression cannot contain assignment, perhaps you meant \"==\"? (<ipython-input-28-f4a5ac1abe77>, line 1)",
     "output_type": "error",
     "traceback": [
      "\u001b[1;36m  File \u001b[1;32m\"<ipython-input-28-f4a5ac1abe77>\"\u001b[1;36m, line \u001b[1;32m1\u001b[0m\n\u001b[1;33m    open_img(os.path.join(path,df['frog_id'].iloc[0],df['fig_name']='0000-65.jpg'))\u001b[0m\n\u001b[1;37m                                                     ^\u001b[0m\n\u001b[1;31mSyntaxError\u001b[0m\u001b[1;31m:\u001b[0m expression cannot contain assignment, perhaps you meant \"==\"?\n"
     ]
    }
   ],
   "source": [
    "open_img(os.path.join(path,df['frog_id'].iloc[0],df['fig_name']='0000-65.jpg'))"
   ]
  },
  {
   "cell_type": "code",
   "execution_count": 36,
   "metadata": {},
   "outputs": [],
   "source": [
    "df149=df[df['fig_name']=='0000-149.jpg']"
   ]
  },
  {
   "cell_type": "code",
   "execution_count": 33,
   "metadata": {},
   "outputs": [
    {
     "data": {
      "text/plain": [
       "array(['00_0-357.jpg', '1100-2578.jpg', '1100-8058.JPG', ...,\n",
       "       '0110-8723.JPG', '0000-149.jpg', '1000-464.jpg'], dtype=object)"
      ]
     },
     "execution_count": 33,
     "metadata": {},
     "output_type": "execute_result"
    }
   ],
   "source": [
    "df['fig_name'].unique()"
   ]
  },
  {
   "cell_type": "code",
   "execution_count": 39,
   "metadata": {},
   "outputs": [],
   "source": [
    "open_img(os.path.join(path,df149['frog_id'].iloc[0],df149['fig_name'].iloc[0]), df149)"
   ]
  },
  {
   "cell_type": "code",
   "execution_count": 23,
   "metadata": {},
   "outputs": [],
   "source": [
    "import math"
   ]
  },
  {
   "cell_type": "code",
   "execution_count": 24,
   "metadata": {},
   "outputs": [],
   "source": [
    "#A function that measures an angle between 2 lines:\n",
    "\n",
    "def dot(vA, vB):\n",
    "    return vA[0]*vB[0]+vA[1]*vB[1]\n",
    "\n",
    "def ang(lineA, lineB):\n",
    "    # Get nicer vector form\n",
    "    vA = [(lineA[0][0]-lineA[1][0]), (lineA[0][1]-lineA[1][1])]\n",
    "    vB = [(lineB[0][0]-lineB[1][0]), (lineB[0][1]-lineB[1][1])]\n",
    "    # Get dot prod\n",
    "    dot_prod = dot(vA, vB)\n",
    "    # Get magnitudes\n",
    "    magA = dot(vA, vA)**0.5\n",
    "    magB = dot(vB, vB)**0.5\n",
    "    # Get cosine value\n",
    "    cos_ = dot_prod/magA/magB\n",
    "    # Get angle in radians and then convert to degrees\n",
    "    angle = math.acos(dot_prod/magB/magA)\n",
    "    # Basically doing angle <- angle mod 360\n",
    "    ang_deg = math.degrees(angle)%360\n",
    "\n",
    "    if ang_deg-180>=0:\n",
    "        # As in if statement\n",
    "        return 360 - ang_deg\n",
    "    else: \n",
    "\n",
    "        return ang_deg"
   ]
  },
  {
   "cell_type": "code",
   "execution_count": null,
   "metadata": {},
   "outputs": [],
   "source": []
  },
  {
   "cell_type": "code",
   "execution_count": 40,
   "metadata": {},
   "outputs": [],
   "source": [
    "# 6 points are defined :\n",
    "def comput_ang(df):\n",
    "#change to float\n",
    "    snout=(int(df['x'].iloc[0]),int(df['y'].iloc[0]))\n",
    "    vent=(int(df['x'].iloc[1]),int(df['y'].iloc[1]))\n",
    "    reye=(int(df['x'].iloc[2]),int(df['y'].iloc[2]))\n",
    "    leye=(int(df['x'].iloc[3]),int(df['y'].iloc[3]))\n",
    "    rleg=(int(df['x'].iloc[4]),int(df['y'].iloc[4]))\n",
    "    lleg=(int(df['x'].iloc[5]),int(df['y'].iloc[5]))\n",
    "\n",
    "    snout_ventline=(snout, vent)\n",
    "    eyeline=(reye, leye)\n",
    "    legline=(rleg, lleg)\n",
    "    return snout_ventline, eyeline, legline"
   ]
  },
  {
   "cell_type": "code",
   "execution_count": 41,
   "metadata": {},
   "outputs": [],
   "source": [
    "ventline149, eyeline149, legline149 = comput_ang(df149)"
   ]
  },
  {
   "cell_type": "code",
   "execution_count": 42,
   "metadata": {},
   "outputs": [
    {
     "data": {
      "text/plain": [
       "95.46476764417719"
      ]
     },
     "execution_count": 42,
     "metadata": {},
     "output_type": "execute_result"
    }
   ],
   "source": [
    "ang(ventline149, eyeline149)"
   ]
  },
  {
   "cell_type": "code",
   "execution_count": 45,
   "metadata": {},
   "outputs": [
    {
     "data": {
      "text/plain": [
       "99.23213553501175"
      ]
     },
     "execution_count": 45,
     "metadata": {},
     "output_type": "execute_result"
    }
   ],
   "source": [
    "ang(ventline149, legline149)"
   ]
  },
  {
   "cell_type": "code",
   "execution_count": null,
   "metadata": {},
   "outputs": [],
   "source": []
  }
 ],
 "metadata": {
  "kernelspec": {
   "display_name": "Python 3",
   "language": "python",
   "name": "python3"
  },
  "language_info": {
   "codemirror_mode": {
    "name": "ipython",
    "version": 3
   },
   "file_extension": ".py",
   "mimetype": "text/x-python",
   "name": "python",
   "nbconvert_exporter": "python",
   "pygments_lexer": "ipython3",
   "version": "3.8.5"
  }
 },
 "nbformat": 4,
 "nbformat_minor": 4
}
