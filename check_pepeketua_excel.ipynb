{
  "nbformat": 4,
  "nbformat_minor": 0,
  "metadata": {
    "colab": {
      "provenance": [],
      "include_colab_link": true
    },
    "kernelspec": {
      "name": "python3",
      "display_name": "Python 3"
    }
  },
  "cells": [
    {
      "cell_type": "markdown",
      "metadata": {
        "id": "view-in-github",
        "colab_type": "text"
      },
      "source": [
        "<a href=\"https://colab.research.google.com/github/wildlifeai/pepeketua_zooniverse/blob/main/check_pepeketua_excel.ipynb\" target=\"_parent\"><img src=\"https://colab.research.google.com/assets/colab-badge.svg\" alt=\"Open In Colab\"/></a>"
      ]
    },
    {
      "cell_type": "markdown",
      "metadata": {
        "id": "Kvs6P42y4QT0"
      },
      "source": [
        "This notebook contains the scripts to map the identification data of Archey's frogs (excel spreadsheet) with the actual photos of the frogs."
      ]
    },
    {
      "cell_type": "markdown",
      "metadata": {
        "id": "JcT2UBUcdj-a"
      },
      "source": [
        "#Requirements"
      ]
    },
    {
      "cell_type": "markdown",
      "metadata": {
        "id": "79i1Eyx4HdvF"
      },
      "source": [
        "### Load required libraries"
      ]
    },
    {
      "cell_type": "markdown",
      "metadata": {
        "id": "dBrZIug5d896"
      },
      "source": [
        "Load generic libraries"
      ]
    },
    {
      "cell_type": "code",
      "source": [
        "!pip install --upgrade xlrd"
      ],
      "metadata": {
        "colab": {
          "base_uri": "https://localhost:8080/"
        },
        "id": "DUiiOTSMjb1R",
        "outputId": "caf81404-5b0b-4df5-f787-4a4a8fff225f"
      },
      "execution_count": null,
      "outputs": [
        {
          "output_type": "stream",
          "name": "stdout",
          "text": [
            "Looking in indexes: https://pypi.org/simple, https://us-python.pkg.dev/colab-wheels/public/simple/\n",
            "Requirement already satisfied: xlrd in /usr/local/lib/python3.8/dist-packages (1.1.0)\n",
            "Collecting xlrd\n",
            "  Downloading xlrd-2.0.1-py2.py3-none-any.whl (96 kB)\n",
            "\u001b[K     |████████████████████████████████| 96 kB 967 kB/s \n",
            "\u001b[?25hInstalling collected packages: xlrd\n",
            "  Attempting uninstall: xlrd\n",
            "    Found existing installation: xlrd 1.1.0\n",
            "    Uninstalling xlrd-1.1.0:\n",
            "      Successfully uninstalled xlrd-1.1.0\n",
            "Successfully installed xlrd-2.0.1\n"
          ]
        }
      ]
    },
    {
      "cell_type": "code",
      "metadata": {
        "id": "RYnsIFqAeBOT"
      },
      "source": [
        "import io, os\n",
        "import zipfile\n",
        "import json\n",
        "import pandas as pd\n",
        "import numpy as np\n",
        "\n",
        "from google.colab import drive\n",
        "from datetime import date"
      ],
      "execution_count": null,
      "outputs": []
    },
    {
      "cell_type": "markdown",
      "metadata": {
        "id": "v0xYgC4-c4E3"
      },
      "source": [
        "#Load the path of the photos"
      ]
    },
    {
      "cell_type": "markdown",
      "metadata": {
        "id": "vW-EFyImA8fy"
      },
      "source": [
        "###Add shortcuts to the compressed photos"
      ]
    },
    {
      "cell_type": "markdown",
      "metadata": {
        "id": "DdLfczSGA9aL"
      },
      "source": [
        "To download the photos of the frogs into this Google Colab you first need to add shortcuts in your Google drive to the [five zipped folders](https://drive.google.com/file/d/1XXSrATFX1l-J0CUE4m6UfoOBp9zv3XOr/view?usp=sharing) with the photos. \n",
        "\n",
        "To add the shortcuts:\n",
        "* go to the \"Shared with me\" section in your Google drive,\n",
        "* find the five zipped folders,\n",
        "* click on \"Add shorcut to Drive\" and\n",
        "* save the shortcuts (we created a folder called \"frog_photos\" and saved them there)."
      ]
    },
    {
      "cell_type": "markdown",
      "metadata": {
        "id": "i4n9rLaUBIaQ"
      },
      "source": [
        "*Specify* the folder in your Google drive where you saved the shortcuts to the photos (in our case \"frog_photos\")."
      ]
    },
    {
      "cell_type": "code",
      "metadata": {
        "id": "_-mA0G4XBEti"
      },
      "source": [
        "dir_shortcuts = \"/content/drive/MyDrive/Projects/pepeketua_id/frog_photos/\""
      ],
      "execution_count": null,
      "outputs": []
    },
    {
      "cell_type": "markdown",
      "metadata": {
        "id": "OPDH9kwjBOr5"
      },
      "source": [
        "*If you can't access the five zipped folders please [email Victor](victor@wildlife.ai). "
      ]
    },
    {
      "cell_type": "markdown",
      "metadata": {
        "id": "eJcn0ys34ycz"
      },
      "source": [
        "###Load the zipped files"
      ]
    },
    {
      "cell_type": "markdown",
      "metadata": {
        "id": "-RPy3EYdBPo7"
      },
      "source": [
        "To download the five zip folders with the photos you will need to grant access to the Google file stream. \n",
        "\n"
      ]
    },
    {
      "cell_type": "code",
      "metadata": {
        "id": "3-QJXJoNrQR6",
        "outputId": "557a92d7-28e8-4bb9-f9b9-4f685a5c9db9",
        "colab": {
          "base_uri": "https://localhost:8080/"
        }
      },
      "source": [
        "# Mount the drive in colab\n",
        "drive.mount('/content/drive/')\n",
        "\n",
        "# Load the five zipped files\n",
        "whareorino_a = zipfile.ZipFile(dir_shortcuts + \"whareorino_a.zip\", 'r')\n",
        "whareorino_b = zipfile.ZipFile(dir_shortcuts + \"whareorino_b.zip\", 'r')\n",
        "whareorino_c = zipfile.ZipFile(dir_shortcuts + \"whareorino_c.zip\", 'r')\n",
        "whareorino_d = zipfile.ZipFile(dir_shortcuts + \"whareorino_d.zip\", 'r')\n",
        "pukeokahu = zipfile.ZipFile(dir_shortcuts + \"pukeokahu.zip\", 'r')\n",
        "\n",
        "# Extract the filepath of the photos of individual frogs\n",
        "zips = [whareorino_a, whareorino_b, whareorino_c, whareorino_d, pukeokahu]\n",
        "pdList = []\n",
        "\n",
        "for zip_file in zips:\n",
        "  zip_pd = pd.DataFrame(\n",
        "      [x for x in zip_file.namelist() if 'Individual Frogs' in x and not x.endswith(('.db','/','Store'))]\n",
        "      )\n",
        "  pdList.append(zip_pd)\n",
        "\n",
        "# Combine the file paths of the five grids into a single data frame\n",
        "frog_df = pd.concat(pdList)\n"
      ],
      "execution_count": null,
      "outputs": [
        {
          "output_type": "stream",
          "name": "stdout",
          "text": [
            "Mounted at /content/drive/\n"
          ]
        }
      ]
    },
    {
      "cell_type": "markdown",
      "metadata": {
        "id": "fKgOvCsEX3lI"
      },
      "source": [
        "## Prepare information related to the photos"
      ]
    },
    {
      "cell_type": "code",
      "metadata": {
        "id": "U0Gp-086GaCn"
      },
      "source": [
        "# Rename the column of df\n",
        "frog_df = frog_df.rename(columns={0: \"filepath\"})\n",
        "\n",
        "# Add new columns using directory and filename information\n",
        "directories = frog_df['filepath'].str.split(\"/\", n = 4, expand = True)\n",
        "\n",
        "# Add the grid, frog_id, filename, and capture cols \n",
        "frog_df[\"grid\"] = directories[0]\n",
        "frog_df[\"frog_id\"] = directories[2] \n",
        "frog_df[\"filename\"] = directories[3]  \n",
        "frog_df[\"Capture photo code\"] = frog_df[\"filename\"].str.split(\".\",1, expand = True)[0] \n",
        "frog_df[\"capture\"] = frog_df[\"filename\"].str.split(\".\",1, expand = True)[0].str.replace('_', '-').str.rsplit(\"-\",1, expand = True)[1]\n",
        "\n",
        "# Manually filter out non-standard photos\n",
        "# frog_df = frog_df[~frog_df['filename'].str.contains((\"Picture|IMG|#\"))]\n"
      ],
      "execution_count": null,
      "outputs": []
    },
    {
      "cell_type": "markdown",
      "source": [
        "# Load the excel spreadsheets"
      ],
      "metadata": {
        "id": "aFQ5nmRqcoAU"
      }
    },
    {
      "cell_type": "markdown",
      "metadata": {
        "id": "MGOkh9rmDqCY"
      },
      "source": [
        "###Read the spreadsheets with frog capture information"
      ]
    },
    {
      "cell_type": "code",
      "source": [
        "# whareorino_df = pd.read_excel(\"/content/drive/MyDrive/Projects/pepeketua_id/Whareorino update.xls\",\n",
        "#               sheet_name=['Grid A','Grid B','Grid C','Grid D']) \n",
        "# pukeokahu_df = pd.read_excel(\"/content/drive/MyDrive/Projects/pepeketua_id/Pukeokahu update.xls\",\n",
        "#               sheet_name=['MR Data']) \n",
        "\n",
        "whareorino_df = pd.read_excel(\"/content/drive/MyDrive/Projects/pepeketua_id/Whareorino frog monitoring data 2005 onwards CURRENT FILE - DOCDM-106978.xls\",\n",
        "              sheet_name=['Grid A','Grid B','Grid C','Grid D']) \n",
        "pukeokahu_df = pd.read_excel(\"/content/drive/MyDrive/Projects/pepeketua_id/Pukeokahu Monitoring Data 2006 onwards - DOCDM-95563.xls\",\n",
        "              sheet_name=['MR Data'])\n"
      ],
      "metadata": {
        "id": "hNepY0NJlln_"
      },
      "execution_count": null,
      "outputs": []
    },
    {
      "cell_type": "markdown",
      "source": [
        "### Add grid column to the frog capture info"
      ],
      "metadata": {
        "id": "nnUMvSRNn-YK"
      }
    },
    {
      "cell_type": "code",
      "metadata": {
        "id": "C9mWfek766uC"
      },
      "source": [
        "whareorino_df['Grid A'][\"grid\"]=\"Grid A\"\n",
        "whareorino_df['Grid B'][\"grid\"]=\"Grid B\"\n",
        "whareorino_df['Grid C'][\"grid\"]=\"Grid C\"\n",
        "whareorino_df['Grid D'][\"grid\"]=\"Grid D\"\n",
        "pukeokahu_df['MR Data'][\"grid\"]=\"Pukeokahu Frog Monitoring\""
      ],
      "execution_count": null,
      "outputs": []
    },
    {
      "cell_type": "code",
      "source": [
        "# Combine datasets\n",
        "frog_id_df = pd.concat([whareorino_df['Grid A'],\n",
        "                   whareorino_df['Grid B'],\n",
        "                   whareorino_df['Grid C'],\n",
        "                   whareorino_df['Grid D'],\n",
        "                   pukeokahu_df['MR Data'],]\n",
        "                   )"
      ],
      "metadata": {
        "id": "LQW6AZPwldWe"
      },
      "execution_count": null,
      "outputs": []
    },
    {
      "cell_type": "markdown",
      "source": [
        "### Limit the df to frog identifications older than 2020"
      ],
      "metadata": {
        "id": "WyeXdOuYthJi"
      }
    },
    {
      "cell_type": "code",
      "source": [
        "import datetime\n",
        "# Select rows with valid dates\n",
        "valid_frog_id_df = frog_id_df[(frog_id_df['Date'].notnull())&(frog_id_df['Date'] != \"Date\")]\n",
        "\n",
        "# Filter observations older than 2020\n",
        "valid_frog_id_df = valid_frog_id_df[valid_frog_id_df['Date'].astype('datetime64[ns]')<datetime.datetime(year=2020,month=1,day=1)]"
      ],
      "metadata": {
        "id": "zbxbOxK0miKW"
      },
      "execution_count": null,
      "outputs": []
    },
    {
      "cell_type": "markdown",
      "source": [
        "### Remove manual typos and faulty entries"
      ],
      "metadata": {
        "id": "gTCalsYRF3Zo"
      }
    },
    {
      "cell_type": "code",
      "source": [
        "wrong_capture_id = ['GRID SEARCHED BUT ZERO FROGS FOUND =(', 'hochstetter']\n",
        "valid_frog_id_df = valid_frog_id_df[~valid_frog_id_df['Capture #'].isin(wrong_capture_id)]\n",
        "\n",
        "# Remove empty capture \n",
        "valid_frog_id_df = valid_frog_id_df.dropna(subset=['Capture #'])\n",
        "\n",
        "# Remove empty capture \n",
        "valid_frog_id_df = valid_frog_id_df.dropna(subset=['Capture photo code'])"
      ],
      "metadata": {
        "id": "GngBb7EoF1-7"
      },
      "execution_count": null,
      "outputs": []
    },
    {
      "cell_type": "code",
      "source": [
        "# Number of photos identified per grid\n",
        "valid_frog_id_df.groupby(['grid'])['grid'].count()"
      ],
      "metadata": {
        "colab": {
          "base_uri": "https://localhost:8080/"
        },
        "id": "HzXVbmaKINaP",
        "outputId": "4bac3118-dadd-4f99-8a4a-a658c8076a42"
      },
      "execution_count": null,
      "outputs": [
        {
          "output_type": "execute_result",
          "data": {
            "text/plain": [
              "grid\n",
              "Grid A                        806\n",
              "Grid B                       1446\n",
              "Grid C                       2591\n",
              "Grid D                       2788\n",
              "Pukeokahu Frog Monitoring     851\n",
              "Name: grid, dtype: int64"
            ]
          },
          "metadata": {},
          "execution_count": 11
        }
      ]
    },
    {
      "cell_type": "markdown",
      "source": [
        "# Map the photos with the frog identification data"
      ],
      "metadata": {
        "id": "jnWmxOjdpq8B"
      }
    },
    {
      "cell_type": "code",
      "source": [
        "df = valid_frog_id_df.merge(frog_df, on=['Capture photo code','grid'], how='left')"
      ],
      "metadata": {
        "id": "hQVHhK-hprMf"
      },
      "execution_count": null,
      "outputs": []
    },
    {
      "cell_type": "code",
      "source": [
        "df.groupby(['grid'])['grid'].count()"
      ],
      "metadata": {
        "colab": {
          "base_uri": "https://localhost:8080/"
        },
        "id": "x6uEyGSzOSBB",
        "outputId": "dffad149-a404-4db0-e1c6-79eb9ac004b5"
      },
      "execution_count": null,
      "outputs": [
        {
          "output_type": "execute_result",
          "data": {
            "text/plain": [
              "grid\n",
              "Grid A                        806\n",
              "Grid B                       1448\n",
              "Grid C                       2598\n",
              "Grid D                       2796\n",
              "Pukeokahu Frog Monitoring     852\n",
              "Name: grid, dtype: int64"
            ]
          },
          "metadata": {},
          "execution_count": 13
        }
      ]
    },
    {
      "cell_type": "markdown",
      "source": [
        "# Work in progress to clean and tidy out the data"
      ],
      "metadata": {
        "id": "kA4E7CkLc_eC"
      }
    },
    {
      "cell_type": "markdown",
      "source": [
        "## Find out duplicated photos"
      ],
      "metadata": {
        "id": "epJSodIfTdJQ"
      }
    },
    {
      "cell_type": "code",
      "source": [
        "if df[df.duplicated(['Capture photo code','grid'],keep=False)][['Capture #','grid','Capture photo code',\"filepath\"]].shape[0]>0:\n",
        "  print(\"There are\", df[df.duplicated(['Capture photo code','grid'],keep=False)][['Capture #','grid','Capture photo code',\"filepath\"]].shape[0], \"duplicates\")\n",
        "  print(df[df.duplicated(['Capture photo code','grid'],keep=False)][['Capture #','grid','Capture photo code',\"filepath\"]])\n",
        "  df[df.duplicated(['Capture photo code','grid'],keep=False)][['Capture #','grid','Capture photo code',\"filepath\"]].to_csv(\"duplicated_frog_photos.csv\")\n"
      ],
      "metadata": {
        "id": "S_1bemmsPuM4"
      },
      "execution_count": null,
      "outputs": []
    },
    {
      "cell_type": "markdown",
      "source": [
        "## Find out identifications that can't be mapped to a photo (missing filepaths)"
      ],
      "metadata": {
        "id": "PFang-XadMvg"
      }
    },
    {
      "cell_type": "code",
      "source": [
        "# Missing filepaths per grid\n",
        "df[df.columns.difference(['grid'])].isnull().groupby(df.grid).sum().astype(int)[\"filepath\"]"
      ],
      "metadata": {
        "colab": {
          "base_uri": "https://localhost:8080/"
        },
        "id": "Y-jys4D7H0fx",
        "outputId": "2acbacfd-d762-4a48-e977-97f2e7e2e3fa"
      },
      "execution_count": null,
      "outputs": [
        {
          "output_type": "execute_result",
          "data": {
            "text/plain": [
              "grid\n",
              "Grid A                        94\n",
              "Grid B                       147\n",
              "Grid C                       357\n",
              "Grid D                       235\n",
              "Pukeokahu Frog Monitoring    114\n",
              "Name: filepath, dtype: int64"
            ]
          },
          "metadata": {},
          "execution_count": 15
        }
      ]
    },
    {
      "cell_type": "code",
      "source": [
        "import numpy as np\n",
        "\n",
        "# Rename original photo code\n",
        "df = df.rename(columns={\"Capture photo code\":\"Original Capture photo code\"})\n",
        "\n",
        "# Modify 'Capture photo code' using the marks and Capture # of those photos unable to be located\n",
        "df['Capture photo code'] = np.where(df[\"filepath\"].isna(), \n",
        "                                    df['Back left mark'].astype(str).apply(lambda x: '_' if '?' in x else x) + \n",
        "                                    df['Back right mark'].astype(str).apply(lambda x: '_' if '?' in x else x) +\n",
        "                                    df['Face left mark'].astype(str).apply(lambda x: '_' if '?' in x else x) +\n",
        "                                    df['Face right mark'].astype(str).apply(lambda x: '_' if '?' in x else x) +\n",
        "                                    '-' + \n",
        "                                    df['Capture #'].astype(int).astype(str), \n",
        "                                    df['Original Capture photo code'])\n"
      ],
      "metadata": {
        "id": "0bc1brSrjyjh"
      },
      "execution_count": null,
      "outputs": []
    },
    {
      "cell_type": "code",
      "source": [
        "# Add filepath of the photos to each frog identification again with the updated 'Capture photo code'\n",
        "df = df.drop(columns=list(set(list(frog_df.columns)) - set(['Capture photo code','grid']))).merge(frog_df, on=['Capture photo code','grid'], how='left')\n",
        "df[df.columns.difference(['grid'])].isnull().groupby(df.grid).sum().astype(int)[\"filepath\"]"
      ],
      "metadata": {
        "colab": {
          "base_uri": "https://localhost:8080/"
        },
        "id": "1rg7JqfFr5d8",
        "outputId": "51a5fb82-c2d9-4f90-d5a6-ec2f50aa177b"
      },
      "execution_count": null,
      "outputs": [
        {
          "output_type": "execute_result",
          "data": {
            "text/plain": [
              "grid\n",
              "Grid A                        32\n",
              "Grid B                        62\n",
              "Grid C                       245\n",
              "Grid D                       153\n",
              "Pukeokahu Frog Monitoring    110\n",
              "Name: filepath, dtype: int64"
            ]
          },
          "metadata": {},
          "execution_count": 17
        }
      ]
    },
    {
      "cell_type": "code",
      "source": [
        "# Modify 'Capture photo code' using the marks and Capture # of those photos unable to be located\n",
        "df['Capture photo code'] = np.where(df[\"filepath\"].isna(), \n",
        "                                    df['Back left mark'].astype(str).apply(lambda x: '0' if '?' in x else x) + \n",
        "                                    df['Back right mark'].astype(str).apply(lambda x: '0' if '?' in x else x) +\n",
        "                                    df['Face left mark'].astype(str).apply(lambda x: '0' if '?' in x else x) +\n",
        "                                    df['Face right mark'].astype(str).apply(lambda x: '0' if '?' in x else x) +\n",
        "                                    '-' + \n",
        "                                    df['Capture #'].astype(int).astype(str), \n",
        "                                    df['Capture photo code'])\n"
      ],
      "metadata": {
        "id": "DkIvxpQTNXj2"
      },
      "execution_count": null,
      "outputs": []
    },
    {
      "cell_type": "code",
      "source": [
        "# Add filepath of the photos to each frog identification again with the updated 'Capture photo code'\n",
        "df = df.drop(columns=list(set(list(frog_df.columns)) - set(['Capture photo code','grid']))).merge(frog_df, on=['Capture photo code','grid'], how='left')\n",
        "df[df.columns.difference(['grid'])].isnull().groupby(df.grid).sum().astype(int)[\"filepath\"]"
      ],
      "metadata": {
        "colab": {
          "base_uri": "https://localhost:8080/"
        },
        "id": "5xDUuSFSU6r2",
        "outputId": "34f3aa34-81f8-491d-8287-d6b3830fd3ce"
      },
      "execution_count": null,
      "outputs": [
        {
          "output_type": "execute_result",
          "data": {
            "text/plain": [
              "grid\n",
              "Grid A                        32\n",
              "Grid B                        62\n",
              "Grid C                       241\n",
              "Grid D                       151\n",
              "Pukeokahu Frog Monitoring    109\n",
              "Name: filepath, dtype: int64"
            ]
          },
          "metadata": {},
          "execution_count": 19
        }
      ]
    },
    {
      "cell_type": "code",
      "source": [
        "# Modify 'Capture photo code' using the marks and Capture # of those photos unable to be located\n",
        "df['Capture photo code'] = np.where(df[\"filepath\"].isna(), \n",
        "                                    df['Back left mark'].astype(str).apply(lambda x: '1' if '?' in x else x) + \n",
        "                                    df['Back right mark'].astype(str).apply(lambda x: '1' if '?' in x else x) +\n",
        "                                    df['Face left mark'].astype(str).apply(lambda x: '1' if '?' in x else x) +\n",
        "                                    df['Face right mark'].astype(str).apply(lambda x: '1' if '?' in x else x) +\n",
        "                                    '-' + \n",
        "                                    df['Capture #'].astype(int).astype(str), \n",
        "                                    df['Capture photo code'])\n"
      ],
      "metadata": {
        "id": "1p1um3y3VEGx"
      },
      "execution_count": null,
      "outputs": []
    },
    {
      "cell_type": "code",
      "source": [
        "# Add filepath of the photos to each frog identification again with the updated 'Capture photo code'\n",
        "df = df.drop(columns=list(set(list(frog_df.columns)) - set(['Capture photo code','grid']))).merge(frog_df, on=['Capture photo code','grid'], how='left')\n",
        "df[df.columns.difference(['grid'])].isnull().groupby(df.grid).sum().astype(int)[\"filepath\"]"
      ],
      "metadata": {
        "colab": {
          "base_uri": "https://localhost:8080/"
        },
        "id": "DiRIiMhkVPVh",
        "outputId": "55a5f4db-ffb9-4815-8347-42bb021607ed"
      },
      "execution_count": null,
      "outputs": [
        {
          "output_type": "execute_result",
          "data": {
            "text/plain": [
              "grid\n",
              "Grid A                        32\n",
              "Grid B                        62\n",
              "Grid C                       240\n",
              "Grid D                       149\n",
              "Pukeokahu Frog Monitoring    107\n",
              "Name: filepath, dtype: int64"
            ]
          },
          "metadata": {},
          "execution_count": 21
        }
      ]
    },
    {
      "cell_type": "code",
      "source": [
        "df = df.rename(columns={\"Capture photo code\":\"updated Capture photo code\"})\n",
        "\n",
        "df = df.drop_duplicates(['Capture #', 'grid'])\n"
      ],
      "metadata": {
        "id": "aqn5vgUaTA3l"
      },
      "execution_count": null,
      "outputs": []
    },
    {
      "cell_type": "code",
      "source": [
        "new_df = frog_id_df.merge(df[['Capture #', 'grid', 'updated Capture photo code']], \n",
        "                          on=['Capture #', 'grid'], \n",
        "                          how='left')\n",
        "\n",
        "# make sure if empty original values are used\n",
        "new_df[\"updated Capture photo code\"] = np.where(new_df[\"updated Capture photo code\"].isna(), \n",
        "                                    new_df['Capture photo code'], \n",
        "                                    new_df[\"updated Capture photo code\"])\n",
        "\n",
        "new_df[\"updated Capture photo code\"] = np.where(new_df[\"updated Capture photo code\"].isna(), \n",
        "                                    new_df['Capture photo code'], \n",
        "                                    new_df[\"updated Capture photo code\"])\n",
        "\n",
        "new_df['different Capture photo Code'] = np.where(new_df[\"Capture photo code\"]==new_df['updated Capture photo code'], 0, 1)\n",
        "\n"
      ],
      "metadata": {
        "id": "SUP_aon2TYYo"
      },
      "execution_count": null,
      "outputs": []
    },
    {
      "cell_type": "code",
      "source": [
        "# Closest match between the Capture photo code and filenames\n",
        "new_df[new_df['grid']==\"Grid A\"].drop(columns=['grid']).to_csv(\"victor_reviewed_grid_a.csv\")\n",
        "new_df[new_df['grid']==\"Grid B\"].drop(columns=['grid']).to_csv(\"victor_reviewed_grid_b.csv\")\n",
        "new_df[new_df['grid']==\"Grid C\"].drop(columns=['grid']).to_csv(\"victor_reviewed_grid_c.csv\")\n",
        "new_df[new_df['grid']==\"Grid D\"].drop(columns=['grid']).to_csv(\"victor_reviewed_grid_d.csv\")\n",
        "new_df[new_df['grid']==\"Pukeokahu Frog Monitoring\"].drop(columns=['grid']).to_csv(\"victor_reviewed_pukeokahu.csv\")"
      ],
      "metadata": {
        "id": "-2yFNMI-XcbN"
      },
      "execution_count": null,
      "outputs": []
    },
    {
      "cell_type": "code",
      "source": [
        "# Missing photos\n",
        "df[(df['grid']==\"Grid A\")&(df[\"filepath\"].isna())].to_csv(\"missing_grid_a.csv\")\n",
        "df[(df['grid']==\"Grid B\")&(df[\"filepath\"].isna())].to_csv(\"missing_grid_b.csv\")\n",
        "df[(df['grid']==\"Grid C\")&(df[\"filepath\"].isna())].to_csv(\"missing_grid_c.csv\")\n",
        "df[(df['grid']==\"Grid D\")&(df[\"filepath\"].isna())].to_csv(\"missing_grid_d.csv\")\n",
        "df[(df['grid']==\"Pukeokahu Frog Monitoring\")&(df[\"filepath\"].isna())].to_csv(\"missing_pukeokahu.csv\")"
      ],
      "metadata": {
        "id": "J25oMJ0eVUzv"
      },
      "execution_count": null,
      "outputs": []
    },
    {
      "cell_type": "markdown",
      "source": [
        "## Check for consistent column names"
      ],
      "metadata": {
        "id": "YoVrkpDZd2Bk"
      }
    },
    {
      "cell_type": "code",
      "source": [
        "# AB\n",
        "col_diff = list(set(whareorino_df['Grid A'].columns) - set(whareorino_df['Grid B'].columns))\n",
        "if col_diff:\n",
        "  print(\"Differences between A and B\", col_diff)\n",
        "\n",
        "# BA\n",
        "col_diff = list(set(whareorino_df['Grid B'].columns) - set(whareorino_df['Grid A'].columns))\n",
        "if col_diff:\n",
        "  print(\"Differences between B and A\", col_diff)\n",
        "\n",
        "# AC\n",
        "col_diff = list(set(whareorino_df['Grid A'].columns) - set(whareorino_df['Grid C'].columns))\n",
        "if col_diff:\n",
        "  print(\"Differences between A and C\", col_diff)\n",
        "\n",
        "# CA\n",
        "col_diff = list(set(whareorino_df['Grid C'].columns) - set(whareorino_df['Grid A'].columns))\n",
        "if col_diff:\n",
        "  print(\"Differences between C and A\", col_diff)\n",
        "\n",
        "# AD\n",
        "col_diff = list(set(whareorino_df['Grid A'].columns) - set(whareorino_df['Grid D'].columns))\n",
        "if col_diff:\n",
        "  print(\"Differences between A and D\", col_diff)\n",
        "\n",
        "# DA\n",
        "col_diff = list(set(whareorino_df['Grid D'].columns) - set(whareorino_df['Grid A'].columns))\n",
        "if col_diff:\n",
        "  print(\"Differences between D and A\", col_diff)\n",
        "\n",
        "# AP\n",
        "col_diff = list(set(whareorino_df['Grid A'].columns) - set(pukeokahu_df['MR Data'].columns))\n",
        "if col_diff:\n",
        "  print(\"Differences between A and pukeokahu\", col_diff)\n",
        "\n",
        "# PA\n",
        "col_diff = list(set(pukeokahu_df['MR Data'].columns) - set(whareorino_df['Grid A'].columns))\n",
        "if col_diff:\n",
        "  print(\"Differences between pukeokahu and A\", col_diff)"
      ],
      "metadata": {
        "id": "1ob6JtjXkYzl"
      },
      "execution_count": null,
      "outputs": []
    },
    {
      "cell_type": "code",
      "source": [
        "# Add filepath info for whareorino_df\n",
        "whareorino_df_a_complete_df = whareorino_df['Grid A'].merge(frog_df, on=['Capture photo code','grid'], how='left')\n",
        "\n",
        "whareorino_df_b_complete_df = whareorino_df['Grid B'].merge(frog_df, on=['Capture photo code','grid'], how='left')\n",
        "\n",
        "whareorino_df_c_complete_df = whareorino_df['Grid C'].merge(frog_df, on=['Capture photo code','grid'], how='left')\n",
        "\n",
        "whareorino_df_d_complete_df = whareorino_df['Grid D'].merge(frog_df, on=['Capture photo code','grid'], how='left')\n",
        "\n",
        "# Add filepath info for pukeokahu\n",
        "pukeokahu_complete_df = pukeokahu_df['MR Data'].merge(frog_df, on=['Capture photo code','grid'], how='left')"
      ],
      "metadata": {
        "id": "K_AmREKWohHz"
      },
      "execution_count": null,
      "outputs": []
    }
  ]
}