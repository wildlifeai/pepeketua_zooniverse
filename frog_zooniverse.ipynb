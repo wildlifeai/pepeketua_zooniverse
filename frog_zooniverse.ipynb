{
  "nbformat": 4,
  "nbformat_minor": 0,
  "metadata": {
    "colab": {
      "name": "frog_zooniverse.ipynb",
      "provenance": [],
      "collapsed_sections": [],
      "toc_visible": true,
      "authorship_tag": "ABX9TyM7LrBwjd/QV515IVdJOt9m",
      "include_colab_link": true
    },
    "kernelspec": {
      "name": "python3",
      "display_name": "Python 3"
    }
  },
  "cells": [
    {
      "cell_type": "markdown",
      "metadata": {
        "id": "view-in-github",
        "colab_type": "text"
      },
      "source": [
        "<a href=\"https://colab.research.google.com/github/wildlifeai/pepeketua_zooniverse/blob/main/frog_zooniverse.ipynb\" target=\"_parent\"><img src=\"https://colab.research.google.com/assets/colab-badge.svg\" alt=\"Open In Colab\"/></a>"
      ]
    },
    {
      "cell_type": "markdown",
      "metadata": {
        "id": "Kvs6P42y4QT0"
      },
      "source": [
        "This notebook contains the scripts to upload photos of Archey's frogs to a Zooniverse project and download labels of the landmarks of the frogs to train ML algorithms."
      ]
    },
    {
      "cell_type": "markdown",
      "metadata": {
        "id": "JcT2UBUcdj-a"
      },
      "source": [
        "#Requirements"
      ]
    },
    {
      "cell_type": "markdown",
      "metadata": {
        "id": "n6eYkFWpHXQ7"
      },
      "source": [
        "### Install required packages"
      ]
    },
    {
      "cell_type": "markdown",
      "metadata": {
        "id": "TH2C_1HBdmX4"
      },
      "source": [
        "We use the \"panoptes_client\" package to communicate with Zooniverse. If you don't have it installed, run the command below."
      ]
    },
    {
      "cell_type": "code",
      "metadata": {
        "id": "r2E5PR5iaGfC"
      },
      "source": [
        "!pip install panoptes_client"
      ],
      "execution_count": null,
      "outputs": []
    },
    {
      "cell_type": "markdown",
      "metadata": {
        "id": "79i1Eyx4HdvF"
      },
      "source": [
        "### Load required libraries"
      ]
    },
    {
      "cell_type": "markdown",
      "metadata": {
        "id": "dBrZIug5d896"
      },
      "source": [
        "Load generic libraries"
      ]
    },
    {
      "cell_type": "code",
      "metadata": {
        "id": "RYnsIFqAeBOT"
      },
      "source": [
        "import io\n",
        "import zipfile\n",
        "import json\n",
        "import pandas as pd\n",
        "import numpy as np\n",
        "\n",
        "from google.colab import drive\n",
        "from datetime import date\n",
        "from panoptes_client import (\n",
        "    SubjectSet,\n",
        "    Subject,\n",
        "    Project,\n",
        "    Panoptes,\n",
        ") "
      ],
      "execution_count": null,
      "outputs": []
    },
    {
      "cell_type": "markdown",
      "metadata": {
        "id": "6Ikud4XZHGvO"
      },
      "source": [
        "### Connect to Zooniverse"
      ]
    },
    {
      "cell_type": "markdown",
      "metadata": {
        "id": "aUh4bvCGfPvt"
      },
      "source": [
        "You need to specify your Zooniverse username and password. Uploading and downloading information from Zooniverse is only accessible to those user with access to the project."
      ]
    },
    {
      "cell_type": "code",
      "metadata": {
        "id": "e8sbIcMBfMTq"
      },
      "source": [
        "zoo_user = \"user\"\n",
        "zoo_pass = \"pass\"\n",
        "\n",
        "# Connect to Zooniverse with your username and password\n",
        "auth = Panoptes.connect(username=zoo_user, password=zoo_pass)\n",
        "\n",
        "if not auth.logged_in:\n",
        "    raise AuthenticationError(\"Your credentials are invalid. Please try again.\")\n",
        "\n",
        "# Connect to the Zooniverse project (our frog project # is 13355)\n",
        "project = Project(13355)"
      ],
      "execution_count": 5,
      "outputs": []
    },
    {
      "cell_type": "markdown",
      "metadata": {
        "id": "dQ9HlEUpc-Gq"
      },
      "source": [
        "#Download Zooniverse annotations"
      ]
    },
    {
      "cell_type": "code",
      "metadata": {
        "id": "4utkpbtWRcUQ",
        "outputId": "52a38c18-2466-4a24-d03d-aecdb5788348",
        "colab": {
          "base_uri": "https://localhost:8080/",
          "height": 419
        }
      },
      "source": [
        "# Get the export classifications\n",
        "export = project.get_export(\"classifications\")\n",
        "\n",
        "# Save the response as pandas data frame\n",
        "classifications = pd.read_csv(\n",
        "    io.StringIO(export.content.decode(\"utf-8\")),\n",
        "    usecols=[\n",
        "             \"user_name\",\n",
        "             \"subject_ids\",\n",
        "             \"subject_data\",\n",
        "             \"classification_id\",\n",
        "             #\"workflow_id\",\n",
        "             #\"workflow_version\",\n",
        "             \"annotations\",\n",
        "             ],\n",
        "             )\n",
        "# Convert JSON strings into Python dictionaries, providing access to key-value pairs.\n",
        "classifications['annotations'] = [json.loads(q) for q in classifications.annotations]\n",
        "\n",
        "# Flatten annotations\n",
        "x =[]\n",
        "y = []\n",
        "label = []\n",
        "classification_id = []\n",
        "\n",
        "for i,row in classifications.iterrows():\n",
        "  class_id = row['classification_id']\n",
        "  \n",
        "  for t in row['annotations']:\n",
        "    # Select survey Task = T0\n",
        "    if t['task'] == 'T0':\n",
        "      if len(t['value']) > 0:\n",
        "        for l in t['value']:\n",
        "          x.append(l['x'])\n",
        "          y.append(l['y'])\n",
        "          label.append(l['tool_label'])\n",
        "          classification_id.append(class_id)\n",
        "      else:\n",
        "        x.append('')\n",
        "        y.append('')\n",
        "        label.append('')\n",
        "        classification_id.append(class_id)\n",
        "    \n",
        "# Combine all the annotations into a data frame\n",
        "annotations = pd.concat([\n",
        "                     pd.DataFrame(x, columns =['x']),\n",
        "                     pd.DataFrame(y, columns =['y']),\n",
        "                     pd.DataFrame(label, columns =['label']),\n",
        "                     pd.DataFrame(classification_id, columns =['classification_id'])],\n",
        "                    axis=1)\n",
        "\n",
        "# Drop metadata and index columns from original df\n",
        "classifications = classifications.drop(columns=[\"annotations\"])\n",
        "\n",
        "# Add metadata information based on the classification id\n",
        "flat_anotations = pd.merge(annotations, classifications, \n",
        "                           how=\"left\", on=[\"classification_id\"])\n",
        "\n",
        "\n",
        "flat_anotations"
      ],
      "execution_count": 6,
      "outputs": [
        {
          "output_type": "execute_result",
          "data": {
            "text/html": [
              "<div>\n",
              "<style scoped>\n",
              "    .dataframe tbody tr th:only-of-type {\n",
              "        vertical-align: middle;\n",
              "    }\n",
              "\n",
              "    .dataframe tbody tr th {\n",
              "        vertical-align: top;\n",
              "    }\n",
              "\n",
              "    .dataframe thead th {\n",
              "        text-align: right;\n",
              "    }\n",
              "</style>\n",
              "<table border=\"1\" class=\"dataframe\">\n",
              "  <thead>\n",
              "    <tr style=\"text-align: right;\">\n",
              "      <th></th>\n",
              "      <th>x</th>\n",
              "      <th>y</th>\n",
              "      <th>label</th>\n",
              "      <th>classification_id</th>\n",
              "      <th>user_name</th>\n",
              "      <th>subject_data</th>\n",
              "      <th>subject_ids</th>\n",
              "    </tr>\n",
              "  </thead>\n",
              "  <tbody>\n",
              "    <tr>\n",
              "      <th>0</th>\n",
              "      <td>629.945068</td>\n",
              "      <td>877.188782</td>\n",
              "      <td>Tip of snout</td>\n",
              "      <td>278017541</td>\n",
              "      <td>victorav</td>\n",
              "      <td>{\"50445441\":{\"retired\":null,\"grid\":\"Grid A\",\"c...</td>\n",
              "      <td>50445441</td>\n",
              "    </tr>\n",
              "    <tr>\n",
              "      <th>1</th>\n",
              "      <td>1227.169678</td>\n",
              "      <td>910.180786</td>\n",
              "      <td>Vent</td>\n",
              "      <td>278017541</td>\n",
              "      <td>victorav</td>\n",
              "      <td>{\"50445441\":{\"retired\":null,\"grid\":\"Grid A\",\"c...</td>\n",
              "      <td>50445441</td>\n",
              "    </tr>\n",
              "    <tr>\n",
              "      <th>2</th>\n",
              "      <td>733.764771</td>\n",
              "      <td>775.934021</td>\n",
              "      <td>Right eye</td>\n",
              "      <td>278017541</td>\n",
              "      <td>victorav</td>\n",
              "      <td>{\"50445441\":{\"retired\":null,\"grid\":\"Grid A\",\"c...</td>\n",
              "      <td>50445441</td>\n",
              "    </tr>\n",
              "    <tr>\n",
              "      <th>3</th>\n",
              "      <td>738.509338</td>\n",
              "      <td>991.895691</td>\n",
              "      <td>Left eye</td>\n",
              "      <td>278017541</td>\n",
              "      <td>victorav</td>\n",
              "      <td>{\"50445441\":{\"retired\":null,\"grid\":\"Grid A\",\"c...</td>\n",
              "      <td>50445441</td>\n",
              "    </tr>\n",
              "    <tr>\n",
              "      <th>4</th>\n",
              "      <td>912.628296</td>\n",
              "      <td>750.835022</td>\n",
              "      <td>Right front leg</td>\n",
              "      <td>278017541</td>\n",
              "      <td>victorav</td>\n",
              "      <td>{\"50445441\":{\"retired\":null,\"grid\":\"Grid A\",\"c...</td>\n",
              "      <td>50445441</td>\n",
              "    </tr>\n",
              "    <tr>\n",
              "      <th>...</th>\n",
              "      <td>...</td>\n",
              "      <td>...</td>\n",
              "      <td>...</td>\n",
              "      <td>...</td>\n",
              "      <td>...</td>\n",
              "      <td>...</td>\n",
              "      <td>...</td>\n",
              "    </tr>\n",
              "    <tr>\n",
              "      <th>331</th>\n",
              "      <td>1046.108887</td>\n",
              "      <td>885.856262</td>\n",
              "      <td>Vent</td>\n",
              "      <td>279055125</td>\n",
              "      <td>victorav</td>\n",
              "      <td>{\"50491194\":{\"retired\":null,\"grid\":\"Grid B\",\"c...</td>\n",
              "      <td>50491194</td>\n",
              "    </tr>\n",
              "    <tr>\n",
              "      <th>332</th>\n",
              "      <td>611.086853</td>\n",
              "      <td>887.750916</td>\n",
              "      <td>Right eye</td>\n",
              "      <td>279055125</td>\n",
              "      <td>victorav</td>\n",
              "      <td>{\"50491194\":{\"retired\":null,\"grid\":\"Grid B\",\"c...</td>\n",
              "      <td>50491194</td>\n",
              "    </tr>\n",
              "    <tr>\n",
              "      <th>333</th>\n",
              "      <td>612.807800</td>\n",
              "      <td>1048.607910</td>\n",
              "      <td>Left eye</td>\n",
              "      <td>279055125</td>\n",
              "      <td>victorav</td>\n",
              "      <td>{\"50491194\":{\"retired\":null,\"grid\":\"Grid B\",\"c...</td>\n",
              "      <td>50491194</td>\n",
              "    </tr>\n",
              "    <tr>\n",
              "      <th>334</th>\n",
              "      <td>749.480835</td>\n",
              "      <td>847.408508</td>\n",
              "      <td>Right front leg</td>\n",
              "      <td>279055125</td>\n",
              "      <td>victorav</td>\n",
              "      <td>{\"50491194\":{\"retired\":null,\"grid\":\"Grid B\",\"c...</td>\n",
              "      <td>50491194</td>\n",
              "    </tr>\n",
              "    <tr>\n",
              "      <th>335</th>\n",
              "      <td>776.105469</td>\n",
              "      <td>1022.942993</td>\n",
              "      <td>Left front leg</td>\n",
              "      <td>279055125</td>\n",
              "      <td>victorav</td>\n",
              "      <td>{\"50491194\":{\"retired\":null,\"grid\":\"Grid B\",\"c...</td>\n",
              "      <td>50491194</td>\n",
              "    </tr>\n",
              "  </tbody>\n",
              "</table>\n",
              "<p>336 rows × 7 columns</p>\n",
              "</div>"
            ],
            "text/plain": [
              "               x  ...  subject_ids\n",
              "0     629.945068  ...     50445441\n",
              "1    1227.169678  ...     50445441\n",
              "2     733.764771  ...     50445441\n",
              "3     738.509338  ...     50445441\n",
              "4     912.628296  ...     50445441\n",
              "..           ...  ...          ...\n",
              "331  1046.108887  ...     50491194\n",
              "332   611.086853  ...     50491194\n",
              "333   612.807800  ...     50491194\n",
              "334   749.480835  ...     50491194\n",
              "335   776.105469  ...     50491194\n",
              "\n",
              "[336 rows x 7 columns]"
            ]
          },
          "metadata": {
            "tags": []
          },
          "execution_count": 6
        }
      ]
    },
    {
      "cell_type": "markdown",
      "metadata": {
        "id": "88IHOp-IIYw0"
      },
      "source": [
        "##Analyse classifications"
      ]
    },
    {
      "cell_type": "markdown",
      "metadata": {
        "id": "Gj62Nb_eVdD1"
      },
      "source": [
        "Compare the accuracy difference between three different users"
      ]
    },
    {
      "cell_type": "code",
      "metadata": {
        "id": "tGPhvgamVRqn",
        "outputId": "ceb49548-3881-42f9-9ebc-bb36d2d6b017",
        "colab": {
          "base_uri": "https://localhost:8080/",
          "height": 419
        }
      },
      "source": [
        "duplicated_annotations = flat_anotations.groupby(['subject_ids','label']).filter(lambda x: len(x) > 1)\n",
        "\n",
        "duplicated_annotations.sort_values(by=['label','subject_ids'])[['x','y','label','user_name','subject_ids']].round({'x': 1, 'y': 1})\n",
        "\n",
        "#duplicated_annotations.groupby(['subject_ids','label']).agg({'x':['max','min'],'y':['max','min']})\n"
      ],
      "execution_count": 9,
      "outputs": [
        {
          "output_type": "execute_result",
          "data": {
            "text/html": [
              "<div>\n",
              "<style scoped>\n",
              "    .dataframe tbody tr th:only-of-type {\n",
              "        vertical-align: middle;\n",
              "    }\n",
              "\n",
              "    .dataframe tbody tr th {\n",
              "        vertical-align: top;\n",
              "    }\n",
              "\n",
              "    .dataframe thead th {\n",
              "        text-align: right;\n",
              "    }\n",
              "</style>\n",
              "<table border=\"1\" class=\"dataframe\">\n",
              "  <thead>\n",
              "    <tr style=\"text-align: right;\">\n",
              "      <th></th>\n",
              "      <th>x</th>\n",
              "      <th>y</th>\n",
              "      <th>label</th>\n",
              "      <th>user_name</th>\n",
              "      <th>subject_ids</th>\n",
              "    </tr>\n",
              "  </thead>\n",
              "  <tbody>\n",
              "    <tr>\n",
              "      <th>33</th>\n",
              "      <td>1354.6</td>\n",
              "      <td>988.9</td>\n",
              "      <td>Left eye</td>\n",
              "      <td>victorav</td>\n",
              "      <td>50445427</td>\n",
              "    </tr>\n",
              "    <tr>\n",
              "      <th>123</th>\n",
              "      <td>1350.6</td>\n",
              "      <td>993.3</td>\n",
              "      <td>Left eye</td>\n",
              "      <td>not-logged-in-a10e341f7db5bf134b70</td>\n",
              "      <td>50445427</td>\n",
              "    </tr>\n",
              "    <tr>\n",
              "      <th>153</th>\n",
              "      <td>1348.0</td>\n",
              "      <td>989.7</td>\n",
              "      <td>Left eye</td>\n",
              "      <td>not-logged-in-a04aa7baf117111c4dcb</td>\n",
              "      <td>50445427</td>\n",
              "    </tr>\n",
              "    <tr>\n",
              "      <th>99</th>\n",
              "      <td>628.6</td>\n",
              "      <td>814.6</td>\n",
              "      <td>Left eye</td>\n",
              "      <td>victorav</td>\n",
              "      <td>50445430</td>\n",
              "    </tr>\n",
              "    <tr>\n",
              "      <th>165</th>\n",
              "      <td>610.7</td>\n",
              "      <td>811.7</td>\n",
              "      <td>Left eye</td>\n",
              "      <td>not-logged-in-088e5d5c401a9ed0f6fa</td>\n",
              "      <td>50445430</td>\n",
              "    </tr>\n",
              "    <tr>\n",
              "      <th>...</th>\n",
              "      <td>...</td>\n",
              "      <td>...</td>\n",
              "      <td>...</td>\n",
              "      <td>...</td>\n",
              "      <td>...</td>\n",
              "    </tr>\n",
              "    <tr>\n",
              "      <th>43</th>\n",
              "      <td>1634.7</td>\n",
              "      <td>989.5</td>\n",
              "      <td>Vent</td>\n",
              "      <td>victorav</td>\n",
              "      <td>50445440</td>\n",
              "    </tr>\n",
              "    <tr>\n",
              "      <th>157</th>\n",
              "      <td>1631.6</td>\n",
              "      <td>984.4</td>\n",
              "      <td>Vent</td>\n",
              "      <td>not-logged-in-a04aa7baf117111c4dcb</td>\n",
              "      <td>50445440</td>\n",
              "    </tr>\n",
              "    <tr>\n",
              "      <th>115</th>\n",
              "      <td>852.2</td>\n",
              "      <td>766.0</td>\n",
              "      <td>Vent</td>\n",
              "      <td>victorav</td>\n",
              "      <td>50445442</td>\n",
              "    </tr>\n",
              "    <tr>\n",
              "      <th>127</th>\n",
              "      <td>859.9</td>\n",
              "      <td>792.8</td>\n",
              "      <td>Vent</td>\n",
              "      <td>not-logged-in-0d488eaae073b2b6fe07</td>\n",
              "      <td>50445442</td>\n",
              "    </tr>\n",
              "    <tr>\n",
              "      <th>169</th>\n",
              "      <td>855.1</td>\n",
              "      <td>768.2</td>\n",
              "      <td>Vent</td>\n",
              "      <td>not-logged-in-088e5d5c401a9ed0f6fa</td>\n",
              "      <td>50445442</td>\n",
              "    </tr>\n",
              "  </tbody>\n",
              "</table>\n",
              "<p>96 rows × 5 columns</p>\n",
              "</div>"
            ],
            "text/plain": [
              "          x      y     label                           user_name  subject_ids\n",
              "33   1354.6  988.9  Left eye                            victorav     50445427\n",
              "123  1350.6  993.3  Left eye  not-logged-in-a10e341f7db5bf134b70     50445427\n",
              "153  1348.0  989.7  Left eye  not-logged-in-a04aa7baf117111c4dcb     50445427\n",
              "99    628.6  814.6  Left eye                            victorav     50445430\n",
              "165   610.7  811.7  Left eye  not-logged-in-088e5d5c401a9ed0f6fa     50445430\n",
              "..      ...    ...       ...                                 ...          ...\n",
              "43   1634.7  989.5      Vent                            victorav     50445440\n",
              "157  1631.6  984.4      Vent  not-logged-in-a04aa7baf117111c4dcb     50445440\n",
              "115   852.2  766.0      Vent                            victorav     50445442\n",
              "127   859.9  792.8      Vent  not-logged-in-0d488eaae073b2b6fe07     50445442\n",
              "169   855.1  768.2      Vent  not-logged-in-088e5d5c401a9ed0f6fa     50445442\n",
              "\n",
              "[96 rows x 5 columns]"
            ]
          },
          "metadata": {
            "tags": []
          },
          "execution_count": 9
        }
      ]
    },
    {
      "cell_type": "markdown",
      "metadata": {
        "id": "v0xYgC4-c4E3"
      },
      "source": [
        "#Upload photos to Zooniverse"
      ]
    },
    {
      "cell_type": "markdown",
      "metadata": {
        "id": "w56RZpfq43Gj"
      },
      "source": [
        "## Temporarily download frog photos"
      ]
    },
    {
      "cell_type": "markdown",
      "metadata": {
        "id": "vW-EFyImA8fy"
      },
      "source": [
        "###Add shortcuts to the compressed photos"
      ]
    },
    {
      "cell_type": "markdown",
      "metadata": {
        "id": "DdLfczSGA9aL"
      },
      "source": [
        "To download the photos of the frogs into this Google Colab you first need to add shortcuts in your Google drive to the [five zipped folders](https://drive.google.com/file/d/1XXSrATFX1l-J0CUE4m6UfoOBp9zv3XOr/view?usp=sharing) with the photos. \n",
        "\n",
        "To add the shortcuts:\n",
        "* go to the \"Shared with me\" section in your Google drive,\n",
        "* find the five zipped folders,\n",
        "* click on \"Add shorcut to Drive\" and\n",
        "* save the shortcuts (we created a folder called \"frog_photos\" and saved them there)."
      ]
    },
    {
      "cell_type": "markdown",
      "metadata": {
        "id": "i4n9rLaUBIaQ"
      },
      "source": [
        "*Specify* the folder in your Google drive where you saved the shortcuts to the photos (in our case \"frog_photos\")."
      ]
    },
    {
      "cell_type": "code",
      "metadata": {
        "id": "_-mA0G4XBEti"
      },
      "source": [
        "dir_shortcuts = \"/content/drive/My Drive/frog_photos/\""
      ],
      "execution_count": null,
      "outputs": []
    },
    {
      "cell_type": "markdown",
      "metadata": {
        "id": "OPDH9kwjBOr5"
      },
      "source": [
        "*If you can't access the five zipped folders please [email Victor](victor@wildlife.ai). "
      ]
    },
    {
      "cell_type": "markdown",
      "metadata": {
        "id": "eJcn0ys34ycz"
      },
      "source": [
        "###Load the zipped files"
      ]
    },
    {
      "cell_type": "markdown",
      "metadata": {
        "id": "-RPy3EYdBPo7"
      },
      "source": [
        "To download the five zip folders with the photos you will need to grant access to the Google file stream. \n",
        "\n"
      ]
    },
    {
      "cell_type": "code",
      "metadata": {
        "id": "3-QJXJoNrQR6"
      },
      "source": [
        "# Mount the drive in colab\n",
        "drive.mount('/content/drive/')\n",
        "\n",
        "# Load the five zipped files\n",
        "whareorino_a = zipfile.ZipFile(dir_shortcuts + \"whareorino_a.zip\", 'r')\n",
        "whareorino_b = zipfile.ZipFile(dir_shortcuts + \"whareorino_b.zip\", 'r')\n",
        "whareorino_c = zipfile.ZipFile(dir_shortcuts + \"whareorino_c.zip\", 'r')\n",
        "whareorino_d = zipfile.ZipFile(dir_shortcuts + \"whareorino_d.zip\", 'r')\n",
        "pukeokahu = zipfile.ZipFile(dir_shortcuts + \"pukeokahu.zip\", 'r')\n",
        "\n",
        "# Extract the filepath of the photos of individual frogs\n",
        "zips = [whareorino_a, whareorino_b, whareorino_c, whareorino_d, pukeokahu]\n",
        "pdList = []\n",
        "\n",
        "for zip_file in zips:\n",
        "  zip_pd = pd.DataFrame(\n",
        "      [x for x in zip_file.namelist() if 'Individual Frogs' in x and not x.endswith(('.db','/','Store'))]\n",
        "      )\n",
        "  pdList.append(zip_pd)\n",
        "\n",
        "# Combine the file paths of the five grids into a single data frame\n",
        "frog_df = pd.concat(pdList)\n"
      ],
      "execution_count": null,
      "outputs": []
    },
    {
      "cell_type": "markdown",
      "metadata": {
        "id": "4_rviwZICUxy"
      },
      "source": [
        "###Create a data frame with frog information"
      ]
    },
    {
      "cell_type": "markdown",
      "metadata": {
        "id": "6Adg9vOm4yl8"
      },
      "source": [
        "Create a data frame to keep track of the photos uploaded to Zooniverse"
      ]
    },
    {
      "cell_type": "markdown",
      "metadata": {
        "id": "fKgOvCsEX3lI"
      },
      "source": [
        "####Prepare information related to the photos"
      ]
    },
    {
      "cell_type": "code",
      "metadata": {
        "id": "U0Gp-086GaCn"
      },
      "source": [
        "# Rename the column of df\n",
        "frog_df = frog_df.rename(columns={0: \"zip_path\"})\n",
        "\n",
        "# Add new columns using directory and filename information\n",
        "directories = frog_df['zip_path'].str.split(\"/\", n = 4, expand = True)\n",
        "\n",
        "# Add the grid, frog_id, filename, and capture cols \n",
        "frog_df[\"grid\"] = directories[0]\n",
        "frog_df[\"frog_id\"] = directories[2] \n",
        "frog_df[\"filename\"] = directories[3] \n",
        "frog_df[\"capture\"] = frog_df[\"filename\"].str.split(\".\",1, expand = True)[0].str.replace('_', '-').str.rsplit(\"-\",1, expand = True)[1] \n",
        "                                "
      ],
      "execution_count": null,
      "outputs": []
    },
    {
      "cell_type": "markdown",
      "metadata": {
        "id": "PMJh8aydX8pu"
      },
      "source": [
        "####Prepare information related to Zooniverse subjects"
      ]
    },
    {
      "cell_type": "code",
      "metadata": {
        "id": "wNxL6SRwYb0R"
      },
      "source": [
        "# Get info of subjects uploaded to the project\n",
        "export = project.get_export(\"subjects\")\n",
        "\n",
        "# Save the subjects info as pandas data frame\n",
        "subjects_df = pd.read_csv(\n",
        "    io.StringIO(export.content.decode(\"utf-8\")),\n",
        "    usecols=[\n",
        "        \"subject_id\",\n",
        "        \"metadata\",\n",
        "    ],\n",
        ")\n",
        "\n",
        "# Reset index of df\n",
        "subj_df = subjects_df.reset_index(drop=True).reset_index()\n",
        "\n",
        "# Flatten the metadata from the uploaded subjects\n",
        "meta_df = pd.json_normalize(subj_df.metadata.apply(json.loads))\n",
        "\n",
        "# Drop metadata and index columns from original df\n",
        "subj_df = subj_df.drop(columns=[\"metadata\", \"index\",]).rename(\n",
        "    columns={\"id\": \"subject_id\"}\n",
        ")\n",
        "\n",
        "# Combine the flatten metadata with the subjects df\n",
        "subj_df = pd.concat([subj_df, meta_df], axis=1)\n",
        "\n",
        "# Add the subject_id of photos already uploaded to Zooniverse\n",
        "frog_df = pd.merge(frog_df, subj_df, \n",
        "                   how=\"left\", on=[\"grid\", \"capture\", \"frog_id\", \"filename\"])\n"
      ],
      "execution_count": null,
      "outputs": []
    },
    {
      "cell_type": "markdown",
      "metadata": {
        "id": "MGOkh9rmDqCY"
      },
      "source": [
        "###Temporarily download photos to colab"
      ]
    },
    {
      "cell_type": "code",
      "metadata": {
        "id": "wrH-wP6mwW_Q"
      },
      "source": [
        "# Specify the directory in colab to temporarily save the photos\n",
        "tmp_dir = 'photos_ulpoad/'\n",
        "\n",
        "# Specify the number of photos to upload\n",
        "n_photos = 200\n",
        "\n",
        "# Select n number of photos to upload to Zooniverse\n",
        "photos_upload = frog_df[frog_df['subject_id'].isnull()].sample(n_photos)\n",
        "photos_upload[\"photo_path\"] = np.nan\n",
        "\n",
        "\n",
        "for zip_file in zips:\n",
        "  # Get a list of all archived file names from the zip\n",
        "  listOfFileNames = zip_file.namelist()\n",
        "  # Iterate over the file names\n",
        "  for fileName in listOfFileNames:\n",
        "      # Check filename endswith csv\n",
        "      if fileName in photos_upload['zip_path'].values:\n",
        "          # Extract a single file from zip\n",
        "          zip_file.extract(fileName, tmp_dir) \n",
        "          # Include the colab path of the photo in the df\n",
        "          photos_upload.loc[photos_upload['zip_path'].eq(fileName),'photo_path'] = tmp_dir + fileName\n",
        "                                \n",
        "print(len(photos_upload.index), \"photos have been temporarily downloaded to\", tmp_dir)"
      ],
      "execution_count": null,
      "outputs": []
    },
    {
      "cell_type": "markdown",
      "metadata": {
        "id": "XH0MfKWzQXLE"
      },
      "source": [
        "Check metadata info makes sense before uploading the photos"
      ]
    },
    {
      "cell_type": "code",
      "metadata": {
        "id": "hgxz24WxQdX7"
      },
      "source": [
        "photos_upload"
      ],
      "execution_count": null,
      "outputs": []
    },
    {
      "cell_type": "markdown",
      "metadata": {
        "id": "EoRESh4sKAPh"
      },
      "source": [
        "##Upload photos to Zooniverse"
      ]
    },
    {
      "cell_type": "code",
      "metadata": {
        "id": "FxiobTeZgSZ1"
      },
      "source": [
        "# Select the photo_path and other columns that will be used as metadata\n",
        "photos_upload = photos_upload[\n",
        "                            [\n",
        "                             \"photo_path\",\n",
        "                             \"filename\",\n",
        "                             \"capture\" ,\n",
        "                             \"frog_id\",\n",
        "                             \"grid\",\n",
        "                             ]\n",
        "                            ]\n",
        "        \n",
        "# Save the df as the subject metadata\n",
        "subject_metadata = photos_upload.set_index('photo_path').to_dict('index')\n",
        "\n",
        "# Create a subjet set in Zooniverse to host the photos\n",
        "subject_set = SubjectSet()\n",
        "\n",
        "subject_set.links.project = project\n",
        "subject_set.display_name = \"training_200\" + date.today().strftime(\"_%d_%m_%Y\")\n",
        "\n",
        "subject_set.save()\n",
        "\n",
        "print(\"Zooniverse subject set created\")\n",
        "\n",
        "\n",
        "# Upload the photos to Zooniverse (with metadata)\n",
        "new_subjects = []\n",
        "\n",
        "for photo_path, metadata in subject_metadata.items():\n",
        "    subject = Subject()\n",
        "\n",
        "    subject.links.project = project\n",
        "    subject.add_location(photo_path)\n",
        "\n",
        "    subject.metadata.update(metadata)\n",
        "\n",
        "    subject.save()\n",
        "    new_subjects.append(subject)\n",
        "\n",
        "# Upload frames\n",
        "subject_set.add(new_subjects)\n",
        "\n",
        "print(\"Subjects uploaded to Zooniverse\")\n"
      ],
      "execution_count": null,
      "outputs": []
    }
  ]
}