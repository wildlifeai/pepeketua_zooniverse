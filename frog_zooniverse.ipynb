{
  "nbformat": 4,
  "nbformat_minor": 0,
  "metadata": {
    "colab": {
      "name": "frog_zooniverse.ipynb",
      "provenance": [],
      "collapsed_sections": [],
      "toc_visible": true,
      "authorship_tag": "ABX9TyPDE2kxET86WFKFzO7SayXa",
      "include_colab_link": true
    },
    "kernelspec": {
      "name": "python3",
      "display_name": "Python 3"
    }
  },
  "cells": [
    {
      "cell_type": "markdown",
      "metadata": {
        "id": "view-in-github",
        "colab_type": "text"
      },
      "source": [
        "<a href=\"https://colab.research.google.com/github/wildlifeai/pepeketua_zooniverse/blob/main/frog_zooniverse.ipynb\" target=\"_parent\"><img src=\"https://colab.research.google.com/assets/colab-badge.svg\" alt=\"Open In Colab\"/></a>"
      ]
    },
    {
      "cell_type": "markdown",
      "metadata": {
        "id": "Kvs6P42y4QT0"
      },
      "source": [
        "This notebook contains the scripts to upload photos of Archey's frogs to a Zooniverse project and download labels of the landmarks of the frogs to train ML algorithms."
      ]
    },
    {
      "cell_type": "markdown",
      "metadata": {
        "id": "JcT2UBUcdj-a"
      },
      "source": [
        "#Requirements"
      ]
    },
    {
      "cell_type": "markdown",
      "metadata": {
        "id": "TH2C_1HBdmX4"
      },
      "source": [
        "We use the \"panoptes_client\" package to communicate with Zooniverse. If you don't have it installed, run the command below."
      ]
    },
    {
      "cell_type": "code",
      "metadata": {
        "id": "r2E5PR5iaGfC"
      },
      "source": [
        "!pip install panoptes_client"
      ],
      "execution_count": null,
      "outputs": []
    },
    {
      "cell_type": "markdown",
      "metadata": {
        "id": "dBrZIug5d896"
      },
      "source": [
        "Load generic libraries"
      ]
    },
    {
      "cell_type": "code",
      "metadata": {
        "id": "RYnsIFqAeBOT",
        "outputId": "316ad198-adc3-4e74-eaa6-11913feaa591",
        "colab": {
          "base_uri": "https://localhost:8080/",
          "height": 54
        }
      },
      "source": [
        "import zipfile\n",
        "import pandas as pd\n",
        "import numpy as np\n",
        "\n",
        "from google.colab import drive\n",
        "from datetime import date\n",
        "from panoptes_client import (\n",
        "    SubjectSet,\n",
        "    Subject,\n",
        "    Project,\n",
        "    Panoptes,\n",
        ") "
      ],
      "execution_count": 2,
      "outputs": [
        {
          "output_type": "stream",
          "text": [
            "Broken libmagic installation detected. The python-magic module is installed but can't be imported. Please check that both python-magic and the libmagic shared library are installed correctly. Uploading media other than images may not work.\n"
          ],
          "name": "stderr"
        }
      ]
    },
    {
      "cell_type": "markdown",
      "metadata": {
        "id": "w56RZpfq43Gj"
      },
      "source": [
        "# Download frog photos"
      ]
    },
    {
      "cell_type": "markdown",
      "metadata": {
        "id": "vW-EFyImA8fy"
      },
      "source": [
        "###Add shortcuts to the compressed photos"
      ]
    },
    {
      "cell_type": "markdown",
      "metadata": {
        "id": "DdLfczSGA9aL"
      },
      "source": [
        "To download the photos of the frogs into this Google Colab you first need to add shortcuts in your Google drive to the [five zipped folders](https://drive.google.com/file/d/1XXSrATFX1l-J0CUE4m6UfoOBp9zv3XOr/view?usp=sharing) with the photos. \n",
        "\n",
        "To add the shortcuts:\n",
        "* go to the \"Shared with me\" section in your Google drive,\n",
        "* find the five zipped folders,\n",
        "* click on \"Add shorcut to Drive\" and\n",
        "* save the shortcuts (we created a folder called \"frog_photos\" and saved them there)."
      ]
    },
    {
      "cell_type": "markdown",
      "metadata": {
        "id": "i4n9rLaUBIaQ"
      },
      "source": [
        "*Specify* the folder in your Google drive where you saved the shortcuts to the photos (in our case \"frog_photos\")."
      ]
    },
    {
      "cell_type": "code",
      "metadata": {
        "id": "_-mA0G4XBEti"
      },
      "source": [
        "dir_shortcuts = \"/content/drive/My Drive/frog_photos/\""
      ],
      "execution_count": 3,
      "outputs": []
    },
    {
      "cell_type": "markdown",
      "metadata": {
        "id": "OPDH9kwjBOr5"
      },
      "source": [
        "*If you can't access the five zipped folders please [email Victor](victor@wildlife.ai). "
      ]
    },
    {
      "cell_type": "markdown",
      "metadata": {
        "id": "eJcn0ys34ycz"
      },
      "source": [
        "###Download the compressed photos"
      ]
    },
    {
      "cell_type": "markdown",
      "metadata": {
        "id": "-RPy3EYdBPo7"
      },
      "source": [
        "To download the five zip folders with the photos you will need to grant access to the Google file stream. \n",
        "\n"
      ]
    },
    {
      "cell_type": "code",
      "metadata": {
        "id": "3-QJXJoNrQR6",
        "outputId": "ad617ae5-1499-4c68-a6d0-315632ed17ce",
        "colab": {
          "base_uri": "https://localhost:8080/",
          "height": 54
        }
      },
      "source": [
        "#Mount the drive in colab\n",
        "drive.mount('/content/drive/')\n",
        "\n",
        "#Load the five zipped files\n",
        "whareorino_a = zipfile.ZipFile(dir_shortcuts + \"whareorino_a.zip\", 'r')\n",
        "whareorino_b = zipfile.ZipFile(dir_shortcuts + \"whareorino_b.zip\", 'r')\n",
        "whareorino_c = zipfile.ZipFile(dir_shortcuts + \"whareorino_c.zip\", 'r')\n",
        "whareorino_d = zipfile.ZipFile(dir_shortcuts + \"whareorino_d.zip\", 'r')\n",
        "pukeokahu = zipfile.ZipFile(dir_shortcuts + \"pukeokahu.zip\", 'r')\n",
        "\n",
        "# Extract the filepath of the photos of individual frogs\n",
        "zips = [whareorino_a, whareorino_b, whareorino_c, whareorino_d, pukeokahu]\n",
        "pdList = []\n",
        "\n",
        "for zip_file in zips:\n",
        "  zip_pd = pd.DataFrame(\n",
        "      [x for x in zip_file.namelist() if 'Individual Frogs' in x and not x.endswith(('.db','/','Store'))]\n",
        "      )\n",
        "  zip_pd[\"zipfile\"]=zip_file\n",
        "  pdList.append(zip_pd)\n",
        "\n",
        "# Combine the file paths of the five grids into a single data frame\n",
        "frog_df = pd.concat(pdList)"
      ],
      "execution_count": 23,
      "outputs": [
        {
          "output_type": "stream",
          "text": [
            "Drive already mounted at /content/drive/; to attempt to forcibly remount, call drive.mount(\"/content/drive/\", force_remount=True).\n"
          ],
          "name": "stdout"
        }
      ]
    },
    {
      "cell_type": "markdown",
      "metadata": {
        "id": "4_rviwZICUxy"
      },
      "source": [
        "#Create a data frame with frog information"
      ]
    },
    {
      "cell_type": "markdown",
      "metadata": {
        "id": "6Adg9vOm4yl8"
      },
      "source": [
        "Create a data frame to keep track of the photos uploaded to Zooniverse"
      ]
    },
    {
      "cell_type": "markdown",
      "metadata": {
        "id": "fKgOvCsEX3lI"
      },
      "source": [
        "###Prepare information related to the photos"
      ]
    },
    {
      "cell_type": "code",
      "metadata": {
        "id": "U0Gp-086GaCn"
      },
      "source": [
        "#Rename the column\n",
        "frog_df = frog_df.rename(columns={0: \"zip_path\"})\n",
        "\n",
        "#Add new columns based on the directory and filename of the photos\n",
        "directories = frog_df['zip_path'].str.split(\"/\", n = 4, expand = True)\n",
        "\n",
        "# making separate first name column from new data frame \n",
        "frog_df[\"grid\"] = directories[0]\n",
        "frog_df[\"frog_id\"] = directories[2] \n",
        "frog_df[\"filename\"] = directories[3] \n",
        "\n",
        "frog_df[\"capture\"] = frog_df[\"filename\"].str.split(\".\",1, expand = True)[0].str.replace('_', '-').str.rsplit(\"-\",1, expand = True)[0] \n",
        "                                \n",
        "frog_df[\"subject_id\"] = np.nan #Uncomment if no subjects uploaded\n",
        "#list(frog_df.columns)\n",
        "#frog_df.iloc[1442]['filename']\n"
      ],
      "execution_count": 24,
      "outputs": []
    },
    {
      "cell_type": "code",
      "metadata": {
        "id": "pqMfBKoNxjvM"
      },
      "source": [
        "frog_df"
      ],
      "execution_count": null,
      "outputs": []
    },
    {
      "cell_type": "markdown",
      "metadata": {
        "id": "PMJh8aydX8pu"
      },
      "source": [
        "###Prepare information related to Zooniverse subjects"
      ]
    },
    {
      "cell_type": "markdown",
      "metadata": {
        "id": "aUh4bvCGfPvt"
      },
      "source": [
        "You need to specify your Zooniverse username and password. Uploading and downloading information from Zooniverse is only accessible to those user with access to the project."
      ]
    },
    {
      "cell_type": "code",
      "metadata": {
        "id": "e8sbIcMBfMTq"
      },
      "source": [
        "zoo_user = \"user\"\n",
        "zoo_pass = \"pass\""
      ],
      "execution_count": 26,
      "outputs": []
    },
    {
      "cell_type": "code",
      "metadata": {
        "id": "wNxL6SRwYb0R",
        "outputId": "b4764e1c-a3c7-449e-b1cb-8fa2c0a19865",
        "colab": {
          "base_uri": "https://localhost:8080/",
          "height": 409
        }
      },
      "source": [
        "# Connect to Zooniverse with your username and password\n",
        "auth = Panoptes.connect(username=zoo_user, password=zoo_pass)\n",
        "\n",
        "if not auth.logged_in:\n",
        "    raise AuthenticationError(\"Your credentials are invalid. Please try again.\")\n",
        "\n",
        "# Connect to the Zooniverse project (our frog project # is 13355)\n",
        "project = Project(13355)\n",
        "\n",
        "# Get info of subjects uploaded to the project\n",
        "export = project.get_export(\"subjects\")\n",
        "\n",
        "# Save the subjects info as pandas data frame\n",
        "subjects_df = pd.read_csv(\n",
        "    io.StringIO(export.content.decode(\"utf-8\")),\n",
        "    usecols=[\n",
        "        \"subject_id\",\n",
        "        \"metadata\",\n",
        "    ],\n",
        ")\n",
        "\n",
        "# Reset index of df\n",
        "subj_df = subjects_df.reset_index(drop=True).reset_index()\n",
        "\n",
        "# Flatten the metadata from the uploaded subjects\n",
        "meta_df = pd.json_normalize(subj_df.metadata.apply(json.loads))\n",
        "\n",
        "# Drop metadata and index columns from original df\n",
        "subj_df = subj_df.drop(columns=[\"metadata\", \"index\",]).rename(\n",
        "    columns={\"id\": \"subject_id\"}\n",
        ")\n",
        "\n",
        "# Add the subject_id of photos already uploaded to Zooniverse\n",
        "frog_df = pd.merge(frog_df, subj_df, how=\"left\", on=\"movie_filename\")\n"
      ],
      "execution_count": null,
      "outputs": [
        {
          "output_type": "stream",
          "text": [
            "all\n"
          ],
          "name": "stdout"
        },
        {
          "output_type": "error",
          "ename": "PanoptesAPIException",
          "evalue": "ignored",
          "traceback": [
            "\u001b[0;31m---------------------------------------------------------------------------\u001b[0m",
            "\u001b[0;31mPanoptesAPIException\u001b[0m                      Traceback (most recent call last)",
            "\u001b[0;32m<ipython-input-80-2f91037adbf8>\u001b[0m in \u001b[0;36m<module>\u001b[0;34m()\u001b[0m\n\u001b[1;32m     20\u001b[0m \u001b[0mprint\u001b[0m\u001b[0;34m(\u001b[0m\u001b[0;34m'all'\u001b[0m\u001b[0;34m)\u001b[0m\u001b[0;34m\u001b[0m\u001b[0;34m\u001b[0m\u001b[0m\n\u001b[1;32m     21\u001b[0m \u001b[0;31m# Get info of subjects uploaded to the project\u001b[0m\u001b[0;34m\u001b[0m\u001b[0;34m\u001b[0m\u001b[0;34m\u001b[0m\u001b[0m\n\u001b[0;32m---> 22\u001b[0;31m \u001b[0mexport\u001b[0m \u001b[0;34m=\u001b[0m \u001b[0mproject\u001b[0m\u001b[0;34m.\u001b[0m\u001b[0mget_export\u001b[0m\u001b[0;34m(\u001b[0m\u001b[0;34m\"subjects\"\u001b[0m\u001b[0;34m)\u001b[0m\u001b[0;34m\u001b[0m\u001b[0;34m\u001b[0m\u001b[0m\n\u001b[0m\u001b[1;32m     23\u001b[0m \u001b[0;34m\u001b[0m\u001b[0m\n\u001b[1;32m     24\u001b[0m \u001b[0;31m# Save the subjects info as pandas data frame\u001b[0m\u001b[0;34m\u001b[0m\u001b[0;34m\u001b[0m\u001b[0;34m\u001b[0m\u001b[0m\n",
            "\u001b[0;32m/usr/local/lib/python3.6/dist-packages/panoptes_client/exportable.py\u001b[0m in \u001b[0;36mget_export\u001b[0;34m(self, export_type, generate, wait, wait_timeout)\u001b[0m\n\u001b[1;32m     74\u001b[0m             \u001b[0mexport\u001b[0m \u001b[0;34m=\u001b[0m \u001b[0mself\u001b[0m\u001b[0;34m.\u001b[0m\u001b[0mwait_export\u001b[0m\u001b[0;34m(\u001b[0m\u001b[0mexport_type\u001b[0m\u001b[0;34m,\u001b[0m \u001b[0mwait_timeout\u001b[0m\u001b[0;34m)\u001b[0m\u001b[0;34m\u001b[0m\u001b[0;34m\u001b[0m\u001b[0m\n\u001b[1;32m     75\u001b[0m         \u001b[0;32melse\u001b[0m\u001b[0;34m:\u001b[0m\u001b[0;34m\u001b[0m\u001b[0;34m\u001b[0m\u001b[0m\n\u001b[0;32m---> 76\u001b[0;31m             \u001b[0mexport\u001b[0m \u001b[0;34m=\u001b[0m \u001b[0mself\u001b[0m\u001b[0;34m.\u001b[0m\u001b[0mdescribe_export\u001b[0m\u001b[0;34m(\u001b[0m\u001b[0mexport_type\u001b[0m\u001b[0;34m)\u001b[0m\u001b[0;34m\u001b[0m\u001b[0;34m\u001b[0m\u001b[0m\n\u001b[0m\u001b[1;32m     77\u001b[0m \u001b[0;34m\u001b[0m\u001b[0m\n\u001b[1;32m     78\u001b[0m         \u001b[0;32mif\u001b[0m \u001b[0mexport_type\u001b[0m \u001b[0;32min\u001b[0m \u001b[0mTALK_EXPORT_TYPES\u001b[0m\u001b[0;34m:\u001b[0m\u001b[0;34m\u001b[0m\u001b[0;34m\u001b[0m\u001b[0m\n",
            "\u001b[0;32m/usr/local/lib/python3.6/dist-packages/panoptes_client/exportable.py\u001b[0m in \u001b[0;36mdescribe_export\u001b[0;34m(self, export_type)\u001b[0m\n\u001b[1;32m    176\u001b[0m \u001b[0;34m\u001b[0m\u001b[0m\n\u001b[1;32m    177\u001b[0m         return self.http_get(\n\u001b[0;32m--> 178\u001b[0;31m             \u001b[0mself\u001b[0m\u001b[0;34m.\u001b[0m\u001b[0m_export_path\u001b[0m\u001b[0;34m(\u001b[0m\u001b[0mexport_type\u001b[0m\u001b[0;34m)\u001b[0m\u001b[0;34m,\u001b[0m\u001b[0;34m\u001b[0m\u001b[0;34m\u001b[0m\u001b[0m\n\u001b[0m\u001b[1;32m    179\u001b[0m         )[0]\n\u001b[1;32m    180\u001b[0m \u001b[0;34m\u001b[0m\u001b[0m\n",
            "\u001b[0;32m/usr/local/lib/python3.6/dist-packages/panoptes_client/panoptes.py\u001b[0m in \u001b[0;36mhttp_get\u001b[0;34m(cls, path, params, headers, retry, **kwargs)\u001b[0m\n\u001b[1;32m    621\u001b[0m             \u001b[0mheaders\u001b[0m\u001b[0;34m,\u001b[0m\u001b[0;34m\u001b[0m\u001b[0;34m\u001b[0m\u001b[0m\n\u001b[1;32m    622\u001b[0m             \u001b[0mretry\u001b[0m\u001b[0;34m=\u001b[0m\u001b[0mretry\u001b[0m\u001b[0;34m,\u001b[0m\u001b[0;34m\u001b[0m\u001b[0;34m\u001b[0m\u001b[0m\n\u001b[0;32m--> 623\u001b[0;31m             \u001b[0;34m**\u001b[0m\u001b[0mkwargs\u001b[0m\u001b[0;34m\u001b[0m\u001b[0;34m\u001b[0m\u001b[0m\n\u001b[0m\u001b[1;32m    624\u001b[0m         )\n\u001b[1;32m    625\u001b[0m \u001b[0;34m\u001b[0m\u001b[0m\n",
            "\u001b[0;32m/usr/local/lib/python3.6/dist-packages/panoptes_client/panoptes.py\u001b[0m in \u001b[0;36mget\u001b[0;34m(self, path, params, headers, endpoint, retry)\u001b[0m\n\u001b[1;32m    318\u001b[0m             \u001b[0mheaders\u001b[0m\u001b[0;34m=\u001b[0m\u001b[0mheaders\u001b[0m\u001b[0;34m,\u001b[0m\u001b[0;34m\u001b[0m\u001b[0;34m\u001b[0m\u001b[0m\n\u001b[1;32m    319\u001b[0m             \u001b[0mendpoint\u001b[0m\u001b[0;34m=\u001b[0m\u001b[0mendpoint\u001b[0m\u001b[0;34m,\u001b[0m\u001b[0;34m\u001b[0m\u001b[0;34m\u001b[0m\u001b[0m\n\u001b[0;32m--> 320\u001b[0;31m             \u001b[0mretry\u001b[0m\u001b[0;34m=\u001b[0m\u001b[0mretry\u001b[0m\u001b[0;34m,\u001b[0m\u001b[0;34m\u001b[0m\u001b[0;34m\u001b[0m\u001b[0m\n\u001b[0m\u001b[1;32m    321\u001b[0m         )\n\u001b[1;32m    322\u001b[0m \u001b[0;34m\u001b[0m\u001b[0m\n",
            "\u001b[0;32m/usr/local/lib/python3.6/dist-packages/panoptes_client/panoptes.py\u001b[0m in \u001b[0;36mjson_request\u001b[0;34m(self, method, path, params, headers, json, etag, endpoint, retry)\u001b[0m\n\u001b[1;32m    279\u001b[0m                 raise PanoptesAPIException(', '.join(\n\u001b[1;32m    280\u001b[0m                     map(lambda e: e.get('message', ''),\n\u001b[0;32m--> 281\u001b[0;31m                         \u001b[0mjson_response\u001b[0m\u001b[0;34m[\u001b[0m\u001b[0;34m'errors'\u001b[0m\u001b[0;34m]\u001b[0m\u001b[0;34m\u001b[0m\u001b[0;34m\u001b[0m\u001b[0m\n\u001b[0m\u001b[1;32m    282\u001b[0m                        )\n\u001b[1;32m    283\u001b[0m                 ))\n",
            "\u001b[0;31mPanoptesAPIException\u001b[0m: No subjects_export exists for project #13355"
          ]
        }
      ]
    },
    {
      "cell_type": "markdown",
      "metadata": {
        "id": "v0xYgC4-c4E3"
      },
      "source": [
        "#Upload new photos to Zooniverse"
      ]
    },
    {
      "cell_type": "code",
      "metadata": {
        "id": "wrH-wP6mwW_Q",
        "outputId": "8ae85d9c-0e45-4e36-b21d-e6513e3213bb",
        "colab": {
          "base_uri": "https://localhost:8080/",
          "height": 85
        }
      },
      "source": [
        "#Select n number of photos to upload to Zooniverse\n",
        "photos_upload = frog_df[frog_df['subject_id'].isnull()].sample(n = 3)\n",
        "\n",
        "photos_upload[\"zipfile\"]"
      ],
      "execution_count": 29,
      "outputs": [
        {
          "output_type": "execute_result",
          "data": {
            "text/plain": [
              "902     <zipfile.ZipFile filename='/content/drive/My D...\n",
              "216     <zipfile.ZipFile filename='/content/drive/My D...\n",
              "1325    <zipfile.ZipFile filename='/content/drive/My D...\n",
              "Name: zipfile, dtype: object"
            ]
          },
          "metadata": {
            "tags": []
          },
          "execution_count": 29
        }
      ]
    },
    {
      "cell_type": "code",
      "metadata": {
        "id": "FxiobTeZgSZ1",
        "outputId": "ae2c4ed4-a40d-44c9-85a6-4a7597e599ae",
        "colab": {
          "base_uri": "https://localhost:8080/",
          "height": 368
        }
      },
      "source": [
        "#Select n number of photos to upload to Zooniverse\n",
        "photos_upload = frog_df[frog_df['subject_id'].isnull()].sample(n = 3)\n",
        "\n",
        "#Uncompress the photos that will be uploaded\n",
        "zip_path\n",
        "\n",
        "#Select the file_path and other columns that will be used as metadata\n",
        "photos_upload = photos_upload[\n",
        "                            [\n",
        "                             \"file_path\",\n",
        "                             \"filename\",\n",
        "                             \"capture\" ,\n",
        "                             \"frog_id\",\n",
        "                             \"grid\",\n",
        "                             ]\n",
        "                            ]\n",
        "        \n",
        "# Save the df as the subject metadata\n",
        "subject_metadata = photos_upload.set_index('file_path').to_dict('index')\n",
        "\n",
        "# Create a subjet set in Zooniverse to host the photos\n",
        "subject_set = SubjectSet()\n",
        "\n",
        "subject_set.links.project = project\n",
        "subject_set.display_name = \"sample\" + date.today().strftime(\"_%d_%m_%Y\")\n",
        "\n",
        "subject_set.save()\n",
        "\n",
        "print(\"Zooniverse subject set created\")\n",
        "\n",
        "\n",
        "# Upload the photos to Zooniverse (with metadata)\n",
        "new_subjects = []\n",
        "\n",
        "for file_path, metadata in subject_metadata.items():\n",
        "    subject = Subject()\n",
        "\n",
        "    subject.links.project = project\n",
        "    subject.add_location(file_path)\n",
        "\n",
        "    subject.metadata.update(metadata)\n",
        "\n",
        "    subject.save()\n",
        "    new_subjects.append(subject)\n",
        "\n",
        "# Upload frames\n",
        "subject_set.add(new_subjects)\n",
        "\n",
        "print(\"Subjects uploaded to Zooniverse\")\n"
      ],
      "execution_count": 13,
      "outputs": [
        {
          "output_type": "stream",
          "text": [
            "Zooniverse subject set created\n"
          ],
          "name": "stdout"
        },
        {
          "output_type": "error",
          "ename": "FileNotFoundError",
          "evalue": "ignored",
          "traceback": [
            "\u001b[0;31m---------------------------------------------------------------------------\u001b[0m",
            "\u001b[0;31mFileNotFoundError\u001b[0m                         Traceback (most recent call last)",
            "\u001b[0;32m<ipython-input-13-43c97d1b5a1b>\u001b[0m in \u001b[0;36m<module>\u001b[0;34m()\u001b[0m\n\u001b[1;32m     34\u001b[0m \u001b[0;34m\u001b[0m\u001b[0m\n\u001b[1;32m     35\u001b[0m     \u001b[0msubject\u001b[0m\u001b[0;34m.\u001b[0m\u001b[0mlinks\u001b[0m\u001b[0;34m.\u001b[0m\u001b[0mproject\u001b[0m \u001b[0;34m=\u001b[0m \u001b[0mproject\u001b[0m\u001b[0;34m\u001b[0m\u001b[0;34m\u001b[0m\u001b[0m\n\u001b[0;32m---> 36\u001b[0;31m     \u001b[0msubject\u001b[0m\u001b[0;34m.\u001b[0m\u001b[0madd_location\u001b[0m\u001b[0;34m(\u001b[0m\u001b[0mfile_path\u001b[0m\u001b[0;34m)\u001b[0m\u001b[0;34m\u001b[0m\u001b[0;34m\u001b[0m\u001b[0m\n\u001b[0m\u001b[1;32m     37\u001b[0m \u001b[0;34m\u001b[0m\u001b[0m\n\u001b[1;32m     38\u001b[0m     \u001b[0msubject\u001b[0m\u001b[0;34m.\u001b[0m\u001b[0mmetadata\u001b[0m\u001b[0;34m.\u001b[0m\u001b[0mupdate\u001b[0m\u001b[0;34m(\u001b[0m\u001b[0mmetadata\u001b[0m\u001b[0;34m)\u001b[0m\u001b[0;34m\u001b[0m\u001b[0;34m\u001b[0m\u001b[0m\n",
            "\u001b[0;32m/usr/local/lib/python3.6/dist-packages/panoptes_client/subject.py\u001b[0m in \u001b[0;36madd_location\u001b[0;34m(self, location)\u001b[0m\n\u001b[1;32m    233\u001b[0m             \u001b[0;32mreturn\u001b[0m\u001b[0;34m\u001b[0m\u001b[0;34m\u001b[0m\u001b[0m\n\u001b[1;32m    234\u001b[0m         \u001b[0;32melif\u001b[0m \u001b[0mtype\u001b[0m\u001b[0;34m(\u001b[0m\u001b[0mlocation\u001b[0m\u001b[0;34m)\u001b[0m \u001b[0;32min\u001b[0m \u001b[0;34m(\u001b[0m\u001b[0mstr\u001b[0m\u001b[0;34m,\u001b[0m\u001b[0;34m)\u001b[0m \u001b[0;34m+\u001b[0m \u001b[0m_OLD_STR_TYPES\u001b[0m\u001b[0;34m:\u001b[0m\u001b[0;34m\u001b[0m\u001b[0;34m\u001b[0m\u001b[0m\n\u001b[0;32m--> 235\u001b[0;31m             \u001b[0mf\u001b[0m \u001b[0;34m=\u001b[0m \u001b[0mopen\u001b[0m\u001b[0;34m(\u001b[0m\u001b[0mlocation\u001b[0m\u001b[0;34m,\u001b[0m \u001b[0;34m'rb'\u001b[0m\u001b[0;34m)\u001b[0m\u001b[0;34m\u001b[0m\u001b[0;34m\u001b[0m\u001b[0m\n\u001b[0m\u001b[1;32m    236\u001b[0m         \u001b[0;32melse\u001b[0m\u001b[0;34m:\u001b[0m\u001b[0;34m\u001b[0m\u001b[0;34m\u001b[0m\u001b[0m\n\u001b[1;32m    237\u001b[0m             \u001b[0mf\u001b[0m \u001b[0;34m=\u001b[0m \u001b[0mlocation\u001b[0m\u001b[0;34m\u001b[0m\u001b[0;34m\u001b[0m\u001b[0m\n",
            "\u001b[0;31mFileNotFoundError\u001b[0m: [Errno 2] No such file or directory: 'Grid B/Individual Frogs/159/1100-2383.jpg'"
          ]
        }
      ]
    },
    {
      "cell_type": "markdown",
      "metadata": {
        "id": "dQ9HlEUpc-Gq"
      },
      "source": [
        "#Download Zooniverse annotations"
      ]
    },
    {
      "cell_type": "code",
      "metadata": {
        "id": "RGDF3PBcYEMf"
      },
      "source": [
        ""
      ],
      "execution_count": null,
      "outputs": []
    },
    {
      "cell_type": "markdown",
      "metadata": {
        "id": "tfLReh-mYCxp"
      },
      "source": [
        ""
      ]
    },
    {
      "cell_type": "code",
      "metadata": {
        "id": "p7c1GcYwKRon"
      },
      "source": [
        "import os \n",
        "import pandas as pd\n",
        "\n",
        "# Create a df of the photos found in the tmp folder\n",
        "data = []\n",
        "# Loop through each folder in the tmp directory\n",
        "for grid in os.listdir('../tmp/'):\n",
        "  if 'Grid' in grid:\n",
        "    grid_path = '../tmp/' + grid\n",
        "    # Loop through each subfolder in the 'Grid' directories\n",
        "    for subfolder in os.listdir(grid_path):\n",
        "      if 'Individual' in subfolder:\n",
        "        subfolder_path = grid_path + \"/\" + subfolder\n",
        "        # Loop through each individual frog in the \"individual frog\" directoy\n",
        "        for ind in os.listdir(subfolder_path):\n",
        "          if not ind.endswith('db'):\n",
        "            ind_path = subfolder_path + \"/\" + ind\n",
        "            # Loop through each photo of the \"individual\" frog\n",
        "            for doc in os.listdir(ind_path):\n",
        "              #Save information about the photo and the frog\n",
        "              if not doc.endswith('db'):\n",
        "                fpath = ind_path + \"/\" + doc\n",
        "                capt = doc.split(\".\",1)[0].replace('_', '-').rsplit(\"-\",1)[1]\n",
        "                data.append((doc, fpath, capt, ind, grid))\n",
        "\n",
        "df = pd.DataFrame(data,columns = ['filename', 'file_path', 'capture', 'frog_id', 'grid'])"
      ],
      "execution_count": null,
      "outputs": []
    }
  ]
}