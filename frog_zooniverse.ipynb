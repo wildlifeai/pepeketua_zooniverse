{
  "nbformat": 4,
  "nbformat_minor": 0,
  "metadata": {
    "colab": {
      "name": "frog_zooniverse.ipynb",
      "provenance": [],
      "authorship_tag": "ABX9TyM6R42kKOj9JxTNmaurdUXQ",
      "include_colab_link": true
    },
    "kernelspec": {
      "name": "python3",
      "display_name": "Python 3"
    }
  },
  "cells": [
    {
      "cell_type": "markdown",
      "metadata": {
        "id": "view-in-github",
        "colab_type": "text"
      },
      "source": [
        "<a href=\"https://colab.research.google.com/github/wildlifeai/pepeketue_zooniverse/blob/main/frog_zooniverse.ipynb\" target=\"_parent\"><img src=\"https://colab.research.google.com/assets/colab-badge.svg\" alt=\"Open In Colab\"/></a>"
      ]
    },
    {
      "cell_type": "markdown",
      "metadata": {
        "id": "Kvs6P42y4QT0"
      },
      "source": [
        "This notebook contains the scripts to upload photos of Archey's frogs to a Zooniverse project, where researchers label landmarks in the frogs to train ML algorithms that will detect the frog."
      ]
    },
    {
      "cell_type": "code",
      "metadata": {
        "id": "KWsmRVDA4I5Y"
      },
      "source": [
        ""
      ],
      "execution_count": null,
      "outputs": []
    },
    {
      "cell_type": "markdown",
      "metadata": {
        "id": "eJcn0ys34ycz"
      },
      "source": [
        ""
      ]
    },
    {
      "cell_type": "markdown",
      "metadata": {
        "id": "w56RZpfq43Gj"
      },
      "source": [
        "# Download frog photos"
      ]
    },
    {
      "cell_type": "markdown",
      "metadata": {
        "id": "6Adg9vOm4yl8"
      },
      "source": [
        ""
      ]
    }
  ]
}