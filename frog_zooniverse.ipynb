{
  "nbformat": 4,
  "nbformat_minor": 0,
  "metadata": {
    "colab": {
      "name": "frog_zooniverse.ipynb",
      "provenance": [],
      "authorship_tag": "ABX9TyPseWBmADadqVsrehodJySh",
      "include_colab_link": true
    },
    "kernelspec": {
      "name": "python3",
      "display_name": "Python 3"
    }
  },
  "cells": [
    {
      "cell_type": "markdown",
      "metadata": {
        "id": "view-in-github",
        "colab_type": "text"
      },
      "source": [
        "<a href=\"https://colab.research.google.com/github/wildlifeai/pepeketua_zooniverse/blob/main/frog_zooniverse.ipynb\" target=\"_parent\"><img src=\"https://colab.research.google.com/assets/colab-badge.svg\" alt=\"Open In Colab\"/></a>"
      ]
    },
    {
      "cell_type": "markdown",
      "metadata": {
        "id": "Kvs6P42y4QT0"
      },
      "source": [
        "This notebook contains the scripts to upload photos of Archey's frogs to a Zooniverse project, where researchers label landmarks in the frogs to train ML algorithms."
      ]
    },
    {
      "cell_type": "markdown",
      "metadata": {
        "id": "w56RZpfq43Gj"
      },
      "source": [
        "# Download frog photos"
      ]
    },
    {
      "cell_type": "markdown",
      "metadata": {
        "id": "vW-EFyImA8fy"
      },
      "source": [
        "###Add shortcuts to the compressed photos"
      ]
    },
    {
      "cell_type": "markdown",
      "metadata": {
        "id": "DdLfczSGA9aL"
      },
      "source": [
        "To download the photos of the frogs into this Google Colab you first need to add shortcuts in your Google drive to the [five zipped folders](https://drive.google.com/file/d/1XXSrATFX1l-J0CUE4m6UfoOBp9zv3XOr/view?usp=sharing) with the photos. \n",
        "\n",
        "To add the shortcuts:\n",
        "* go to the \"Shared with me\" section in your Google drive,\n",
        "* find the five zipped folders,\n",
        "* click on \"Add shorcut to Drive\" and\n",
        "* save the shortcuts (we created a folder called \"frog_photos\" and saved them there)."
      ]
    },
    {
      "cell_type": "markdown",
      "metadata": {
        "id": "i4n9rLaUBIaQ"
      },
      "source": [
        "*Specify* the folder in your Google drive where you saved the shortcuts to the photos (in our case \"frog_photos\")."
      ]
    },
    {
      "cell_type": "code",
      "metadata": {
        "id": "_-mA0G4XBEti"
      },
      "source": [
        "dir_shortcuts = \"/content/drive/My Drive/frog_photos/\""
      ],
      "execution_count": null,
      "outputs": []
    },
    {
      "cell_type": "markdown",
      "metadata": {
        "id": "OPDH9kwjBOr5"
      },
      "source": [
        "*If you can't access the five zipped folders please [email Victor](victor@wildlife.ai). "
      ]
    },
    {
      "cell_type": "markdown",
      "metadata": {
        "id": "eJcn0ys34ycz"
      },
      "source": [
        "###Download the photos"
      ]
    },
    {
      "cell_type": "markdown",
      "metadata": {
        "id": "-RPy3EYdBPo7"
      },
      "source": [
        "To download and unzip the five folders with the photos you will need to grant access to Google file stream. \n",
        "\n",
        "The photos will be temporarily stored in your Google Colab disk and will not count towards your Google drive storage.\n",
        "\n",
        "*Uncomment lines to unzip all five folders (it might take a while though)."
      ]
    },
    {
      "cell_type": "code",
      "metadata": {
        "id": "KWsmRVDA4I5Y",
        "outputId": "261f8f1f-91b7-4bce-89c9-0b83e9384a96",
        "colab": {
          "base_uri": "https://localhost:8080/",
          "height": 34
        }
      },
      "source": [
        "import zipfile\n",
        "from google.colab import drive\n",
        "\n",
        "drive.mount('/content/drive/')\n",
        "\n",
        "whareorino_a = zipfile.ZipFile(dir_shortcuts + \"whareorino_a.zip\", 'r')\n",
        "whareorino_a.extractall(\"/tmp\")\n",
        "whareorino_a.close()\n",
        "\n",
        "# whareorino_b = zipfile.ZipFile(dir_shortcuts + \"whareorino_b.zip\", 'r')\n",
        "# whareorino_b.extractall(\"/tmp\")\n",
        "# whareorino_b.close()\n",
        "\n",
        "# whareorino_c = zipfile.ZipFile(dir_shortcuts + \"whareorino_c.zip\", 'r')\n",
        "# whareorino_c.extractall(\"/tmp\")\n",
        "# whareorino_c.close()\n",
        "\n",
        "# whareorino_d = zipfile.ZipFile(dir_shortcuts + \"whareorino_d.zip\", 'r')\n",
        "# whareorino_d.extractall(\"/tmp\")\n",
        "# whareorino_d.close()\n",
        "\n",
        "# pukeokahu = zipfile.ZipFile(dir_shortcuts + \"pukeokahu.zip\", 'r')\n",
        "# pukeokahu.extractall(\"/tmp\")\n",
        "# pukeokahu.close()"
      ],
      "execution_count": 2,
      "outputs": [
        {
          "output_type": "stream",
          "text": [
            "Mounted at /content/drive\n"
          ],
          "name": "stdout"
        }
      ]
    },
    {
      "cell_type": "code",
      "metadata": {
        "id": "3JcGIIlYAmXM",
        "outputId": "8e71b0dc-b521-4865-b6aa-7fa27c6d36e5",
        "colab": {
          "base_uri": "https://localhost:8080/",
          "height": 85
        }
      },
      "source": [
        "ls"
      ],
      "execution_count": 3,
      "outputs": [
        {
          "output_type": "stream",
          "text": [
            "\u001b[0m\u001b[01;34m'Colab Notebooks'\u001b[0m/   \u001b[01;34mfrog_photos\u001b[0m/             \u001b[01;34mResearch\u001b[0m/\n",
            " \u001b[01;34mCommunication\u001b[0m/     \u001b[01;34m'Funding applications'\u001b[0m/  'Rob and Sally 18 sept.gdoc'\n",
            " \u001b[01;34mEducation\u001b[0m/          \u001b[01;34mGovernance\u001b[0m/             'Untitled document.gdoc'\n",
            " Evan_chat.gdoc     'Rachel Selwyn.gdoc'      \u001b[01;34mVictor\u001b[0m/\n"
          ],
          "name": "stdout"
        }
      ]
    },
    {
      "cell_type": "markdown",
      "metadata": {
        "id": "6Adg9vOm4yl8"
      },
      "source": [
        ""
      ]
    }
  ]
}