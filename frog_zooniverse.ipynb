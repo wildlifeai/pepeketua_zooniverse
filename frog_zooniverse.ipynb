{
  "nbformat": 4,
  "nbformat_minor": 0,
  "metadata": {
    "colab": {
      "name": "frog_zooniverse.ipynb",
      "provenance": [],
      "collapsed_sections": [],
      "toc_visible": true,
      "authorship_tag": "ABX9TyO4kvqichy6mXM0+wCwByBE",
      "include_colab_link": true
    },
    "kernelspec": {
      "name": "python3",
      "display_name": "Python 3"
    }
  },
  "cells": [
    {
      "cell_type": "markdown",
      "metadata": {
        "id": "view-in-github",
        "colab_type": "text"
      },
      "source": [
        "<a href=\"https://colab.research.google.com/github/wildlifeai/pepeketua_zooniverse/blob/main/frog_zooniverse.ipynb\" target=\"_parent\"><img src=\"https://colab.research.google.com/assets/colab-badge.svg\" alt=\"Open In Colab\"/></a>"
      ]
    },
    {
      "cell_type": "markdown",
      "metadata": {
        "id": "Kvs6P42y4QT0"
      },
      "source": [
        "This notebook contains the scripts to upload photos of Archey's frogs to a Zooniverse project and download labels of the landmarks of the frogs to train ML algorithms."
      ]
    },
    {
      "cell_type": "markdown",
      "metadata": {
        "id": "JcT2UBUcdj-a"
      },
      "source": [
        "#Requirements"
      ]
    },
    {
      "cell_type": "markdown",
      "metadata": {
        "id": "TH2C_1HBdmX4"
      },
      "source": [
        "We use the \"panoptes_client\" package to communicate with Zooniverse. If you don't have it installed, run the command below."
      ]
    },
    {
      "cell_type": "code",
      "metadata": {
        "id": "r2E5PR5iaGfC"
      },
      "source": [
        "!pip install panoptes_client"
      ],
      "execution_count": null,
      "outputs": []
    },
    {
      "cell_type": "markdown",
      "metadata": {
        "id": "dBrZIug5d896"
      },
      "source": [
        "Load generic libraries"
      ]
    },
    {
      "cell_type": "code",
      "metadata": {
        "id": "RYnsIFqAeBOT"
      },
      "source": [
        "import io\n",
        "import zipfile\n",
        "import json\n",
        "import pandas as pd\n",
        "import numpy as np\n",
        "\n",
        "from google.colab import drive\n",
        "from datetime import date\n",
        "from panoptes_client import (\n",
        "    SubjectSet,\n",
        "    Subject,\n",
        "    Project,\n",
        "    Panoptes,\n",
        ") "
      ],
      "execution_count": null,
      "outputs": []
    },
    {
      "cell_type": "markdown",
      "metadata": {
        "id": "w56RZpfq43Gj"
      },
      "source": [
        "# Download frog photos"
      ]
    },
    {
      "cell_type": "markdown",
      "metadata": {
        "id": "vW-EFyImA8fy"
      },
      "source": [
        "###Add shortcuts to the compressed photos"
      ]
    },
    {
      "cell_type": "markdown",
      "metadata": {
        "id": "DdLfczSGA9aL"
      },
      "source": [
        "To download the photos of the frogs into this Google Colab you first need to add shortcuts in your Google drive to the [five zipped folders](https://drive.google.com/file/d/1XXSrATFX1l-J0CUE4m6UfoOBp9zv3XOr/view?usp=sharing) with the photos. \n",
        "\n",
        "To add the shortcuts:\n",
        "* go to the \"Shared with me\" section in your Google drive,\n",
        "* find the five zipped folders,\n",
        "* click on \"Add shorcut to Drive\" and\n",
        "* save the shortcuts (we created a folder called \"frog_photos\" and saved them there)."
      ]
    },
    {
      "cell_type": "markdown",
      "metadata": {
        "id": "i4n9rLaUBIaQ"
      },
      "source": [
        "*Specify* the folder in your Google drive where you saved the shortcuts to the photos (in our case \"frog_photos\")."
      ]
    },
    {
      "cell_type": "code",
      "metadata": {
        "id": "_-mA0G4XBEti"
      },
      "source": [
        "dir_shortcuts = \"/content/drive/My Drive/frog_photos/\""
      ],
      "execution_count": 4,
      "outputs": []
    },
    {
      "cell_type": "markdown",
      "metadata": {
        "id": "OPDH9kwjBOr5"
      },
      "source": [
        "*If you can't access the five zipped folders please [email Victor](victor@wildlife.ai). "
      ]
    },
    {
      "cell_type": "markdown",
      "metadata": {
        "id": "eJcn0ys34ycz"
      },
      "source": [
        "###Download the compressed photos"
      ]
    },
    {
      "cell_type": "markdown",
      "metadata": {
        "id": "-RPy3EYdBPo7"
      },
      "source": [
        "To download the five zip folders with the photos you will need to grant access to the Google file stream. \n",
        "\n"
      ]
    },
    {
      "cell_type": "code",
      "metadata": {
        "id": "3-QJXJoNrQR6"
      },
      "source": [
        "# Mount the drive in colab\n",
        "drive.mount('/content/drive/')\n",
        "\n",
        "# Load the five zipped files\n",
        "whareorino_a = zipfile.ZipFile(dir_shortcuts + \"whareorino_a.zip\", 'r')\n",
        "whareorino_b = zipfile.ZipFile(dir_shortcuts + \"whareorino_b.zip\", 'r')\n",
        "whareorino_c = zipfile.ZipFile(dir_shortcuts + \"whareorino_c.zip\", 'r')\n",
        "whareorino_d = zipfile.ZipFile(dir_shortcuts + \"whareorino_d.zip\", 'r')\n",
        "pukeokahu = zipfile.ZipFile(dir_shortcuts + \"pukeokahu.zip\", 'r')\n",
        "\n",
        "# Extract the filepath of the photos of individual frogs\n",
        "zips = [whareorino_a, whareorino_b, whareorino_c, whareorino_d, pukeokahu]\n",
        "pdList = []\n",
        "\n",
        "for zip_file in zips:\n",
        "  zip_pd = pd.DataFrame(\n",
        "      [x for x in zip_file.namelist() if 'Individual Frogs' in x and not x.endswith(('.db','/','Store'))]\n",
        "      )\n",
        "  pdList.append(zip_pd)\n",
        "\n",
        "# Combine the file paths of the five grids into a single data frame\n",
        "frog_df = pd.concat(pdList)\n"
      ],
      "execution_count": null,
      "outputs": []
    },
    {
      "cell_type": "markdown",
      "metadata": {
        "id": "4_rviwZICUxy"
      },
      "source": [
        "#Create a data frame with frog information"
      ]
    },
    {
      "cell_type": "markdown",
      "metadata": {
        "id": "6Adg9vOm4yl8"
      },
      "source": [
        "Create a data frame to keep track of the photos uploaded to Zooniverse"
      ]
    },
    {
      "cell_type": "markdown",
      "metadata": {
        "id": "fKgOvCsEX3lI"
      },
      "source": [
        "###Prepare information related to the photos"
      ]
    },
    {
      "cell_type": "code",
      "metadata": {
        "id": "U0Gp-086GaCn"
      },
      "source": [
        "# Rename the column of df\n",
        "frog_df = frog_df.rename(columns={0: \"zip_path\"})\n",
        "\n",
        "# Add new columns using directory and filename information\n",
        "directories = frog_df['zip_path'].str.split(\"/\", n = 4, expand = True)\n",
        "\n",
        "# Add the grid, frog_id, filename, and capture cols \n",
        "frog_df[\"grid\"] = directories[0]\n",
        "frog_df[\"frog_id\"] = directories[2] \n",
        "frog_df[\"filename\"] = directories[3] \n",
        "frog_df[\"capture\"] = frog_df[\"filename\"].str.split(\".\",1, expand = True)[0].str.replace('_', '-').str.rsplit(\"-\",1, expand = True)[1] \n",
        "                                "
      ],
      "execution_count": 6,
      "outputs": []
    },
    {
      "cell_type": "markdown",
      "metadata": {
        "id": "PMJh8aydX8pu"
      },
      "source": [
        "###Prepare information related to Zooniverse subjects"
      ]
    },
    {
      "cell_type": "markdown",
      "metadata": {
        "id": "aUh4bvCGfPvt"
      },
      "source": [
        "You need to specify your Zooniverse username and password. Uploading and downloading information from Zooniverse is only accessible to those user with access to the project."
      ]
    },
    {
      "cell_type": "code",
      "metadata": {
        "id": "e8sbIcMBfMTq"
      },
      "source": [
        "zoo_user = \"user\"\n",
        "zoo_pass = \"pass\""
      ],
      "execution_count": 7,
      "outputs": []
    },
    {
      "cell_type": "code",
      "metadata": {
        "id": "wNxL6SRwYb0R"
      },
      "source": [
        "# Connect to Zooniverse with your username and password\n",
        "auth = Panoptes.connect(username=zoo_user, password=zoo_pass)\n",
        "\n",
        "if not auth.logged_in:\n",
        "    raise AuthenticationError(\"Your credentials are invalid. Please try again.\")\n",
        "\n",
        "# Connect to the Zooniverse project (our frog project # is 13355)\n",
        "project = Project(13355)\n",
        "\n",
        "# Get info of subjects uploaded to the project\n",
        "export = project.get_export(\"subjects\")\n",
        "\n",
        "# Save the subjects info as pandas data frame\n",
        "subjects_df = pd.read_csv(\n",
        "    io.StringIO(export.content.decode(\"utf-8\")),\n",
        "    usecols=[\n",
        "        \"subject_id\",\n",
        "        \"metadata\",\n",
        "    ],\n",
        ")\n",
        "\n",
        "# Reset index of df\n",
        "subj_df = subjects_df.reset_index(drop=True).reset_index()\n",
        "\n",
        "# Flatten the metadata from the uploaded subjects\n",
        "meta_df = pd.json_normalize(subj_df.metadata.apply(json.loads))\n",
        "\n",
        "# Drop metadata and index columns from original df\n",
        "subj_df = subj_df.drop(columns=[\"metadata\", \"index\",]).rename(\n",
        "    columns={\"id\": \"subject_id\"}\n",
        ")\n",
        "\n",
        "# Combine the flatten metadata with the subjects df\n",
        "subj_df = pd.concat([subj_df, meta_df], axis=1)\n",
        "\n",
        "# Add the subject_id of photos already uploaded to Zooniverse\n",
        "frog_df = pd.merge(frog_df, subj_df, \n",
        "                   how=\"left\", on=[\"grid\", \"capture\", \"frog_id\", \"filename\"])\n"
      ],
      "execution_count": 8,
      "outputs": []
    },
    {
      "cell_type": "markdown",
      "metadata": {
        "id": "v0xYgC4-c4E3"
      },
      "source": [
        "#Upload new photos to Zooniverse"
      ]
    },
    {
      "cell_type": "markdown",
      "metadata": {
        "id": "MGOkh9rmDqCY"
      },
      "source": [
        "###Temporarily download photos to colab"
      ]
    },
    {
      "cell_type": "code",
      "metadata": {
        "id": "wrH-wP6mwW_Q"
      },
      "source": [
        "# Specify the directory in colab to temporarily save the photos\n",
        "tmp_dir = 'photos_ulpoad/'\n",
        "\n",
        "# Specify the number of photos to upload\n",
        "n_photos = 200\n",
        "\n",
        "# Select n number of photos to upload to Zooniverse\n",
        "photos_upload = frog_df[frog_df['subject_id'].isnull()].sample(n_photos)\n",
        "photos_upload[\"photo_path\"] = np.nan\n",
        "\n",
        "\n",
        "for zip_file in zips:\n",
        "  # Get a list of all archived file names from the zip\n",
        "  listOfFileNames = zip_file.namelist()\n",
        "  # Iterate over the file names\n",
        "  for fileName in listOfFileNames:\n",
        "      # Check filename endswith csv\n",
        "      if fileName in photos_upload['zip_path'].values:\n",
        "          # Extract a single file from zip\n",
        "          zip_file.extract(fileName, tmp_dir) \n",
        "          # Include the colab path of the photo in the df\n",
        "          photos_upload.loc[photos_upload['zip_path'].eq(fileName),'photo_path'] = tmp_dir + fileName\n",
        "                                \n",
        "print(len(photos_upload.index), \"photos have been temporarily downloaded to\", tmp_dir)"
      ],
      "execution_count": null,
      "outputs": []
    },
    {
      "cell_type": "markdown",
      "metadata": {
        "id": "XH0MfKWzQXLE"
      },
      "source": [
        "Check metadata info makes sense before uploading the photos"
      ]
    },
    {
      "cell_type": "code",
      "metadata": {
        "id": "hgxz24WxQdX7"
      },
      "source": [
        "photos_upload"
      ],
      "execution_count": null,
      "outputs": []
    },
    {
      "cell_type": "markdown",
      "metadata": {
        "id": "EoRESh4sKAPh"
      },
      "source": [
        "####Upload photos to Zooniverse"
      ]
    },
    {
      "cell_type": "code",
      "metadata": {
        "id": "FxiobTeZgSZ1"
      },
      "source": [
        "# Select the photo_path and other columns that will be used as metadata\n",
        "photos_upload = photos_upload[\n",
        "                            [\n",
        "                             \"photo_path\",\n",
        "                             \"filename\",\n",
        "                             \"capture\" ,\n",
        "                             \"frog_id\",\n",
        "                             \"grid\",\n",
        "                             ]\n",
        "                            ]\n",
        "        \n",
        "# Save the df as the subject metadata\n",
        "subject_metadata = photos_upload.set_index('photo_path').to_dict('index')\n",
        "\n",
        "# Create a subjet set in Zooniverse to host the photos\n",
        "subject_set = SubjectSet()\n",
        "\n",
        "subject_set.links.project = project\n",
        "subject_set.display_name = \"training_200\" + date.today().strftime(\"_%d_%m_%Y\")\n",
        "\n",
        "subject_set.save()\n",
        "\n",
        "print(\"Zooniverse subject set created\")\n",
        "\n",
        "\n",
        "# Upload the photos to Zooniverse (with metadata)\n",
        "new_subjects = []\n",
        "\n",
        "for photo_path, metadata in subject_metadata.items():\n",
        "    subject = Subject()\n",
        "\n",
        "    subject.links.project = project\n",
        "    subject.add_location(photo_path)\n",
        "\n",
        "    subject.metadata.update(metadata)\n",
        "\n",
        "    subject.save()\n",
        "    new_subjects.append(subject)\n",
        "\n",
        "# Upload frames\n",
        "subject_set.add(new_subjects)\n",
        "\n",
        "print(\"Subjects uploaded to Zooniverse\")\n"
      ],
      "execution_count": null,
      "outputs": []
    },
    {
      "cell_type": "markdown",
      "metadata": {
        "id": "dQ9HlEUpc-Gq"
      },
      "source": [
        "#Download Zooniverse annotations"
      ]
    },
    {
      "cell_type": "code",
      "metadata": {
        "id": "4utkpbtWRcUQ",
        "outputId": "a2f80bbe-a98d-4425-b737-51f913923966",
        "colab": {
          "base_uri": "https://localhost:8080/",
          "height": 589
        }
      },
      "source": [
        "# Get the export classifications\n",
        "export = project.get_export(\"classifications\")\n",
        "\n",
        "# Save the response as pandas data frame\n",
        "classifications = pd.read_csv(\n",
        "    io.StringIO(export.content.decode(\"utf-8\")),\n",
        "    usecols=[\n",
        "             \"user_name\",\n",
        "             \"subject_ids\",\n",
        "             \"subject_data\",\n",
        "             \"classification_id\",\n",
        "             #\"workflow_id\",\n",
        "             #\"workflow_version\",\n",
        "             \"annotations\",\n",
        "             ],\n",
        "             )\n",
        "# Convert JSON strings into Python dictionaries, providing access to key-value pairs.\n",
        "classifications['annotations'] = [json.loads(q) for q in classifications.annotations]\n",
        "\n",
        "# Flatten annotations\n",
        "x =[]\n",
        "y = []\n",
        "label = []\n",
        "classification_id = []\n",
        "\n",
        "for i,row in classifications.iterrows():\n",
        "  class_id = row['classification_id']\n",
        "  \n",
        "  for t in row['annotations']:\n",
        "    # Select survey Task = T0\n",
        "    if t['task'] == 'T0':\n",
        "      if len(t['value']) > 0:\n",
        "        for l in t['value']:\n",
        "          x.append(l['x'])\n",
        "          y.append(l['y'])\n",
        "          label.append(l['tool_label'])\n",
        "          classification_id.append(class_id)\n",
        "      else:\n",
        "        x.append('')\n",
        "        y.append('')\n",
        "        label.append('')\n",
        "        classification_id.append(class_id)\n",
        "    \n",
        "# Combine all the annotations into a data frame\n",
        "annotations = pd.concat([\n",
        "                     pd.DataFrame(x, columns =['x']),\n",
        "                     pd.DataFrame(y, columns =['y']),\n",
        "                     pd.DataFrame(label, columns =['label']),\n",
        "                     pd.DataFrame(classification_id, columns =['classification_id'])],\n",
        "                    axis=1)\n",
        "\n",
        "# Drop metadata and index columns from original df\n",
        "classifications = classifications.drop(columns=[\"annotations\"])\n",
        "\n",
        "# Add metadata information based on the classification id\n",
        "flat_anotations = pd.merge(annotations, classifications, \n",
        "                           how=\"left\", on=[\"classification_id\"])\n",
        "\n",
        "\n",
        "flat_anotations"
      ],
      "execution_count": 10,
      "outputs": [
        {
          "output_type": "execute_result",
          "data": {
            "text/html": [
              "<div>\n",
              "<style scoped>\n",
              "    .dataframe tbody tr th:only-of-type {\n",
              "        vertical-align: middle;\n",
              "    }\n",
              "\n",
              "    .dataframe tbody tr th {\n",
              "        vertical-align: top;\n",
              "    }\n",
              "\n",
              "    .dataframe thead th {\n",
              "        text-align: right;\n",
              "    }\n",
              "</style>\n",
              "<table border=\"1\" class=\"dataframe\">\n",
              "  <thead>\n",
              "    <tr style=\"text-align: right;\">\n",
              "      <th></th>\n",
              "      <th>x</th>\n",
              "      <th>y</th>\n",
              "      <th>label</th>\n",
              "      <th>classification_id</th>\n",
              "      <th>user_name</th>\n",
              "      <th>subject_data</th>\n",
              "      <th>subject_ids</th>\n",
              "    </tr>\n",
              "  </thead>\n",
              "  <tbody>\n",
              "    <tr>\n",
              "      <th>0</th>\n",
              "      <td>629.945068</td>\n",
              "      <td>877.188782</td>\n",
              "      <td>Tip of snout</td>\n",
              "      <td>278017541</td>\n",
              "      <td>victorav</td>\n",
              "      <td>{\"50445441\":{\"retired\":null,\"grid\":\"Grid A\",\"c...</td>\n",
              "      <td>50445441</td>\n",
              "    </tr>\n",
              "    <tr>\n",
              "      <th>1</th>\n",
              "      <td>1227.169678</td>\n",
              "      <td>910.180786</td>\n",
              "      <td>Vent</td>\n",
              "      <td>278017541</td>\n",
              "      <td>victorav</td>\n",
              "      <td>{\"50445441\":{\"retired\":null,\"grid\":\"Grid A\",\"c...</td>\n",
              "      <td>50445441</td>\n",
              "    </tr>\n",
              "    <tr>\n",
              "      <th>2</th>\n",
              "      <td>733.764771</td>\n",
              "      <td>775.934021</td>\n",
              "      <td>Right eye</td>\n",
              "      <td>278017541</td>\n",
              "      <td>victorav</td>\n",
              "      <td>{\"50445441\":{\"retired\":null,\"grid\":\"Grid A\",\"c...</td>\n",
              "      <td>50445441</td>\n",
              "    </tr>\n",
              "    <tr>\n",
              "      <th>3</th>\n",
              "      <td>738.509338</td>\n",
              "      <td>991.895691</td>\n",
              "      <td>Left eye</td>\n",
              "      <td>278017541</td>\n",
              "      <td>victorav</td>\n",
              "      <td>{\"50445441\":{\"retired\":null,\"grid\":\"Grid A\",\"c...</td>\n",
              "      <td>50445441</td>\n",
              "    </tr>\n",
              "    <tr>\n",
              "      <th>4</th>\n",
              "      <td>912.628296</td>\n",
              "      <td>750.835022</td>\n",
              "      <td>Right front leg</td>\n",
              "      <td>278017541</td>\n",
              "      <td>victorav</td>\n",
              "      <td>{\"50445441\":{\"retired\":null,\"grid\":\"Grid A\",\"c...</td>\n",
              "      <td>50445441</td>\n",
              "    </tr>\n",
              "    <tr>\n",
              "      <th>...</th>\n",
              "      <td>...</td>\n",
              "      <td>...</td>\n",
              "      <td>...</td>\n",
              "      <td>...</td>\n",
              "      <td>...</td>\n",
              "      <td>...</td>\n",
              "      <td>...</td>\n",
              "    </tr>\n",
              "    <tr>\n",
              "      <th>169</th>\n",
              "      <td>855.117126</td>\n",
              "      <td>768.186340</td>\n",
              "      <td>Vent</td>\n",
              "      <td>278610494</td>\n",
              "      <td>not-logged-in-01bb5723fed659cb81db</td>\n",
              "      <td>{\"50445442\":{\"retired\":null,\"grid\":\"Grid D\",\"c...</td>\n",
              "      <td>50445442</td>\n",
              "    </tr>\n",
              "    <tr>\n",
              "      <th>170</th>\n",
              "      <td>462.959106</td>\n",
              "      <td>673.481506</td>\n",
              "      <td>Right eye</td>\n",
              "      <td>278610494</td>\n",
              "      <td>not-logged-in-01bb5723fed659cb81db</td>\n",
              "      <td>{\"50445442\":{\"retired\":null,\"grid\":\"Grid D\",\"c...</td>\n",
              "      <td>50445442</td>\n",
              "    </tr>\n",
              "    <tr>\n",
              "      <th>171</th>\n",
              "      <td>445.618744</td>\n",
              "      <td>861.557312</td>\n",
              "      <td>Left eye</td>\n",
              "      <td>278610494</td>\n",
              "      <td>not-logged-in-01bb5723fed659cb81db</td>\n",
              "      <td>{\"50445442\":{\"retired\":null,\"grid\":\"Grid D\",\"c...</td>\n",
              "      <td>50445442</td>\n",
              "    </tr>\n",
              "    <tr>\n",
              "      <th>172</th>\n",
              "      <td>587.009094</td>\n",
              "      <td>678.817078</td>\n",
              "      <td>Right front leg</td>\n",
              "      <td>278610494</td>\n",
              "      <td>not-logged-in-01bb5723fed659cb81db</td>\n",
              "      <td>{\"50445442\":{\"retired\":null,\"grid\":\"Grid D\",\"c...</td>\n",
              "      <td>50445442</td>\n",
              "    </tr>\n",
              "    <tr>\n",
              "      <th>173</th>\n",
              "      <td>587.009094</td>\n",
              "      <td>870.894470</td>\n",
              "      <td>Left front leg</td>\n",
              "      <td>278610494</td>\n",
              "      <td>not-logged-in-01bb5723fed659cb81db</td>\n",
              "      <td>{\"50445442\":{\"retired\":null,\"grid\":\"Grid D\",\"c...</td>\n",
              "      <td>50445442</td>\n",
              "    </tr>\n",
              "  </tbody>\n",
              "</table>\n",
              "<p>174 rows × 7 columns</p>\n",
              "</div>"
            ],
            "text/plain": [
              "               x  ...  subject_ids\n",
              "0     629.945068  ...     50445441\n",
              "1    1227.169678  ...     50445441\n",
              "2     733.764771  ...     50445441\n",
              "3     738.509338  ...     50445441\n",
              "4     912.628296  ...     50445441\n",
              "..           ...  ...          ...\n",
              "169   855.117126  ...     50445442\n",
              "170   462.959106  ...     50445442\n",
              "171   445.618744  ...     50445442\n",
              "172   587.009094  ...     50445442\n",
              "173   587.009094  ...     50445442\n",
              "\n",
              "[174 rows x 7 columns]"
            ]
          },
          "metadata": {
            "tags": []
          },
          "execution_count": 10
        }
      ]
    },
    {
      "cell_type": "markdown",
      "metadata": {
        "id": "Gj62Nb_eVdD1"
      },
      "source": [
        "Compare the accuracy difference between three different users"
      ]
    },
    {
      "cell_type": "code",
      "metadata": {
        "id": "tGPhvgamVRqn",
        "outputId": "52e4ba1a-6899-454e-98c4-a2632bbd5a66",
        "colab": {
          "base_uri": "https://localhost:8080/",
          "height": 1000
        }
      },
      "source": [
        "duplicated_annotations = flat_anotations.groupby(['subject_ids','label']).filter(lambda x: len(x) == 3)\n",
        "\n",
        "duplicated_annotations.sort_values(by=['label','subject_ids'])[['x','y','label','user_name','subject_ids']].round({'x': 1, 'y': 1})\n",
        "\n",
        "#max_min_duplicates=duplicated_annotations.groupby(['subject_ids','label']).agg({'x':['max','min'],'y':['max','min']})\n"
      ],
      "execution_count": 48,
      "outputs": [
        {
          "output_type": "execute_result",
          "data": {
            "text/html": [
              "<div>\n",
              "<style scoped>\n",
              "    .dataframe tbody tr th:only-of-type {\n",
              "        vertical-align: middle;\n",
              "    }\n",
              "\n",
              "    .dataframe tbody tr th {\n",
              "        vertical-align: top;\n",
              "    }\n",
              "\n",
              "    .dataframe thead th {\n",
              "        text-align: right;\n",
              "    }\n",
              "</style>\n",
              "<table border=\"1\" class=\"dataframe\">\n",
              "  <thead>\n",
              "    <tr style=\"text-align: right;\">\n",
              "      <th></th>\n",
              "      <th>x</th>\n",
              "      <th>y</th>\n",
              "      <th>label</th>\n",
              "      <th>user_name</th>\n",
              "      <th>subject_ids</th>\n",
              "    </tr>\n",
              "  </thead>\n",
              "  <tbody>\n",
              "    <tr>\n",
              "      <th>33</th>\n",
              "      <td>1354.6</td>\n",
              "      <td>988.9</td>\n",
              "      <td>Left eye</td>\n",
              "      <td>victorav</td>\n",
              "      <td>50445427</td>\n",
              "    </tr>\n",
              "    <tr>\n",
              "      <th>123</th>\n",
              "      <td>1350.6</td>\n",
              "      <td>993.3</td>\n",
              "      <td>Left eye</td>\n",
              "      <td>not-logged-in-9b11fa685869df9202f1</td>\n",
              "      <td>50445427</td>\n",
              "    </tr>\n",
              "    <tr>\n",
              "      <th>153</th>\n",
              "      <td>1348.0</td>\n",
              "      <td>989.7</td>\n",
              "      <td>Left eye</td>\n",
              "      <td>not-logged-in-56f43c6d74e436d31d10</td>\n",
              "      <td>50445427</td>\n",
              "    </tr>\n",
              "    <tr>\n",
              "      <th>117</th>\n",
              "      <td>455.2</td>\n",
              "      <td>854.5</td>\n",
              "      <td>Left eye</td>\n",
              "      <td>victorav</td>\n",
              "      <td>50445442</td>\n",
              "    </tr>\n",
              "    <tr>\n",
              "      <th>129</th>\n",
              "      <td>441.4</td>\n",
              "      <td>852.9</td>\n",
              "      <td>Left eye</td>\n",
              "      <td>not-logged-in-3722cd2cf454b732ca5e</td>\n",
              "      <td>50445442</td>\n",
              "    </tr>\n",
              "    <tr>\n",
              "      <th>171</th>\n",
              "      <td>445.6</td>\n",
              "      <td>861.6</td>\n",
              "      <td>Left eye</td>\n",
              "      <td>not-logged-in-01bb5723fed659cb81db</td>\n",
              "      <td>50445442</td>\n",
              "    </tr>\n",
              "    <tr>\n",
              "      <th>35</th>\n",
              "      <td>1457.4</td>\n",
              "      <td>990.9</td>\n",
              "      <td>Left front leg</td>\n",
              "      <td>victorav</td>\n",
              "      <td>50445427</td>\n",
              "    </tr>\n",
              "    <tr>\n",
              "      <th>125</th>\n",
              "      <td>1460.2</td>\n",
              "      <td>993.3</td>\n",
              "      <td>Left front leg</td>\n",
              "      <td>not-logged-in-9b11fa685869df9202f1</td>\n",
              "      <td>50445427</td>\n",
              "    </tr>\n",
              "    <tr>\n",
              "      <th>155</th>\n",
              "      <td>1460.8</td>\n",
              "      <td>979.1</td>\n",
              "      <td>Left front leg</td>\n",
              "      <td>not-logged-in-56f43c6d74e436d31d10</td>\n",
              "      <td>50445427</td>\n",
              "    </tr>\n",
              "    <tr>\n",
              "      <th>119</th>\n",
              "      <td>583.4</td>\n",
              "      <td>863.7</td>\n",
              "      <td>Left front leg</td>\n",
              "      <td>victorav</td>\n",
              "      <td>50445442</td>\n",
              "    </tr>\n",
              "    <tr>\n",
              "      <th>131</th>\n",
              "      <td>593.2</td>\n",
              "      <td>898.8</td>\n",
              "      <td>Left front leg</td>\n",
              "      <td>not-logged-in-3722cd2cf454b732ca5e</td>\n",
              "      <td>50445442</td>\n",
              "    </tr>\n",
              "    <tr>\n",
              "      <th>173</th>\n",
              "      <td>587.0</td>\n",
              "      <td>870.9</td>\n",
              "      <td>Left front leg</td>\n",
              "      <td>not-logged-in-01bb5723fed659cb81db</td>\n",
              "      <td>50445442</td>\n",
              "    </tr>\n",
              "    <tr>\n",
              "      <th>32</th>\n",
              "      <td>1353.1</td>\n",
              "      <td>851.3</td>\n",
              "      <td>Right eye</td>\n",
              "      <td>victorav</td>\n",
              "      <td>50445427</td>\n",
              "    </tr>\n",
              "    <tr>\n",
              "      <th>122</th>\n",
              "      <td>1341.3</td>\n",
              "      <td>846.4</td>\n",
              "      <td>Right eye</td>\n",
              "      <td>not-logged-in-9b11fa685869df9202f1</td>\n",
              "      <td>50445427</td>\n",
              "    </tr>\n",
              "    <tr>\n",
              "      <th>152</th>\n",
              "      <td>1342.8</td>\n",
              "      <td>850.5</td>\n",
              "      <td>Right eye</td>\n",
              "      <td>not-logged-in-56f43c6d74e436d31d10</td>\n",
              "      <td>50445427</td>\n",
              "    </tr>\n",
              "    <tr>\n",
              "      <th>116</th>\n",
              "      <td>474.0</td>\n",
              "      <td>684.8</td>\n",
              "      <td>Right eye</td>\n",
              "      <td>victorav</td>\n",
              "      <td>50445442</td>\n",
              "    </tr>\n",
              "    <tr>\n",
              "      <th>128</th>\n",
              "      <td>460.8</td>\n",
              "      <td>681.6</td>\n",
              "      <td>Right eye</td>\n",
              "      <td>not-logged-in-3722cd2cf454b732ca5e</td>\n",
              "      <td>50445442</td>\n",
              "    </tr>\n",
              "    <tr>\n",
              "      <th>170</th>\n",
              "      <td>463.0</td>\n",
              "      <td>673.5</td>\n",
              "      <td>Right eye</td>\n",
              "      <td>not-logged-in-01bb5723fed659cb81db</td>\n",
              "      <td>50445442</td>\n",
              "    </tr>\n",
              "    <tr>\n",
              "      <th>34</th>\n",
              "      <td>1434.6</td>\n",
              "      <td>843.7</td>\n",
              "      <td>Right front leg</td>\n",
              "      <td>victorav</td>\n",
              "      <td>50445427</td>\n",
              "    </tr>\n",
              "    <tr>\n",
              "      <th>124</th>\n",
              "      <td>1425.2</td>\n",
              "      <td>837.0</td>\n",
              "      <td>Right front leg</td>\n",
              "      <td>not-logged-in-9b11fa685869df9202f1</td>\n",
              "      <td>50445427</td>\n",
              "    </tr>\n",
              "    <tr>\n",
              "      <th>154</th>\n",
              "      <td>1422.0</td>\n",
              "      <td>850.5</td>\n",
              "      <td>Right front leg</td>\n",
              "      <td>not-logged-in-56f43c6d74e436d31d10</td>\n",
              "      <td>50445427</td>\n",
              "    </tr>\n",
              "    <tr>\n",
              "      <th>118</th>\n",
              "      <td>602.9</td>\n",
              "      <td>680.6</td>\n",
              "      <td>Right front leg</td>\n",
              "      <td>victorav</td>\n",
              "      <td>50445442</td>\n",
              "    </tr>\n",
              "    <tr>\n",
              "      <th>130</th>\n",
              "      <td>602.1</td>\n",
              "      <td>665.7</td>\n",
              "      <td>Right front leg</td>\n",
              "      <td>not-logged-in-3722cd2cf454b732ca5e</td>\n",
              "      <td>50445442</td>\n",
              "    </tr>\n",
              "    <tr>\n",
              "      <th>172</th>\n",
              "      <td>587.0</td>\n",
              "      <td>678.8</td>\n",
              "      <td>Right front leg</td>\n",
              "      <td>not-logged-in-01bb5723fed659cb81db</td>\n",
              "      <td>50445442</td>\n",
              "    </tr>\n",
              "    <tr>\n",
              "      <th>30</th>\n",
              "      <td>1283.1</td>\n",
              "      <td>925.5</td>\n",
              "      <td>Tip of snout</td>\n",
              "      <td>victorav</td>\n",
              "      <td>50445427</td>\n",
              "    </tr>\n",
              "    <tr>\n",
              "      <th>120</th>\n",
              "      <td>1280.6</td>\n",
              "      <td>932.6</td>\n",
              "      <td>Tip of snout</td>\n",
              "      <td>not-logged-in-9b11fa685869df9202f1</td>\n",
              "      <td>50445427</td>\n",
              "    </tr>\n",
              "    <tr>\n",
              "      <th>150</th>\n",
              "      <td>1272.3</td>\n",
              "      <td>928.0</td>\n",
              "      <td>Tip of snout</td>\n",
              "      <td>not-logged-in-56f43c6d74e436d31d10</td>\n",
              "      <td>50445427</td>\n",
              "    </tr>\n",
              "    <tr>\n",
              "      <th>114</th>\n",
              "      <td>348.5</td>\n",
              "      <td>762.7</td>\n",
              "      <td>Tip of snout</td>\n",
              "      <td>victorav</td>\n",
              "      <td>50445442</td>\n",
              "    </tr>\n",
              "    <tr>\n",
              "      <th>126</th>\n",
              "      <td>351.3</td>\n",
              "      <td>762.8</td>\n",
              "      <td>Tip of snout</td>\n",
              "      <td>not-logged-in-3722cd2cf454b732ca5e</td>\n",
              "      <td>50445442</td>\n",
              "    </tr>\n",
              "    <tr>\n",
              "      <th>168</th>\n",
              "      <td>348.2</td>\n",
              "      <td>766.9</td>\n",
              "      <td>Tip of snout</td>\n",
              "      <td>not-logged-in-01bb5723fed659cb81db</td>\n",
              "      <td>50445442</td>\n",
              "    </tr>\n",
              "    <tr>\n",
              "      <th>31</th>\n",
              "      <td>1658.9</td>\n",
              "      <td>879.9</td>\n",
              "      <td>Vent</td>\n",
              "      <td>victorav</td>\n",
              "      <td>50445427</td>\n",
              "    </tr>\n",
              "    <tr>\n",
              "      <th>121</th>\n",
              "      <td>1660.7</td>\n",
              "      <td>874.3</td>\n",
              "      <td>Vent</td>\n",
              "      <td>not-logged-in-9b11fa685869df9202f1</td>\n",
              "      <td>50445427</td>\n",
              "    </tr>\n",
              "    <tr>\n",
              "      <th>151</th>\n",
              "      <td>1659.8</td>\n",
              "      <td>873.4</td>\n",
              "      <td>Vent</td>\n",
              "      <td>not-logged-in-56f43c6d74e436d31d10</td>\n",
              "      <td>50445427</td>\n",
              "    </tr>\n",
              "    <tr>\n",
              "      <th>115</th>\n",
              "      <td>852.2</td>\n",
              "      <td>766.0</td>\n",
              "      <td>Vent</td>\n",
              "      <td>victorav</td>\n",
              "      <td>50445442</td>\n",
              "    </tr>\n",
              "    <tr>\n",
              "      <th>127</th>\n",
              "      <td>859.9</td>\n",
              "      <td>792.8</td>\n",
              "      <td>Vent</td>\n",
              "      <td>not-logged-in-3722cd2cf454b732ca5e</td>\n",
              "      <td>50445442</td>\n",
              "    </tr>\n",
              "    <tr>\n",
              "      <th>169</th>\n",
              "      <td>855.1</td>\n",
              "      <td>768.2</td>\n",
              "      <td>Vent</td>\n",
              "      <td>not-logged-in-01bb5723fed659cb81db</td>\n",
              "      <td>50445442</td>\n",
              "    </tr>\n",
              "  </tbody>\n",
              "</table>\n",
              "</div>"
            ],
            "text/plain": [
              "          x      y  ...                           user_name subject_ids\n",
              "33   1354.6  988.9  ...                            victorav    50445427\n",
              "123  1350.6  993.3  ...  not-logged-in-9b11fa685869df9202f1    50445427\n",
              "153  1348.0  989.7  ...  not-logged-in-56f43c6d74e436d31d10    50445427\n",
              "117   455.2  854.5  ...                            victorav    50445442\n",
              "129   441.4  852.9  ...  not-logged-in-3722cd2cf454b732ca5e    50445442\n",
              "171   445.6  861.6  ...  not-logged-in-01bb5723fed659cb81db    50445442\n",
              "35   1457.4  990.9  ...                            victorav    50445427\n",
              "125  1460.2  993.3  ...  not-logged-in-9b11fa685869df9202f1    50445427\n",
              "155  1460.8  979.1  ...  not-logged-in-56f43c6d74e436d31d10    50445427\n",
              "119   583.4  863.7  ...                            victorav    50445442\n",
              "131   593.2  898.8  ...  not-logged-in-3722cd2cf454b732ca5e    50445442\n",
              "173   587.0  870.9  ...  not-logged-in-01bb5723fed659cb81db    50445442\n",
              "32   1353.1  851.3  ...                            victorav    50445427\n",
              "122  1341.3  846.4  ...  not-logged-in-9b11fa685869df9202f1    50445427\n",
              "152  1342.8  850.5  ...  not-logged-in-56f43c6d74e436d31d10    50445427\n",
              "116   474.0  684.8  ...                            victorav    50445442\n",
              "128   460.8  681.6  ...  not-logged-in-3722cd2cf454b732ca5e    50445442\n",
              "170   463.0  673.5  ...  not-logged-in-01bb5723fed659cb81db    50445442\n",
              "34   1434.6  843.7  ...                            victorav    50445427\n",
              "124  1425.2  837.0  ...  not-logged-in-9b11fa685869df9202f1    50445427\n",
              "154  1422.0  850.5  ...  not-logged-in-56f43c6d74e436d31d10    50445427\n",
              "118   602.9  680.6  ...                            victorav    50445442\n",
              "130   602.1  665.7  ...  not-logged-in-3722cd2cf454b732ca5e    50445442\n",
              "172   587.0  678.8  ...  not-logged-in-01bb5723fed659cb81db    50445442\n",
              "30   1283.1  925.5  ...                            victorav    50445427\n",
              "120  1280.6  932.6  ...  not-logged-in-9b11fa685869df9202f1    50445427\n",
              "150  1272.3  928.0  ...  not-logged-in-56f43c6d74e436d31d10    50445427\n",
              "114   348.5  762.7  ...                            victorav    50445442\n",
              "126   351.3  762.8  ...  not-logged-in-3722cd2cf454b732ca5e    50445442\n",
              "168   348.2  766.9  ...  not-logged-in-01bb5723fed659cb81db    50445442\n",
              "31   1658.9  879.9  ...                            victorav    50445427\n",
              "121  1660.7  874.3  ...  not-logged-in-9b11fa685869df9202f1    50445427\n",
              "151  1659.8  873.4  ...  not-logged-in-56f43c6d74e436d31d10    50445427\n",
              "115   852.2  766.0  ...                            victorav    50445442\n",
              "127   859.9  792.8  ...  not-logged-in-3722cd2cf454b732ca5e    50445442\n",
              "169   855.1  768.2  ...  not-logged-in-01bb5723fed659cb81db    50445442\n",
              "\n",
              "[36 rows x 5 columns]"
            ]
          },
          "metadata": {
            "tags": []
          },
          "execution_count": 48
        }
      ]
    },
    {
      "cell_type": "markdown",
      "metadata": {
        "id": "tfLReh-mYCxp"
      },
      "source": [
        "Code leftovers"
      ]
    },
    {
      "cell_type": "code",
      "metadata": {
        "id": "p7c1GcYwKRon"
      },
      "source": [
        "import os \n",
        "import pandas as pd\n",
        "\n",
        "# Create a df of the photos found in the tmp folder\n",
        "data = []\n",
        "# Loop through each folder in the tmp directory\n",
        "for grid in os.listdir('../tmp/'):\n",
        "  if 'Grid' in grid:\n",
        "    grid_path = '../tmp/' + grid\n",
        "    # Loop through each subfolder in the 'Grid' directories\n",
        "    for subfolder in os.listdir(grid_path):\n",
        "      if 'Individual' in subfolder:\n",
        "        subfolder_path = grid_path + \"/\" + subfolder\n",
        "        # Loop through each individual frog in the \"individual frog\" directoy\n",
        "        for ind in os.listdir(subfolder_path):\n",
        "          if not ind.endswith('db'):\n",
        "            ind_path = subfolder_path + \"/\" + ind\n",
        "            # Loop through each photo of the \"individual\" frog\n",
        "            for doc in os.listdir(ind_path):\n",
        "              #Save information about the photo and the frog\n",
        "              if not doc.endswith('db'):\n",
        "                fpath = ind_path + \"/\" + doc\n",
        "                capt = doc.split(\".\",1)[0].replace('_', '-').rsplit(\"-\",1)[1]\n",
        "                data.append((doc, fpath, capt, ind, grid))\n",
        "\n",
        "df = pd.DataFrame(data,columns = ['filename', 'file_path', 'capture', 'frog_id', 'grid'])"
      ],
      "execution_count": null,
      "outputs": []
    }
  ]
}