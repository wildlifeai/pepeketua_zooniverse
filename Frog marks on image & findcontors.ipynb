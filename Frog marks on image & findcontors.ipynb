{
 "cells": [
  {
   "cell_type": "code",
   "execution_count": 1,
   "metadata": {},
   "outputs": [],
   "source": [
    "import numpy as np\n",
    "import pandas as pd\n",
    "import cv2\n",
    "from matplotlib import pyplot as plt\n",
    "import os"
   ]
  },
  {
   "cell_type": "code",
   "execution_count": 2,
   "metadata": {},
   "outputs": [],
   "source": [
    "import ast"
   ]
  },
  {
   "cell_type": "code",
   "execution_count": 3,
   "metadata": {},
   "outputs": [],
   "source": [
    "df = pd.read_csv('C:\\\\Users\\\\Chen\\\\Frog ID\\\\Frog data\\\\flat_anotations.csv')"
   ]
  },
  {
   "cell_type": "code",
   "execution_count": 4,
   "metadata": {},
   "outputs": [
    {
     "data": {
      "text/html": [
       "<div>\n",
       "<style scoped>\n",
       "    .dataframe tbody tr th:only-of-type {\n",
       "        vertical-align: middle;\n",
       "    }\n",
       "\n",
       "    .dataframe tbody tr th {\n",
       "        vertical-align: top;\n",
       "    }\n",
       "\n",
       "    .dataframe thead th {\n",
       "        text-align: right;\n",
       "    }\n",
       "</style>\n",
       "<table border=\"1\" class=\"dataframe\">\n",
       "  <thead>\n",
       "    <tr style=\"text-align: right;\">\n",
       "      <th></th>\n",
       "      <th>x</th>\n",
       "      <th>y</th>\n",
       "      <th>label</th>\n",
       "      <th>classification_id</th>\n",
       "      <th>user_name</th>\n",
       "      <th>subject_data</th>\n",
       "      <th>subject_ids</th>\n",
       "    </tr>\n",
       "  </thead>\n",
       "  <tbody>\n",
       "    <tr>\n",
       "      <th>0</th>\n",
       "      <td>629.945068</td>\n",
       "      <td>877.188782</td>\n",
       "      <td>Tip of snout</td>\n",
       "      <td>278017541</td>\n",
       "      <td>victorav</td>\n",
       "      <td>{\"50445441\":{\"retired\":null,\"grid\":\"Grid A\",\"c...</td>\n",
       "      <td>50445441</td>\n",
       "    </tr>\n",
       "    <tr>\n",
       "      <th>1</th>\n",
       "      <td>1227.169678</td>\n",
       "      <td>910.180786</td>\n",
       "      <td>Vent</td>\n",
       "      <td>278017541</td>\n",
       "      <td>victorav</td>\n",
       "      <td>{\"50445441\":{\"retired\":null,\"grid\":\"Grid A\",\"c...</td>\n",
       "      <td>50445441</td>\n",
       "    </tr>\n",
       "    <tr>\n",
       "      <th>2</th>\n",
       "      <td>733.764771</td>\n",
       "      <td>775.934021</td>\n",
       "      <td>Right eye</td>\n",
       "      <td>278017541</td>\n",
       "      <td>victorav</td>\n",
       "      <td>{\"50445441\":{\"retired\":null,\"grid\":\"Grid A\",\"c...</td>\n",
       "      <td>50445441</td>\n",
       "    </tr>\n",
       "    <tr>\n",
       "      <th>3</th>\n",
       "      <td>738.509338</td>\n",
       "      <td>991.895691</td>\n",
       "      <td>Left eye</td>\n",
       "      <td>278017541</td>\n",
       "      <td>victorav</td>\n",
       "      <td>{\"50445441\":{\"retired\":null,\"grid\":\"Grid A\",\"c...</td>\n",
       "      <td>50445441</td>\n",
       "    </tr>\n",
       "    <tr>\n",
       "      <th>4</th>\n",
       "      <td>912.628296</td>\n",
       "      <td>750.835022</td>\n",
       "      <td>Right front leg</td>\n",
       "      <td>278017541</td>\n",
       "      <td>victorav</td>\n",
       "      <td>{\"50445441\":{\"retired\":null,\"grid\":\"Grid A\",\"c...</td>\n",
       "      <td>50445441</td>\n",
       "    </tr>\n",
       "  </tbody>\n",
       "</table>\n",
       "</div>"
      ],
      "text/plain": [
       "             x           y            label  classification_id user_name  \\\n",
       "0   629.945068  877.188782     Tip of snout          278017541  victorav   \n",
       "1  1227.169678  910.180786             Vent          278017541  victorav   \n",
       "2   733.764771  775.934021        Right eye          278017541  victorav   \n",
       "3   738.509338  991.895691         Left eye          278017541  victorav   \n",
       "4   912.628296  750.835022  Right front leg          278017541  victorav   \n",
       "\n",
       "                                        subject_data  subject_ids  \n",
       "0  {\"50445441\":{\"retired\":null,\"grid\":\"Grid A\",\"c...     50445441  \n",
       "1  {\"50445441\":{\"retired\":null,\"grid\":\"Grid A\",\"c...     50445441  \n",
       "2  {\"50445441\":{\"retired\":null,\"grid\":\"Grid A\",\"c...     50445441  \n",
       "3  {\"50445441\":{\"retired\":null,\"grid\":\"Grid A\",\"c...     50445441  \n",
       "4  {\"50445441\":{\"retired\":null,\"grid\":\"Grid A\",\"c...     50445441  "
      ]
     },
     "execution_count": 4,
     "metadata": {},
     "output_type": "execute_result"
    }
   ],
   "source": [
    "df.head()"
   ]
  },
  {
   "cell_type": "code",
   "execution_count": 5,
   "metadata": {},
   "outputs": [],
   "source": [
    "df['data_filename']=df.subject_data.str.replace(\"null\",\"0\")"
   ]
  },
  {
   "cell_type": "code",
   "execution_count": 6,
   "metadata": {},
   "outputs": [
    {
     "data": {
      "text/html": [
       "<div>\n",
       "<style scoped>\n",
       "    .dataframe tbody tr th:only-of-type {\n",
       "        vertical-align: middle;\n",
       "    }\n",
       "\n",
       "    .dataframe tbody tr th {\n",
       "        vertical-align: top;\n",
       "    }\n",
       "\n",
       "    .dataframe thead th {\n",
       "        text-align: right;\n",
       "    }\n",
       "</style>\n",
       "<table border=\"1\" class=\"dataframe\">\n",
       "  <thead>\n",
       "    <tr style=\"text-align: right;\">\n",
       "      <th></th>\n",
       "      <th>x</th>\n",
       "      <th>y</th>\n",
       "      <th>label</th>\n",
       "      <th>classification_id</th>\n",
       "      <th>user_name</th>\n",
       "      <th>subject_data</th>\n",
       "      <th>subject_ids</th>\n",
       "      <th>data_filename</th>\n",
       "    </tr>\n",
       "  </thead>\n",
       "  <tbody>\n",
       "    <tr>\n",
       "      <th>0</th>\n",
       "      <td>629.945068</td>\n",
       "      <td>877.188782</td>\n",
       "      <td>Tip of snout</td>\n",
       "      <td>278017541</td>\n",
       "      <td>victorav</td>\n",
       "      <td>{\"50445441\":{\"retired\":null,\"grid\":\"Grid A\",\"c...</td>\n",
       "      <td>50445441</td>\n",
       "      <td>{\"50445441\":{\"retired\":0,\"grid\":\"Grid A\",\"capt...</td>\n",
       "    </tr>\n",
       "    <tr>\n",
       "      <th>1</th>\n",
       "      <td>1227.169678</td>\n",
       "      <td>910.180786</td>\n",
       "      <td>Vent</td>\n",
       "      <td>278017541</td>\n",
       "      <td>victorav</td>\n",
       "      <td>{\"50445441\":{\"retired\":null,\"grid\":\"Grid A\",\"c...</td>\n",
       "      <td>50445441</td>\n",
       "      <td>{\"50445441\":{\"retired\":0,\"grid\":\"Grid A\",\"capt...</td>\n",
       "    </tr>\n",
       "    <tr>\n",
       "      <th>2</th>\n",
       "      <td>733.764771</td>\n",
       "      <td>775.934021</td>\n",
       "      <td>Right eye</td>\n",
       "      <td>278017541</td>\n",
       "      <td>victorav</td>\n",
       "      <td>{\"50445441\":{\"retired\":null,\"grid\":\"Grid A\",\"c...</td>\n",
       "      <td>50445441</td>\n",
       "      <td>{\"50445441\":{\"retired\":0,\"grid\":\"Grid A\",\"capt...</td>\n",
       "    </tr>\n",
       "    <tr>\n",
       "      <th>3</th>\n",
       "      <td>738.509338</td>\n",
       "      <td>991.895691</td>\n",
       "      <td>Left eye</td>\n",
       "      <td>278017541</td>\n",
       "      <td>victorav</td>\n",
       "      <td>{\"50445441\":{\"retired\":null,\"grid\":\"Grid A\",\"c...</td>\n",
       "      <td>50445441</td>\n",
       "      <td>{\"50445441\":{\"retired\":0,\"grid\":\"Grid A\",\"capt...</td>\n",
       "    </tr>\n",
       "    <tr>\n",
       "      <th>4</th>\n",
       "      <td>912.628296</td>\n",
       "      <td>750.835022</td>\n",
       "      <td>Right front leg</td>\n",
       "      <td>278017541</td>\n",
       "      <td>victorav</td>\n",
       "      <td>{\"50445441\":{\"retired\":null,\"grid\":\"Grid A\",\"c...</td>\n",
       "      <td>50445441</td>\n",
       "      <td>{\"50445441\":{\"retired\":0,\"grid\":\"Grid A\",\"capt...</td>\n",
       "    </tr>\n",
       "  </tbody>\n",
       "</table>\n",
       "</div>"
      ],
      "text/plain": [
       "             x           y            label  classification_id user_name  \\\n",
       "0   629.945068  877.188782     Tip of snout          278017541  victorav   \n",
       "1  1227.169678  910.180786             Vent          278017541  victorav   \n",
       "2   733.764771  775.934021        Right eye          278017541  victorav   \n",
       "3   738.509338  991.895691         Left eye          278017541  victorav   \n",
       "4   912.628296  750.835022  Right front leg          278017541  victorav   \n",
       "\n",
       "                                        subject_data  subject_ids  \\\n",
       "0  {\"50445441\":{\"retired\":null,\"grid\":\"Grid A\",\"c...     50445441   \n",
       "1  {\"50445441\":{\"retired\":null,\"grid\":\"Grid A\",\"c...     50445441   \n",
       "2  {\"50445441\":{\"retired\":null,\"grid\":\"Grid A\",\"c...     50445441   \n",
       "3  {\"50445441\":{\"retired\":null,\"grid\":\"Grid A\",\"c...     50445441   \n",
       "4  {\"50445441\":{\"retired\":null,\"grid\":\"Grid A\",\"c...     50445441   \n",
       "\n",
       "                                       data_filename  \n",
       "0  {\"50445441\":{\"retired\":0,\"grid\":\"Grid A\",\"capt...  \n",
       "1  {\"50445441\":{\"retired\":0,\"grid\":\"Grid A\",\"capt...  \n",
       "2  {\"50445441\":{\"retired\":0,\"grid\":\"Grid A\",\"capt...  \n",
       "3  {\"50445441\":{\"retired\":0,\"grid\":\"Grid A\",\"capt...  \n",
       "4  {\"50445441\":{\"retired\":0,\"grid\":\"Grid A\",\"capt...  "
      ]
     },
     "execution_count": 6,
     "metadata": {},
     "output_type": "execute_result"
    }
   ],
   "source": [
    "df.head()"
   ]
  },
  {
   "cell_type": "code",
   "execution_count": 7,
   "metadata": {},
   "outputs": [],
   "source": [
    "df['fig_name']=df['data_filename'].apply(lambda x: ast.literal_eval(x)[list(eval(x).keys())[0]]['filename'])"
   ]
  },
  {
   "cell_type": "code",
   "execution_count": 8,
   "metadata": {},
   "outputs": [],
   "source": [
    "df['frog_id']=df['data_filename'].apply(lambda x: ast.literal_eval(x)[list(eval(x).keys())[0]]['frog_id'])"
   ]
  },
  {
   "cell_type": "code",
   "execution_count": 9,
   "metadata": {},
   "outputs": [
    {
     "data": {
      "text/html": [
       "<div>\n",
       "<style scoped>\n",
       "    .dataframe tbody tr th:only-of-type {\n",
       "        vertical-align: middle;\n",
       "    }\n",
       "\n",
       "    .dataframe tbody tr th {\n",
       "        vertical-align: top;\n",
       "    }\n",
       "\n",
       "    .dataframe thead th {\n",
       "        text-align: right;\n",
       "    }\n",
       "</style>\n",
       "<table border=\"1\" class=\"dataframe\">\n",
       "  <thead>\n",
       "    <tr style=\"text-align: right;\">\n",
       "      <th></th>\n",
       "      <th>x</th>\n",
       "      <th>y</th>\n",
       "      <th>label</th>\n",
       "      <th>classification_id</th>\n",
       "      <th>user_name</th>\n",
       "      <th>subject_data</th>\n",
       "      <th>subject_ids</th>\n",
       "      <th>data_filename</th>\n",
       "      <th>fig_name</th>\n",
       "      <th>frog_id</th>\n",
       "    </tr>\n",
       "  </thead>\n",
       "  <tbody>\n",
       "    <tr>\n",
       "      <th>0</th>\n",
       "      <td>629.945068</td>\n",
       "      <td>877.188782</td>\n",
       "      <td>Tip of snout</td>\n",
       "      <td>278017541</td>\n",
       "      <td>victorav</td>\n",
       "      <td>{\"50445441\":{\"retired\":null,\"grid\":\"Grid A\",\"c...</td>\n",
       "      <td>50445441</td>\n",
       "      <td>{\"50445441\":{\"retired\":0,\"grid\":\"Grid A\",\"capt...</td>\n",
       "      <td>00_0-357.jpg</td>\n",
       "      <td>130</td>\n",
       "    </tr>\n",
       "    <tr>\n",
       "      <th>1</th>\n",
       "      <td>1227.169678</td>\n",
       "      <td>910.180786</td>\n",
       "      <td>Vent</td>\n",
       "      <td>278017541</td>\n",
       "      <td>victorav</td>\n",
       "      <td>{\"50445441\":{\"retired\":null,\"grid\":\"Grid A\",\"c...</td>\n",
       "      <td>50445441</td>\n",
       "      <td>{\"50445441\":{\"retired\":0,\"grid\":\"Grid A\",\"capt...</td>\n",
       "      <td>00_0-357.jpg</td>\n",
       "      <td>130</td>\n",
       "    </tr>\n",
       "    <tr>\n",
       "      <th>2</th>\n",
       "      <td>733.764771</td>\n",
       "      <td>775.934021</td>\n",
       "      <td>Right eye</td>\n",
       "      <td>278017541</td>\n",
       "      <td>victorav</td>\n",
       "      <td>{\"50445441\":{\"retired\":null,\"grid\":\"Grid A\",\"c...</td>\n",
       "      <td>50445441</td>\n",
       "      <td>{\"50445441\":{\"retired\":0,\"grid\":\"Grid A\",\"capt...</td>\n",
       "      <td>00_0-357.jpg</td>\n",
       "      <td>130</td>\n",
       "    </tr>\n",
       "    <tr>\n",
       "      <th>3</th>\n",
       "      <td>738.509338</td>\n",
       "      <td>991.895691</td>\n",
       "      <td>Left eye</td>\n",
       "      <td>278017541</td>\n",
       "      <td>victorav</td>\n",
       "      <td>{\"50445441\":{\"retired\":null,\"grid\":\"Grid A\",\"c...</td>\n",
       "      <td>50445441</td>\n",
       "      <td>{\"50445441\":{\"retired\":0,\"grid\":\"Grid A\",\"capt...</td>\n",
       "      <td>00_0-357.jpg</td>\n",
       "      <td>130</td>\n",
       "    </tr>\n",
       "    <tr>\n",
       "      <th>4</th>\n",
       "      <td>912.628296</td>\n",
       "      <td>750.835022</td>\n",
       "      <td>Right front leg</td>\n",
       "      <td>278017541</td>\n",
       "      <td>victorav</td>\n",
       "      <td>{\"50445441\":{\"retired\":null,\"grid\":\"Grid A\",\"c...</td>\n",
       "      <td>50445441</td>\n",
       "      <td>{\"50445441\":{\"retired\":0,\"grid\":\"Grid A\",\"capt...</td>\n",
       "      <td>00_0-357.jpg</td>\n",
       "      <td>130</td>\n",
       "    </tr>\n",
       "    <tr>\n",
       "      <th>5</th>\n",
       "      <td>894.585632</td>\n",
       "      <td>993.976257</td>\n",
       "      <td>Left front leg</td>\n",
       "      <td>278017541</td>\n",
       "      <td>victorav</td>\n",
       "      <td>{\"50445441\":{\"retired\":null,\"grid\":\"Grid A\",\"c...</td>\n",
       "      <td>50445441</td>\n",
       "      <td>{\"50445441\":{\"retired\":0,\"grid\":\"Grid A\",\"capt...</td>\n",
       "      <td>00_0-357.jpg</td>\n",
       "      <td>130</td>\n",
       "    </tr>\n",
       "    <tr>\n",
       "      <th>6</th>\n",
       "      <td>741.838806</td>\n",
       "      <td>1128.011841</td>\n",
       "      <td>Tip of snout</td>\n",
       "      <td>278017631</td>\n",
       "      <td>victorav</td>\n",
       "      <td>{\"50445447\":{\"retired\":null,\"grid\":\"Grid B\",\"c...</td>\n",
       "      <td>50445447</td>\n",
       "      <td>{\"50445447\":{\"retired\":0,\"grid\":\"Grid B\",\"capt...</td>\n",
       "      <td>1100-2578.jpg</td>\n",
       "      <td>171</td>\n",
       "    </tr>\n",
       "    <tr>\n",
       "      <th>7</th>\n",
       "      <td>1328.153687</td>\n",
       "      <td>1027.318481</td>\n",
       "      <td>Vent</td>\n",
       "      <td>278017631</td>\n",
       "      <td>victorav</td>\n",
       "      <td>{\"50445447\":{\"retired\":null,\"grid\":\"Grid B\",\"c...</td>\n",
       "      <td>50445447</td>\n",
       "      <td>{\"50445447\":{\"retired\":0,\"grid\":\"Grid B\",\"capt...</td>\n",
       "      <td>1100-2578.jpg</td>\n",
       "      <td>171</td>\n",
       "    </tr>\n",
       "  </tbody>\n",
       "</table>\n",
       "</div>"
      ],
      "text/plain": [
       "             x            y            label  classification_id user_name  \\\n",
       "0   629.945068   877.188782     Tip of snout          278017541  victorav   \n",
       "1  1227.169678   910.180786             Vent          278017541  victorav   \n",
       "2   733.764771   775.934021        Right eye          278017541  victorav   \n",
       "3   738.509338   991.895691         Left eye          278017541  victorav   \n",
       "4   912.628296   750.835022  Right front leg          278017541  victorav   \n",
       "5   894.585632   993.976257   Left front leg          278017541  victorav   \n",
       "6   741.838806  1128.011841     Tip of snout          278017631  victorav   \n",
       "7  1328.153687  1027.318481             Vent          278017631  victorav   \n",
       "\n",
       "                                        subject_data  subject_ids  \\\n",
       "0  {\"50445441\":{\"retired\":null,\"grid\":\"Grid A\",\"c...     50445441   \n",
       "1  {\"50445441\":{\"retired\":null,\"grid\":\"Grid A\",\"c...     50445441   \n",
       "2  {\"50445441\":{\"retired\":null,\"grid\":\"Grid A\",\"c...     50445441   \n",
       "3  {\"50445441\":{\"retired\":null,\"grid\":\"Grid A\",\"c...     50445441   \n",
       "4  {\"50445441\":{\"retired\":null,\"grid\":\"Grid A\",\"c...     50445441   \n",
       "5  {\"50445441\":{\"retired\":null,\"grid\":\"Grid A\",\"c...     50445441   \n",
       "6  {\"50445447\":{\"retired\":null,\"grid\":\"Grid B\",\"c...     50445447   \n",
       "7  {\"50445447\":{\"retired\":null,\"grid\":\"Grid B\",\"c...     50445447   \n",
       "\n",
       "                                       data_filename       fig_name frog_id  \n",
       "0  {\"50445441\":{\"retired\":0,\"grid\":\"Grid A\",\"capt...   00_0-357.jpg     130  \n",
       "1  {\"50445441\":{\"retired\":0,\"grid\":\"Grid A\",\"capt...   00_0-357.jpg     130  \n",
       "2  {\"50445441\":{\"retired\":0,\"grid\":\"Grid A\",\"capt...   00_0-357.jpg     130  \n",
       "3  {\"50445441\":{\"retired\":0,\"grid\":\"Grid A\",\"capt...   00_0-357.jpg     130  \n",
       "4  {\"50445441\":{\"retired\":0,\"grid\":\"Grid A\",\"capt...   00_0-357.jpg     130  \n",
       "5  {\"50445441\":{\"retired\":0,\"grid\":\"Grid A\",\"capt...   00_0-357.jpg     130  \n",
       "6  {\"50445447\":{\"retired\":0,\"grid\":\"Grid B\",\"capt...  1100-2578.jpg     171  \n",
       "7  {\"50445447\":{\"retired\":0,\"grid\":\"Grid B\",\"capt...  1100-2578.jpg     171  "
      ]
     },
     "execution_count": 9,
     "metadata": {},
     "output_type": "execute_result"
    }
   ],
   "source": [
    "df.head(8)"
   ]
  },
  {
   "cell_type": "code",
   "execution_count": 10,
   "metadata": {},
   "outputs": [
    {
     "data": {
      "text/plain": [
       "'{\"50445441\":{\"retired\":0,\"grid\":\"Grid A\",\"capture\":\"357\",\"frog_id\":\"130\",\"filename\":\"00_0-357.jpg\"}}'"
      ]
     },
     "execution_count": 10,
     "metadata": {},
     "output_type": "execute_result"
    }
   ],
   "source": [
    "df.data_filename[0]"
   ]
  },
  {
   "cell_type": "code",
   "execution_count": 11,
   "metadata": {},
   "outputs": [],
   "source": [
    "path='C:\\\\Users\\\\Chen\\\\Frog ID\\\\whareorino_a\\\\Grid A\\\\Individual Frogs'"
   ]
  },
  {
   "cell_type": "code",
   "execution_count": 12,
   "metadata": {},
   "outputs": [],
   "source": [
    "# הגדרה של תמונה ספציפית מתוך הדאטהפריים"
   ]
  },
  {
   "cell_type": "code",
   "execution_count": 13,
   "metadata": {},
   "outputs": [],
   "source": [
    "image=cv2.imread(os.path.join(path,df['frog_id'].iloc[25],df['fig_name'].iloc[25]))"
   ]
  },
  {
   "cell_type": "code",
   "execution_count": 14,
   "metadata": {},
   "outputs": [],
   "source": [
    "# הצגה של התמונה שהגדרנו"
   ]
  },
  {
   "cell_type": "code",
   "execution_count": 15,
   "metadata": {},
   "outputs": [],
   "source": [
    "cv2.imshow('image',image)\n",
    "cv2.cv2.waitKey(0) # משך זמן הצגת תמונה-0 אין סוף  \n",
    "cv2.destroyAllWindows() #"
   ]
  },
  {
   "cell_type": "code",
   "execution_count": 16,
   "metadata": {},
   "outputs": [],
   "source": [
    "\n",
    "def open_img(filepath):\n",
    "    \n",
    "    img=cv2.imread(filepath) # התמונה\n",
    "    mark=cv2.circle(img, (int(df['x'].iloc[0]),int(df['y'].iloc[0])),10,(0,0,255))\n",
    "    resize = ResizeWithAspectRatio(mark, width=900) # התמונה מוקטנת\n",
    "    #mark=cv2.circle(resize, (140,140),5,(0,0,255))\n",
    "\n",
    "    \n",
    "    cv2.imshow(\"Image number {}\".format(filepath), resize)\n",
    "    cv2.cv2.waitKey(0) # משך זמן הצגת תמונה-0 אין סוף  \n",
    "    cv2.destroyAllWindows() # "
   ]
  },
  {
   "cell_type": "markdown",
   "metadata": {},
   "source": [
    "def open_img(filepath):\n",
    "    \n",
    "    img=cv2.imread(filepath) # התמונה\n",
    "    mark=cv2.circle(img, (int(df['x'].iloc[0]),int(df['y'].iloc[0])),10,(0,0,255),5)\n",
    "    mark1=cv2.circle(mark, (int(df['x'].iloc[1]),int(df['y'].iloc[1])),10,(0,0,255),5)\n",
    "    mark2=cv2.circle(mark1, (int(df['x'].iloc[2]),int(df['y'].iloc[2])),10,(0,0,255),5)\n",
    "    mark3=cv2.circle(mark2, (int(df['x'].iloc[3]),int(df['y'].iloc[3])),10,(0,0,255),5)\n",
    "    mark4=cv2.circle(mark3, (int(df['x'].iloc[4]),int(df['y'].iloc[4])),10,(0,0,255),5)\n",
    "    mark5=cv2.circle(mark4, (int(df['x'].iloc[5]),int(df['y'].iloc[5])),10,(0,0,255),5)\n",
    "    resize = ResizeWithAspectRatio(mark5, width=900) # התמונה מוקטנת\n",
    "    \n",
    "\n",
    "    \n",
    "    cv2.imshow(\"Image number {}\".format(filepath), resize)\n",
    "    cv2.cv2.waitKey(0) # משך זמן הצגת תמונה-0 אין סוף  \n",
    "    cv2.destroyAllWindows() # "
   ]
  },
  {
   "cell_type": "code",
   "execution_count": 17,
   "metadata": {},
   "outputs": [],
   "source": [
    "# שלבי פעולה\n",
    "#1 מגדירים פונקציה שמקטינה תמונה תוך שמירה על הפורפורציות\n",
    "#2 מגדירים פונקציה שמקבלת שם תמונה ודאטהפריים\n",
    "# בתוך הפונקציה יש הגדרה של קורדינטות\n",
    "# קריאה לתמונה ציור מעגלים וקווים ע\"פ הקורדינטות\n",
    "# הקטנת התמונה באופן פורפורצינאלי בעזרת פונקציית ההקטנה שכבר הוגדרה"
   ]
  },
  {
   "cell_type": "code",
   "execution_count": 18,
   "metadata": {},
   "outputs": [],
   "source": [
    "#1\n",
    "# פונקציה שמגדירה איך להקטין תמונה תוך שמירה על פורפורציות\n",
    "def ResizeWithAspectRatio(image, width=None, height=None, inter=cv2.INTER_AREA):\n",
    "    dim = None\n",
    "    (h, w) = image.shape[:2]\n",
    "\n",
    "    if width is None and height is None:\n",
    "        return image\n",
    "    if width is None:\n",
    "        r = height / float(h)\n",
    "        dim = (int(w * r), height)\n",
    "    else:\n",
    "        r = width / float(w)\n",
    "        dim = (width, int(h * r))\n",
    "\n",
    "    return cv2.resize(image, dim, interpolation=inter)"
   ]
  },
  {
   "cell_type": "code",
   "execution_count": 19,
   "metadata": {},
   "outputs": [],
   "source": [
    "def open_img(filepath, df):\n",
    "    \n",
    "    snout=(int(df['x'].iloc[0]),int(df['y'].iloc[0]))\n",
    "    vent=(int(df['x'].iloc[1]),int(df['y'].iloc[1]))\n",
    "    reye=(int(df['x'].iloc[2]),int(df['y'].iloc[2]))\n",
    "    leye=(int(df['x'].iloc[3]),int(df['y'].iloc[3]))\n",
    "    rleg=(int(df['x'].iloc[4]),int(df['y'].iloc[4]))\n",
    "    lleg=(int(df['x'].iloc[5]),int(df['y'].iloc[5]))\n",
    "\n",
    "    img=cv2.imread(filepath) # התמונה\n",
    "    mark=cv2.circle(img, snout,10,(0,0,255),4)\n",
    "    mark1=cv2.circle(mark, vent,10,(0,0,255),4)\n",
    "    mark2=cv2.circle(mark1, reye,10,(0,0,255),4)\n",
    "    mark3=cv2.circle(mark2, leye,10,(0,0,255),4)\n",
    "    mark4=cv2.circle(mark3, rleg,10,(0,0,255),4)\n",
    "    mark5=cv2.circle(mark4, lleg,10,(0,0,255),4)\n",
    "    snout_ventline=cv2.line(mark5, snout, vent, (0,0,255), 3)\n",
    "    eyeline=cv2.line(mark5, reye, leye, (0,0,255), 3)\n",
    "    legline=cv2.line(mark5, rleg, lleg, (0,0,255), 3)\n",
    "    resize = ResizeWithAspectRatio(mark5, width=900) # התמונה מוקטנת\n",
    "    \n",
    "\n",
    "    \n",
    "    cv2.imshow(\"Image number {}\".format(filepath), resize)\n",
    "    cv2.cv2.waitKey(0) # משך זמן הצגת תמונה-0 אין סוף  \n",
    "    cv2.destroyAllWindows() # "
   ]
  },
  {
   "cell_type": "code",
   "execution_count": 20,
   "metadata": {},
   "outputs": [],
   "source": [
    "# קריאה לפונקציה תוך הזנת שם הקובץ ומאיזה דטאהפריים לקחת אותו"
   ]
  },
  {
   "cell_type": "code",
   "execution_count": 21,
   "metadata": {},
   "outputs": [],
   "source": [
    "open_img(os.path.join(path,df['frog_id'].iloc[0],df['fig_name'].iloc[0]), df)"
   ]
  },
  {
   "cell_type": "code",
   "execution_count": 22,
   "metadata": {},
   "outputs": [],
   "source": [
    "# Image directory\n",
    "directory = r'C:\\Users\\Chen\\Frog ID\\frog on prosses'"
   ]
  },
  {
   "cell_type": "code",
   "execution_count": 23,
   "metadata": {},
   "outputs": [],
   "source": [
    "# Change the current directory \n",
    "# to specified directory \n",
    "os.chdir(directory)"
   ]
  },
  {
   "cell_type": "code",
   "execution_count": 24,
   "metadata": {},
   "outputs": [],
   "source": [
    "# saveing the procssed image in the frog on prosses - directory\n",
    "def save_img(filepath, df):\n",
    "    \n",
    "    snout=(int(df['x'].iloc[0]),int(df['y'].iloc[0]))\n",
    "    vent=(int(df['x'].iloc[1]),int(df['y'].iloc[1]))\n",
    "    reye=(int(df['x'].iloc[2]),int(df['y'].iloc[2]))\n",
    "    leye=(int(df['x'].iloc[3]),int(df['y'].iloc[3]))\n",
    "    rleg=(int(df['x'].iloc[4]),int(df['y'].iloc[4]))\n",
    "    lleg=(int(df['x'].iloc[5]),int(df['y'].iloc[5]))\n",
    "\n",
    "    img=cv2.imread(filepath) # התמונה\n",
    "    mark=cv2.circle(img, snout,10,(0,0,255),4)\n",
    "    mark1=cv2.circle(mark, vent,10,(0,0,255),4)\n",
    "    mark2=cv2.circle(mark1, reye,10,(0,0,255),4)\n",
    "    mark3=cv2.circle(mark2, leye,10,(0,0,255),4)\n",
    "    mark4=cv2.circle(mark3, rleg,10,(0,0,255),4)\n",
    "    mark5=cv2.circle(mark4, lleg,10,(0,0,255),4)\n",
    "    snout_ventline=cv2.line(mark5, snout, vent, (0,0,255), 3)\n",
    "    eyeline=cv2.line(mark5, reye, leye, (0,0,255), 3)\n",
    "    legline=cv2.line(mark5, rleg, lleg, (0,0,255), 3)\n",
    "    resize = ResizeWithAspectRatio(mark5, width=900) # התמונה מוקטנת\n",
    "    \n",
    "\n",
    "    \n",
    "    cv2.imwrite('C:\\\\Users\\\\Chen\\\\Frog ID\\\\frog on prosses\\\\f1.jpg', resize)\n",
    "    "
   ]
  },
  {
   "cell_type": "code",
   "execution_count": 25,
   "metadata": {},
   "outputs": [],
   "source": [
    "save_img(os.path.join(path,df['frog_id'].iloc[0],df['fig_name'].iloc[0]), df)"
   ]
  },
  {
   "cell_type": "code",
   "execution_count": 26,
   "metadata": {},
   "outputs": [
    {
     "name": "stdout",
     "output_type": "stream",
     "text": [
      "Number of Contours found = 349\n"
     ]
    }
   ],
   "source": [
    "# Let's load the image \n",
    "image = cv2.imread('C:\\\\Users\\\\Chen\\\\Frog ID\\\\frog on prosses\\\\f1.jpg')\n",
    "cv2.waitKey(0)\n",
    "\n",
    "# Grayscale\n",
    "gray = cv2.cvtColor(image, cv2.COLOR_BGR2GRAY)\n",
    "\n",
    "# Find Canny edges\n",
    "edged = cv2.Canny(gray, 30, 200)\n",
    "cv2.waitKey(0)\n",
    "\n",
    "# Finding Contours\n",
    "# Use a copy of the image e.g. edged.0copy()\n",
    "# since findContours alters the image\n",
    "\n",
    "cnts, hierarchy = cv2.findContours(edged,cv2.RETR_EXTERNAL, cv2.CHAIN_APPROX_NONE) \n",
    "#contours, hierarchy = cv2.findContours(edged,cv2.RETR_EXTERNAL, cv2.CHAIN_APPROX_NONE)\n",
    "\n",
    "\n",
    "cv2.imshow('Canny Edges After Contouring', edged)\n",
    "cv2.waitKey(0)\n",
    "\n",
    "print(\"Number of Contours found = \" + str(len(cnts)))\n",
    "\n",
    "# Draw all contours\n",
    "# -1 signifies drawing all contours\n",
    "cv2.drawContours(image, cnts, -1, (0, 255, 0), 3)\n",
    "\n",
    "cv2.imshow('Contours', image)\n",
    "cv2.waitKey(0)\n",
    "cv2.destroyAllWindows()\n"
   ]
  },
  {
   "cell_type": "code",
   "execution_count": 27,
   "metadata": {},
   "outputs": [],
   "source": [
    "import imutils"
   ]
  },
  {
   "cell_type": "code",
   "execution_count": 28,
   "metadata": {},
   "outputs": [],
   "source": [
    "cnts = cv2.findContours(edged.copy(), cv2.RETR_EXTERNAL,cv2.CHAIN_APPROX_SIMPLE)\n",
    "cnts = imutils.grab_contours(cnts)"
   ]
  },
  {
   "cell_type": "markdown",
   "metadata": {},
   "source": [
    "cnts "
   ]
  },
  {
   "cell_type": "code",
   "execution_count": 29,
   "metadata": {},
   "outputs": [],
   "source": [
    "# find contours in thresholded image, then grab the largest\n",
    "c = max(cnts, key=cv2.contourArea)"
   ]
  },
  {
   "cell_type": "code",
   "execution_count": 30,
   "metadata": {},
   "outputs": [],
   "source": [
    "left = tuple(c[c[:, :, 0].argmin()][0])\n",
    "right = tuple(c[c[:, :, 0].argmax()][0])\n",
    "top = tuple(c[c[:, :, 1].argmin()][0])\n",
    "bottom = tuple(c[c[:, :, 1].argmax()][0])"
   ]
  },
  {
   "cell_type": "code",
   "execution_count": 31,
   "metadata": {},
   "outputs": [
    {
     "data": {
      "text/plain": [
       "48"
      ]
     },
     "execution_count": 31,
     "metadata": {},
     "output_type": "execute_result"
    }
   ],
   "source": [
    "# draw the outline of the object, then draw each of the\n",
    "# extreme points, where the left-most is red, right-most\n",
    "# is green, top-most is blue, and bottom-most is teal\n",
    "cv2.drawContours(image, [c], -1, (0, 255, 255), 2)\n",
    "cv2.circle(image, left, 8, (0, 0, 255), -1)\n",
    "cv2.circle(image, right, 8, (0, 255, 0), -1)\n",
    "cv2.circle(image, top, 8, (255, 0, 0), -1)\n",
    "cv2.circle(image, bottom, 8, (255, 255, 0), -1)\n",
    "# show the output image\n",
    "cv2.imshow(\"Image\", image)\n",
    "cv2.waitKey(0)"
   ]
  },
  {
   "cell_type": "code",
   "execution_count": 42,
   "metadata": {},
   "outputs": [
    {
     "ename": "IndexError",
     "evalue": "index 1 is out of bounds for axis 0 with size 1",
     "output_type": "error",
     "traceback": [
      "\u001b[1;31m---------------------------------------------------------------------------\u001b[0m",
      "\u001b[1;31mIndexError\u001b[0m                                Traceback (most recent call last)",
      "\u001b[1;32m<ipython-input-42-93b02ac7822b>\u001b[0m in \u001b[0;36m<module>\u001b[1;34m\u001b[0m\n\u001b[0;32m      1\u001b[0m \u001b[1;31m#l = [(0, 0.0083553666846612491), (1, 0.0054999681509501821)]\u001b[0m\u001b[1;33m\u001b[0m\u001b[1;33m\u001b[0m\u001b[1;33m\u001b[0m\u001b[0m\n\u001b[1;32m----> 2\u001b[1;33m \u001b[0msmallest\u001b[0m \u001b[1;33m=\u001b[0m \u001b[0mmin\u001b[0m\u001b[1;33m(\u001b[0m\u001b[0mcnts\u001b[0m\u001b[1;33m,\u001b[0m \u001b[0mkey\u001b[0m\u001b[1;33m=\u001b[0m\u001b[1;32mlambda\u001b[0m \u001b[0mx\u001b[0m\u001b[1;33m:\u001b[0m \u001b[0mx\u001b[0m\u001b[1;33m[\u001b[0m\u001b[1;36m1\u001b[0m\u001b[1;33m]\u001b[0m\u001b[1;33m.\u001b[0m\u001b[0many\u001b[0m\u001b[1;33m(\u001b[0m\u001b[1;33m)\u001b[0m\u001b[1;33m)\u001b[0m\u001b[1;33m[\u001b[0m\u001b[1;36m0\u001b[0m\u001b[1;33m]\u001b[0m\u001b[1;33m\u001b[0m\u001b[1;33m\u001b[0m\u001b[0m\n\u001b[0m\u001b[0;32m      3\u001b[0m \u001b[0msmallest\u001b[0m\u001b[1;33m\u001b[0m\u001b[1;33m\u001b[0m\u001b[0m\n",
      "\u001b[1;32m<ipython-input-42-93b02ac7822b>\u001b[0m in \u001b[0;36m<lambda>\u001b[1;34m(x)\u001b[0m\n\u001b[0;32m      1\u001b[0m \u001b[1;31m#l = [(0, 0.0083553666846612491), (1, 0.0054999681509501821)]\u001b[0m\u001b[1;33m\u001b[0m\u001b[1;33m\u001b[0m\u001b[1;33m\u001b[0m\u001b[0m\n\u001b[1;32m----> 2\u001b[1;33m \u001b[0msmallest\u001b[0m \u001b[1;33m=\u001b[0m \u001b[0mmin\u001b[0m\u001b[1;33m(\u001b[0m\u001b[0mcnts\u001b[0m\u001b[1;33m,\u001b[0m \u001b[0mkey\u001b[0m\u001b[1;33m=\u001b[0m\u001b[1;32mlambda\u001b[0m \u001b[0mx\u001b[0m\u001b[1;33m:\u001b[0m \u001b[0mx\u001b[0m\u001b[1;33m[\u001b[0m\u001b[1;36m1\u001b[0m\u001b[1;33m]\u001b[0m\u001b[1;33m.\u001b[0m\u001b[0many\u001b[0m\u001b[1;33m(\u001b[0m\u001b[1;33m)\u001b[0m\u001b[1;33m)\u001b[0m\u001b[1;33m[\u001b[0m\u001b[1;36m0\u001b[0m\u001b[1;33m]\u001b[0m\u001b[1;33m\u001b[0m\u001b[1;33m\u001b[0m\u001b[0m\n\u001b[0m\u001b[0;32m      3\u001b[0m \u001b[0msmallest\u001b[0m\u001b[1;33m\u001b[0m\u001b[1;33m\u001b[0m\u001b[0m\n",
      "\u001b[1;31mIndexError\u001b[0m: index 1 is out of bounds for axis 0 with size 1"
     ]
    }
   ],
   "source": [
    " \n",
    "smallest = min(cnts, key=lambda x: x[1].any())[0]\n",
    "smallest\n"
   ]
  },
  {
   "cell_type": "code",
   "execution_count": 32,
   "metadata": {},
   "outputs": [],
   "source": [
    "#df = pd.DataFrame.from_records(data)\n",
    "cnts_df = pd.DataFrame.from_records(cnts)"
   ]
  },
  {
   "cell_type": "code",
   "execution_count": 35,
   "metadata": {},
   "outputs": [
    {
     "data": {
      "text/html": [
       "<div>\n",
       "<style scoped>\n",
       "    .dataframe tbody tr th:only-of-type {\n",
       "        vertical-align: middle;\n",
       "    }\n",
       "\n",
       "    .dataframe tbody tr th {\n",
       "        vertical-align: top;\n",
       "    }\n",
       "\n",
       "    .dataframe thead th {\n",
       "        text-align: right;\n",
       "    }\n",
       "</style>\n",
       "<table border=\"1\" class=\"dataframe\">\n",
       "  <thead>\n",
       "    <tr style=\"text-align: right;\">\n",
       "      <th></th>\n",
       "      <th>0</th>\n",
       "      <th>1</th>\n",
       "      <th>2</th>\n",
       "      <th>3</th>\n",
       "      <th>4</th>\n",
       "      <th>5</th>\n",
       "      <th>6</th>\n",
       "      <th>7</th>\n",
       "      <th>8</th>\n",
       "      <th>9</th>\n",
       "      <th>...</th>\n",
       "      <th>1573</th>\n",
       "      <th>1574</th>\n",
       "      <th>1575</th>\n",
       "      <th>1576</th>\n",
       "      <th>1577</th>\n",
       "      <th>1578</th>\n",
       "      <th>1579</th>\n",
       "      <th>1580</th>\n",
       "      <th>1581</th>\n",
       "      <th>1582</th>\n",
       "    </tr>\n",
       "  </thead>\n",
       "  <tbody>\n",
       "    <tr>\n",
       "      <th>0</th>\n",
       "      <td>[[763, 623]]</td>\n",
       "      <td>[[762, 624]]</td>\n",
       "      <td>[[762, 625]]</td>\n",
       "      <td>[[763, 626]]</td>\n",
       "      <td>[[763, 628]]</td>\n",
       "      <td>[[762, 629]]</td>\n",
       "      <td>[[761, 629]]</td>\n",
       "      <td>[[761, 631]]</td>\n",
       "      <td>[[763, 631]]</td>\n",
       "      <td>[[764, 632]]</td>\n",
       "      <td>...</td>\n",
       "      <td>None</td>\n",
       "      <td>None</td>\n",
       "      <td>None</td>\n",
       "      <td>None</td>\n",
       "      <td>None</td>\n",
       "      <td>None</td>\n",
       "      <td>None</td>\n",
       "      <td>None</td>\n",
       "      <td>None</td>\n",
       "      <td>None</td>\n",
       "    </tr>\n",
       "    <tr>\n",
       "      <th>1</th>\n",
       "      <td>[[70, 603]]</td>\n",
       "      <td>[[68, 605]]</td>\n",
       "      <td>[[67, 605]]</td>\n",
       "      <td>[[62, 610]]</td>\n",
       "      <td>[[61, 610]]</td>\n",
       "      <td>[[56, 615]]</td>\n",
       "      <td>[[55, 615]]</td>\n",
       "      <td>[[50, 620]]</td>\n",
       "      <td>[[49, 620]]</td>\n",
       "      <td>[[45, 624]]</td>\n",
       "      <td>...</td>\n",
       "      <td>None</td>\n",
       "      <td>None</td>\n",
       "      <td>None</td>\n",
       "      <td>None</td>\n",
       "      <td>None</td>\n",
       "      <td>None</td>\n",
       "      <td>None</td>\n",
       "      <td>None</td>\n",
       "      <td>None</td>\n",
       "      <td>None</td>\n",
       "    </tr>\n",
       "    <tr>\n",
       "      <th>2</th>\n",
       "      <td>[[288, 574]]</td>\n",
       "      <td>[[286, 576]]</td>\n",
       "      <td>[[286, 577]]</td>\n",
       "      <td>[[287, 578]]</td>\n",
       "      <td>[[285, 580]]</td>\n",
       "      <td>[[284, 580]]</td>\n",
       "      <td>[[281, 583]]</td>\n",
       "      <td>[[280, 583]]</td>\n",
       "      <td>[[279, 584]]</td>\n",
       "      <td>[[277, 584]]</td>\n",
       "      <td>...</td>\n",
       "      <td>None</td>\n",
       "      <td>None</td>\n",
       "      <td>None</td>\n",
       "      <td>None</td>\n",
       "      <td>None</td>\n",
       "      <td>None</td>\n",
       "      <td>None</td>\n",
       "      <td>None</td>\n",
       "      <td>None</td>\n",
       "      <td>None</td>\n",
       "    </tr>\n",
       "    <tr>\n",
       "      <th>3</th>\n",
       "      <td>[[296, 573]]</td>\n",
       "      <td>[[296, 574]]</td>\n",
       "      <td>[[307, 574]]</td>\n",
       "      <td>[[308, 575]]</td>\n",
       "      <td>[[309, 574]]</td>\n",
       "      <td>[[310, 575]]</td>\n",
       "      <td>[[323, 575]]</td>\n",
       "      <td>[[310, 575]]</td>\n",
       "      <td>[[309, 574]]</td>\n",
       "      <td>[[308, 575]]</td>\n",
       "      <td>...</td>\n",
       "      <td>None</td>\n",
       "      <td>None</td>\n",
       "      <td>None</td>\n",
       "      <td>None</td>\n",
       "      <td>None</td>\n",
       "      <td>None</td>\n",
       "      <td>None</td>\n",
       "      <td>None</td>\n",
       "      <td>None</td>\n",
       "      <td>None</td>\n",
       "    </tr>\n",
       "    <tr>\n",
       "      <th>4</th>\n",
       "      <td>[[113, 568]]</td>\n",
       "      <td>[[112, 569]]</td>\n",
       "      <td>[[111, 569]]</td>\n",
       "      <td>[[107, 573]]</td>\n",
       "      <td>[[106, 572]]</td>\n",
       "      <td>[[106, 571]]</td>\n",
       "      <td>[[106, 572]]</td>\n",
       "      <td>[[107, 573]]</td>\n",
       "      <td>[[106, 574]]</td>\n",
       "      <td>[[105, 574]]</td>\n",
       "      <td>...</td>\n",
       "      <td>None</td>\n",
       "      <td>None</td>\n",
       "      <td>None</td>\n",
       "      <td>None</td>\n",
       "      <td>None</td>\n",
       "      <td>None</td>\n",
       "      <td>None</td>\n",
       "      <td>None</td>\n",
       "      <td>None</td>\n",
       "      <td>None</td>\n",
       "    </tr>\n",
       "    <tr>\n",
       "      <th>...</th>\n",
       "      <td>...</td>\n",
       "      <td>...</td>\n",
       "      <td>...</td>\n",
       "      <td>...</td>\n",
       "      <td>...</td>\n",
       "      <td>...</td>\n",
       "      <td>...</td>\n",
       "      <td>...</td>\n",
       "      <td>...</td>\n",
       "      <td>...</td>\n",
       "      <td>...</td>\n",
       "      <td>...</td>\n",
       "      <td>...</td>\n",
       "      <td>...</td>\n",
       "      <td>...</td>\n",
       "      <td>...</td>\n",
       "      <td>...</td>\n",
       "      <td>...</td>\n",
       "      <td>...</td>\n",
       "      <td>...</td>\n",
       "      <td>...</td>\n",
       "    </tr>\n",
       "    <tr>\n",
       "      <th>339</th>\n",
       "      <td>[[666, 13]]</td>\n",
       "      <td>[[665, 14]]</td>\n",
       "      <td>[[665, 16]]</td>\n",
       "      <td>[[664, 17]]</td>\n",
       "      <td>[[664, 18]]</td>\n",
       "      <td>[[663, 19]]</td>\n",
       "      <td>[[663, 21]]</td>\n",
       "      <td>[[662, 22]]</td>\n",
       "      <td>[[662, 24]]</td>\n",
       "      <td>[[661, 25]]</td>\n",
       "      <td>...</td>\n",
       "      <td>None</td>\n",
       "      <td>None</td>\n",
       "      <td>None</td>\n",
       "      <td>None</td>\n",
       "      <td>None</td>\n",
       "      <td>None</td>\n",
       "      <td>None</td>\n",
       "      <td>None</td>\n",
       "      <td>None</td>\n",
       "      <td>None</td>\n",
       "    </tr>\n",
       "    <tr>\n",
       "      <th>340</th>\n",
       "      <td>[[631, 13]]</td>\n",
       "      <td>[[630, 14]]</td>\n",
       "      <td>[[630, 35]]</td>\n",
       "      <td>[[642, 35]]</td>\n",
       "      <td>[[643, 34]]</td>\n",
       "      <td>[[645, 34]]</td>\n",
       "      <td>[[647, 32]]</td>\n",
       "      <td>[[647, 30]]</td>\n",
       "      <td>[[648, 29]]</td>\n",
       "      <td>[[648, 19]]</td>\n",
       "      <td>...</td>\n",
       "      <td>None</td>\n",
       "      <td>None</td>\n",
       "      <td>None</td>\n",
       "      <td>None</td>\n",
       "      <td>None</td>\n",
       "      <td>None</td>\n",
       "      <td>None</td>\n",
       "      <td>None</td>\n",
       "      <td>None</td>\n",
       "      <td>None</td>\n",
       "    </tr>\n",
       "    <tr>\n",
       "      <th>341</th>\n",
       "      <td>[[622, 13]]</td>\n",
       "      <td>[[622, 35]]</td>\n",
       "      <td>[[626, 35]]</td>\n",
       "      <td>[[626, 14]]</td>\n",
       "      <td>[[625, 13]]</td>\n",
       "      <td>None</td>\n",
       "      <td>None</td>\n",
       "      <td>None</td>\n",
       "      <td>None</td>\n",
       "      <td>None</td>\n",
       "      <td>...</td>\n",
       "      <td>None</td>\n",
       "      <td>None</td>\n",
       "      <td>None</td>\n",
       "      <td>None</td>\n",
       "      <td>None</td>\n",
       "      <td>None</td>\n",
       "      <td>None</td>\n",
       "      <td>None</td>\n",
       "      <td>None</td>\n",
       "      <td>None</td>\n",
       "    </tr>\n",
       "    <tr>\n",
       "      <th>342</th>\n",
       "      <td>[[546, 13]]</td>\n",
       "      <td>[[545, 14]]</td>\n",
       "      <td>[[545, 35]]</td>\n",
       "      <td>[[549, 35]]</td>\n",
       "      <td>[[549, 34]]</td>\n",
       "      <td>[[550, 33]]</td>\n",
       "      <td>[[550, 27]]</td>\n",
       "      <td>[[551, 26]]</td>\n",
       "      <td>[[557, 26]]</td>\n",
       "      <td>[[559, 24]]</td>\n",
       "      <td>...</td>\n",
       "      <td>None</td>\n",
       "      <td>None</td>\n",
       "      <td>None</td>\n",
       "      <td>None</td>\n",
       "      <td>None</td>\n",
       "      <td>None</td>\n",
       "      <td>None</td>\n",
       "      <td>None</td>\n",
       "      <td>None</td>\n",
       "      <td>None</td>\n",
       "    </tr>\n",
       "    <tr>\n",
       "      <th>343</th>\n",
       "      <td>[[14, 6]]</td>\n",
       "      <td>[[14, 8]]</td>\n",
       "      <td>[[13, 9]]</td>\n",
       "      <td>[[15, 11]]</td>\n",
       "      <td>[[15, 12]]</td>\n",
       "      <td>[[13, 14]]</td>\n",
       "      <td>[[13, 17]]</td>\n",
       "      <td>[[14, 18]]</td>\n",
       "      <td>[[13, 19]]</td>\n",
       "      <td>[[12, 19]]</td>\n",
       "      <td>...</td>\n",
       "      <td>None</td>\n",
       "      <td>None</td>\n",
       "      <td>None</td>\n",
       "      <td>None</td>\n",
       "      <td>None</td>\n",
       "      <td>None</td>\n",
       "      <td>None</td>\n",
       "      <td>None</td>\n",
       "      <td>None</td>\n",
       "      <td>None</td>\n",
       "    </tr>\n",
       "  </tbody>\n",
       "</table>\n",
       "<p>344 rows × 1583 columns</p>\n",
       "</div>"
      ],
      "text/plain": [
       "             0             1             2             3             4     \\\n",
       "0    [[763, 623]]  [[762, 624]]  [[762, 625]]  [[763, 626]]  [[763, 628]]   \n",
       "1     [[70, 603]]   [[68, 605]]   [[67, 605]]   [[62, 610]]   [[61, 610]]   \n",
       "2    [[288, 574]]  [[286, 576]]  [[286, 577]]  [[287, 578]]  [[285, 580]]   \n",
       "3    [[296, 573]]  [[296, 574]]  [[307, 574]]  [[308, 575]]  [[309, 574]]   \n",
       "4    [[113, 568]]  [[112, 569]]  [[111, 569]]  [[107, 573]]  [[106, 572]]   \n",
       "..            ...           ...           ...           ...           ...   \n",
       "339   [[666, 13]]   [[665, 14]]   [[665, 16]]   [[664, 17]]   [[664, 18]]   \n",
       "340   [[631, 13]]   [[630, 14]]   [[630, 35]]   [[642, 35]]   [[643, 34]]   \n",
       "341   [[622, 13]]   [[622, 35]]   [[626, 35]]   [[626, 14]]   [[625, 13]]   \n",
       "342   [[546, 13]]   [[545, 14]]   [[545, 35]]   [[549, 35]]   [[549, 34]]   \n",
       "343     [[14, 6]]     [[14, 8]]     [[13, 9]]    [[15, 11]]    [[15, 12]]   \n",
       "\n",
       "             5             6             7             8             9     \\\n",
       "0    [[762, 629]]  [[761, 629]]  [[761, 631]]  [[763, 631]]  [[764, 632]]   \n",
       "1     [[56, 615]]   [[55, 615]]   [[50, 620]]   [[49, 620]]   [[45, 624]]   \n",
       "2    [[284, 580]]  [[281, 583]]  [[280, 583]]  [[279, 584]]  [[277, 584]]   \n",
       "3    [[310, 575]]  [[323, 575]]  [[310, 575]]  [[309, 574]]  [[308, 575]]   \n",
       "4    [[106, 571]]  [[106, 572]]  [[107, 573]]  [[106, 574]]  [[105, 574]]   \n",
       "..            ...           ...           ...           ...           ...   \n",
       "339   [[663, 19]]   [[663, 21]]   [[662, 22]]   [[662, 24]]   [[661, 25]]   \n",
       "340   [[645, 34]]   [[647, 32]]   [[647, 30]]   [[648, 29]]   [[648, 19]]   \n",
       "341          None          None          None          None          None   \n",
       "342   [[550, 33]]   [[550, 27]]   [[551, 26]]   [[557, 26]]   [[559, 24]]   \n",
       "343    [[13, 14]]    [[13, 17]]    [[14, 18]]    [[13, 19]]    [[12, 19]]   \n",
       "\n",
       "     ...  1573  1574  1575  1576  1577  1578  1579  1580  1581  1582  \n",
       "0    ...  None  None  None  None  None  None  None  None  None  None  \n",
       "1    ...  None  None  None  None  None  None  None  None  None  None  \n",
       "2    ...  None  None  None  None  None  None  None  None  None  None  \n",
       "3    ...  None  None  None  None  None  None  None  None  None  None  \n",
       "4    ...  None  None  None  None  None  None  None  None  None  None  \n",
       "..   ...   ...   ...   ...   ...   ...   ...   ...   ...   ...   ...  \n",
       "339  ...  None  None  None  None  None  None  None  None  None  None  \n",
       "340  ...  None  None  None  None  None  None  None  None  None  None  \n",
       "341  ...  None  None  None  None  None  None  None  None  None  None  \n",
       "342  ...  None  None  None  None  None  None  None  None  None  None  \n",
       "343  ...  None  None  None  None  None  None  None  None  None  None  \n",
       "\n",
       "[344 rows x 1583 columns]"
      ]
     },
     "execution_count": 35,
     "metadata": {},
     "output_type": "execute_result"
    }
   ],
   "source": [
    "cnts_df.head(-5)"
   ]
  },
  {
   "cell_type": "code",
   "execution_count": 39,
   "metadata": {},
   "outputs": [],
   "source": [
    "cnts_df.to_csv('C:\\\\Users\\\\Chen\\\\Frog ID\\\\Frog data\\\\cnts_df.csv',index=True)"
   ]
  },
  {
   "cell_type": "code",
   "execution_count": null,
   "metadata": {},
   "outputs": [],
   "source": [
    "#https://github.com/jrosebr1/imutils/blob/master/demos/sorting_contours.py\n",
    "#https://gist.github.com/divyaprabha123/bfa1e44ebdfc6b578fd9715818f07aec\n",
    "#https://github.com/jrosebr1/imutils"
   ]
  },
  {
   "cell_type": "code",
   "execution_count": 24,
   "metadata": {},
   "outputs": [],
   "source": [
    "from imutils import contours"
   ]
  },
  {
   "cell_type": "code",
   "execution_count": 26,
   "metadata": {},
   "outputs": [
    {
     "ename": "Exception",
     "evalue": "Contours tuple must have length 2 or 3, otherwise OpenCV changed their cv2.findContours return signature yet again. Refer to OpenCV's documentation in that case",
     "output_type": "error",
     "traceback": [
      "\u001b[1;31m---------------------------------------------------------------------------\u001b[0m",
      "\u001b[1;31mException\u001b[0m                                 Traceback (most recent call last)",
      "\u001b[1;32m<ipython-input-26-29c97f054487>\u001b[0m in \u001b[0;36m<module>\u001b[1;34m\u001b[0m\n\u001b[1;32m----> 1\u001b[1;33m \u001b[0mcnts\u001b[0m\u001b[1;33m=\u001b[0m \u001b[0mimutils\u001b[0m\u001b[1;33m.\u001b[0m\u001b[0mgrab_contours\u001b[0m\u001b[1;33m(\u001b[0m\u001b[0mcnts\u001b[0m\u001b[1;33m)\u001b[0m\u001b[1;33m\u001b[0m\u001b[1;33m\u001b[0m\u001b[0m\n\u001b[0m\u001b[0;32m      2\u001b[0m \u001b[1;33m\u001b[0m\u001b[0m\n\u001b[0;32m      3\u001b[0m \u001b[1;31m#cnts = imutils.grab_contours(cnts)\u001b[0m\u001b[1;33m\u001b[0m\u001b[1;33m\u001b[0m\u001b[1;33m\u001b[0m\u001b[0m\n",
      "\u001b[1;32m~\\Anaconda3\\lib\\site-packages\\imutils\\convenience.py\u001b[0m in \u001b[0;36mgrab_contours\u001b[1;34m(cnts)\u001b[0m\n\u001b[0;32m    167\u001b[0m     \u001b[1;31m# signature yet again and I have no idea WTH is going on\u001b[0m\u001b[1;33m\u001b[0m\u001b[1;33m\u001b[0m\u001b[1;33m\u001b[0m\u001b[0m\n\u001b[0;32m    168\u001b[0m     \u001b[1;32melse\u001b[0m\u001b[1;33m:\u001b[0m\u001b[1;33m\u001b[0m\u001b[1;33m\u001b[0m\u001b[0m\n\u001b[1;32m--> 169\u001b[1;33m         raise Exception((\"Contours tuple must have length 2 or 3, \"\n\u001b[0m\u001b[0;32m    170\u001b[0m             \u001b[1;34m\"otherwise OpenCV changed their cv2.findContours return \"\u001b[0m\u001b[1;33m\u001b[0m\u001b[1;33m\u001b[0m\u001b[0m\n\u001b[0;32m    171\u001b[0m             \u001b[1;34m\"signature yet again. Refer to OpenCV's documentation \"\u001b[0m\u001b[1;33m\u001b[0m\u001b[1;33m\u001b[0m\u001b[0m\n",
      "\u001b[1;31mException\u001b[0m: Contours tuple must have length 2 or 3, otherwise OpenCV changed their cv2.findContours return signature yet again. Refer to OpenCV's documentation in that case"
     ]
    }
   ],
   "source": [
    "cnts= imutils.grab_contours(cnts)\n",
    "\n",
    "#cnts = imutils.grab_contours(cnts)"
   ]
  },
  {
   "cell_type": "code",
   "execution_count": 26,
   "metadata": {},
   "outputs": [],
   "source": [
    "def prediction(self, image):\n",
    "        image = cv2.cvtColor(image, cv2.COLOR_BGR2GRAY)\n",
    "        image = cv2.GaussianBlur(image, (21, 21), 0)\n",
    "        if self.avg is None:\n",
    "            self.avg = image.copy().astype(float)\n",
    "        cv2.accumulateWeighted(image, self.avg, 0.5)\n",
    "        frameDelta = cv2.absdiff(image, cv2.convertScaleAbs(self.avg))\n",
    "        thresh = cv2.threshold(\n",
    "                frameDelta, DELTA_THRESH, 255,\n",
    "                cv2.THRESH_BINARY)[1]\n",
    "        thresh = cv2.dilate(thresh, None, iterations=2)\n",
    "        cnts = cv2.findContours(\n",
    "                thresh.copy(), cv2.RETR_EXTERNAL,\n",
    "                cv2.CHAIN_APPROX_SIMPLE)\n",
    "        cnts = imutils.grab_contours(cnts)\n",
    "        self.avg = image.copy().astype(float)\n",
    "        return cnts "
   ]
  },
  {
   "cell_type": "code",
   "execution_count": null,
   "metadata": {},
   "outputs": [],
   "source": [
    "0"
   ]
  },
  {
   "cell_type": "code",
   "execution_count": 36,
   "metadata": {},
   "outputs": [
    {
     "ename": "TypeError",
     "evalue": "'module' object is not iterable",
     "output_type": "error",
     "traceback": [
      "\u001b[1;31m---------------------------------------------------------------------------\u001b[0m",
      "\u001b[1;31mTypeError\u001b[0m                                 Traceback (most recent call last)",
      "\u001b[1;32m<ipython-input-36-304c26d4ba5a>\u001b[0m in \u001b[0;36m<module>\u001b[1;34m\u001b[0m\n\u001b[1;32m----> 1\u001b[1;33m \u001b[0mimutils\u001b[0m\u001b[1;33m.\u001b[0m\u001b[0mcontours\u001b[0m\u001b[1;33m.\u001b[0m\u001b[0msort_contours\u001b[0m\u001b[1;33m(\u001b[0m\u001b[0mcontours\u001b[0m\u001b[1;33m)\u001b[0m\u001b[1;33m\u001b[0m\u001b[1;33m\u001b[0m\u001b[0m\n\u001b[0m",
      "\u001b[1;32m~\\Anaconda3\\lib\\site-packages\\imutils\\contours.py\u001b[0m in \u001b[0;36msort_contours\u001b[1;34m(cnts, method)\u001b[0m\n\u001b[0;32m     21\u001b[0m     \u001b[1;31m# construct the list of bounding boxes and sort them from top to\u001b[0m\u001b[1;33m\u001b[0m\u001b[1;33m\u001b[0m\u001b[1;33m\u001b[0m\u001b[0m\n\u001b[0;32m     22\u001b[0m     \u001b[1;31m# bottom\u001b[0m\u001b[1;33m\u001b[0m\u001b[1;33m\u001b[0m\u001b[1;33m\u001b[0m\u001b[0m\n\u001b[1;32m---> 23\u001b[1;33m     \u001b[0mboundingBoxes\u001b[0m \u001b[1;33m=\u001b[0m \u001b[1;33m[\u001b[0m\u001b[0mcv2\u001b[0m\u001b[1;33m.\u001b[0m\u001b[0mboundingRect\u001b[0m\u001b[1;33m(\u001b[0m\u001b[0mc\u001b[0m\u001b[1;33m)\u001b[0m \u001b[1;32mfor\u001b[0m \u001b[0mc\u001b[0m \u001b[1;32min\u001b[0m \u001b[0mcnts\u001b[0m\u001b[1;33m]\u001b[0m\u001b[1;33m\u001b[0m\u001b[1;33m\u001b[0m\u001b[0m\n\u001b[0m\u001b[0;32m     24\u001b[0m     (cnts, boundingBoxes) = zip(*sorted(zip(cnts, boundingBoxes),\n\u001b[0;32m     25\u001b[0m                                         key=lambda b: b[1][i], reverse=reverse))\n",
      "\u001b[1;31mTypeError\u001b[0m: 'module' object is not iterable"
     ]
    }
   ],
   "source": [
    "imutils.contours.sort_contours(contours)"
   ]
  },
  {
   "cell_type": "code",
   "execution_count": 38,
   "metadata": {},
   "outputs": [
    {
     "data": {
      "text/plain": [
       "'4.5.1'"
      ]
     },
     "execution_count": 38,
     "metadata": {},
     "output_type": "execute_result"
    }
   ],
   "source": [
    "cv2.__version__"
   ]
  },
  {
   "cell_type": "code",
   "execution_count": null,
   "metadata": {},
   "outputs": [],
   "source": []
  },
  {
   "cell_type": "code",
   "execution_count": 33,
   "metadata": {},
   "outputs": [
    {
     "data": {
      "text/plain": [
       "array(['00_0-357.jpg', '1100-2578.jpg', '1100-8058.JPG', ...,\n",
       "       '0110-8723.JPG', '0000-149.jpg', '1000-464.jpg'], dtype=object)"
      ]
     },
     "execution_count": 33,
     "metadata": {},
     "output_type": "execute_result"
    }
   ],
   "source": [
    "df['fig_name'].unique()"
   ]
  },
  {
   "cell_type": "code",
   "execution_count": 36,
   "metadata": {},
   "outputs": [],
   "source": [
    "df149=df[df['fig_name']=='0000-149.jpg']"
   ]
  },
  {
   "cell_type": "code",
   "execution_count": 39,
   "metadata": {},
   "outputs": [],
   "source": [
    "open_img(os.path.join(path,df149['frog_id'].iloc[0],df149['fig_name'].iloc[0]), df149)"
   ]
  },
  {
   "cell_type": "code",
   "execution_count": 23,
   "metadata": {},
   "outputs": [],
   "source": [
    "import math"
   ]
  },
  {
   "cell_type": "code",
   "execution_count": 24,
   "metadata": {},
   "outputs": [],
   "source": [
    "#A function that measures an angle between 2 lines:\n",
    "\n",
    "def dot(vA, vB):\n",
    "    return vA[0]*vB[0]+vA[1]*vB[1]\n",
    "\n",
    "def ang(lineA, lineB):\n",
    "    # Get nicer vector form\n",
    "    vA = [(lineA[0][0]-lineA[1][0]), (lineA[0][1]-lineA[1][1])]\n",
    "    vB = [(lineB[0][0]-lineB[1][0]), (lineB[0][1]-lineB[1][1])]\n",
    "    # Get dot prod\n",
    "    dot_prod = dot(vA, vB)\n",
    "    # Get magnitudes\n",
    "    magA = dot(vA, vA)**0.5\n",
    "    magB = dot(vB, vB)**0.5\n",
    "    # Get cosine value\n",
    "    cos_ = dot_prod/magA/magB\n",
    "    # Get angle in radians and then convert to degrees\n",
    "    angle = math.acos(dot_prod/magB/magA)\n",
    "    # Basically doing angle <- angle mod 360\n",
    "    ang_deg = math.degrees(angle)%360\n",
    "\n",
    "    if ang_deg-180>=0:\n",
    "        # As in if statement\n",
    "        return 360 - ang_deg\n",
    "    else: \n",
    "\n",
    "        return ang_deg"
   ]
  },
  {
   "cell_type": "code",
   "execution_count": 40,
   "metadata": {},
   "outputs": [],
   "source": [
    "# 6 points are defined :\n",
    "def comput_ang(df):\n",
    "#change to float\n",
    "    snout=(float(df['x'].iloc[0]),float(df['y'].iloc[0]))\n",
    "    vent=(float(df['x'].iloc[1]),float(df['y'].iloc[1]))\n",
    "    reye=(float(df['x'].iloc[2]),float(df['y'].iloc[2]))\n",
    "    leye=(float(df['x'].iloc[3]),float(df['y'].iloc[3]))\n",
    "    rleg=(float(df['x'].iloc[4]),float(df['y'].iloc[4]))\n",
    "    lleg=(float(df['x'].iloc[5]),float(df['y'].iloc[5]))\n",
    "\n",
    "    snout_ventline=(snout, vent)\n",
    "    eyeline=(reye, leye)\n",
    "    legline=(rleg, lleg)\n",
    "    return snout_ventline, eyeline, legline"
   ]
  },
  {
   "cell_type": "code",
   "execution_count": 41,
   "metadata": {},
   "outputs": [],
   "source": [
    "ventline149, eyeline149, legline149 = comput_ang(df149)"
   ]
  },
  {
   "cell_type": "code",
   "execution_count": 42,
   "metadata": {},
   "outputs": [
    {
     "data": {
      "text/plain": [
       "95.46476764417719"
      ]
     },
     "execution_count": 42,
     "metadata": {},
     "output_type": "execute_result"
    }
   ],
   "source": [
    "ang(ventline149, eyeline149)"
   ]
  },
  {
   "cell_type": "code",
   "execution_count": 45,
   "metadata": {},
   "outputs": [
    {
     "data": {
      "text/plain": [
       "99.23213553501175"
      ]
     },
     "execution_count": 45,
     "metadata": {},
     "output_type": "execute_result"
    }
   ],
   "source": [
    "ang(ventline149, legline149)"
   ]
  },
  {
   "cell_type": "code",
   "execution_count": null,
   "metadata": {},
   "outputs": [],
   "source": [
    "image=cv2.imread(os.path.join(path,df['frog_id'].iloc[25],df['fig_name'].iloc[25]))"
   ]
  },
  {
   "cell_type": "code",
   "execution_count": null,
   "metadata": {},
   "outputs": [],
   "source": [
    "cv2.imwrite()"
   ]
  }
 ],
 "metadata": {
  "kernelspec": {
   "display_name": "Python 3",
   "language": "python",
   "name": "python3"
  },
  "language_info": {
   "codemirror_mode": {
    "name": "ipython",
    "version": 3
   },
   "file_extension": ".py",
   "mimetype": "text/x-python",
   "name": "python",
   "nbconvert_exporter": "python",
   "pygments_lexer": "ipython3",
   "version": "3.8.5"
  }
 },
 "nbformat": 4,
 "nbformat_minor": 4
}
