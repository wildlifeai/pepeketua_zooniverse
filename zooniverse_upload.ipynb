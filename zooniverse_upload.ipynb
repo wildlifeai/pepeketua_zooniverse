{
  "nbformat": 4,
  "nbformat_minor": 0,
  "metadata": {
    "colab": {
      "name": "zooniverse_upload.ipynb",
      "provenance": [],
      "collapsed_sections": [],
      "toc_visible": true,
      "authorship_tag": "ABX9TyNlOH4G80ZiWqQ+2FQVLLDZ",
      "include_colab_link": true
    },
    "kernelspec": {
      "name": "python3",
      "display_name": "Python 3"
    }
  },
  "cells": [
    {
      "cell_type": "markdown",
      "metadata": {
        "id": "view-in-github",
        "colab_type": "text"
      },
      "source": [
        "<a href=\"https://colab.research.google.com/github/wildlifeai/pepeketua_zooniverse/blob/main/zooniverse_upload.ipynb\" target=\"_parent\"><img src=\"https://colab.research.google.com/assets/colab-badge.svg\" alt=\"Open In Colab\"/></a>"
      ]
    },
    {
      "cell_type": "markdown",
      "metadata": {
        "id": "Kvs6P42y4QT0"
      },
      "source": [
        "This notebook contains the scripts to upload photos of Archey's frogs to a Zooniverse project where they can be manually annotated."
      ]
    },
    {
      "cell_type": "markdown",
      "metadata": {
        "id": "JcT2UBUcdj-a"
      },
      "source": [
        "#Requirements"
      ]
    },
    {
      "cell_type": "markdown",
      "metadata": {
        "id": "n6eYkFWpHXQ7"
      },
      "source": [
        "### Install required packages"
      ]
    },
    {
      "cell_type": "markdown",
      "metadata": {
        "id": "TH2C_1HBdmX4"
      },
      "source": [
        "We use the \"panoptes_client\" package to communicate with Zooniverse. If you don't have it installed, run the command below."
      ]
    },
    {
      "cell_type": "code",
      "metadata": {
        "id": "r2E5PR5iaGfC"
      },
      "source": [
        "!pip install panoptes_client"
      ],
      "execution_count": null,
      "outputs": []
    },
    {
      "cell_type": "markdown",
      "metadata": {
        "id": "79i1Eyx4HdvF"
      },
      "source": [
        "### Load required libraries"
      ]
    },
    {
      "cell_type": "markdown",
      "metadata": {
        "id": "dBrZIug5d896"
      },
      "source": [
        "Load generic libraries"
      ]
    },
    {
      "cell_type": "code",
      "metadata": {
        "id": "RYnsIFqAeBOT"
      },
      "source": [
        "import io, os\n",
        "import zipfile\n",
        "import json\n",
        "import getpass\n",
        "import pandas as pd\n",
        "import numpy as np\n",
        "\n",
        "from google.colab import drive\n",
        "from datetime import date\n",
        "from panoptes_client import (\n",
        "    SubjectSet,\n",
        "    Subject,\n",
        "    Project,\n",
        "    Panoptes,\n",
        ") "
      ],
      "execution_count": null,
      "outputs": []
    },
    {
      "cell_type": "markdown",
      "metadata": {
        "id": "6Ikud4XZHGvO"
      },
      "source": [
        "### Connect to Zooniverse"
      ]
    },
    {
      "cell_type": "markdown",
      "metadata": {
        "id": "aUh4bvCGfPvt"
      },
      "source": [
        "You need to specify your Zooniverse username and password. Uploading and downloading information from Zooniverse is only accessible to those user with access to the project."
      ]
    },
    {
      "cell_type": "code",
      "metadata": {
        "id": "e8sbIcMBfMTq"
      },
      "source": [
        "# Your user name and password for Zooniverse. \n",
        "zoo_user = getpass.getpass('Enter your Zooniverse user')\n",
        "zoo_pass = getpass.getpass('Enter your Zooniverse password')\n",
        "\n",
        "# Connect to Zooniverse with your username and password\n",
        "auth = Panoptes.connect(username=zoo_user, password=zoo_pass)\n",
        "\n",
        "if not auth.logged_in:\n",
        "    raise AuthenticationError(\"Your credentials are invalid. Please try again.\")\n",
        "\n",
        "# Connect to the Zooniverse project (our frog project # is 13355)\n",
        "project = Project(13355)"
      ],
      "execution_count": null,
      "outputs": []
    },
    {
      "cell_type": "markdown",
      "metadata": {
        "id": "v0xYgC4-c4E3"
      },
      "source": [
        "#Upload photos to Zooniverse"
      ]
    },
    {
      "cell_type": "markdown",
      "metadata": {
        "id": "w56RZpfq43Gj"
      },
      "source": [
        "## Temporarily download frog photos"
      ]
    },
    {
      "cell_type": "markdown",
      "metadata": {
        "id": "vW-EFyImA8fy"
      },
      "source": [
        "###Add shortcuts to the compressed photos"
      ]
    },
    {
      "cell_type": "markdown",
      "metadata": {
        "id": "DdLfczSGA9aL"
      },
      "source": [
        "To download the photos of the frogs into this Google Colab you first need to add shortcuts in your Google drive to the [five zipped folders](https://drive.google.com/file/d/1XXSrATFX1l-J0CUE4m6UfoOBp9zv3XOr/view?usp=sharing) with the photos. \n",
        "\n",
        "To add the shortcuts:\n",
        "* go to the \"Shared with me\" section in your Google drive,\n",
        "* find the five zipped folders,\n",
        "* click on \"Add shorcut to Drive\" and\n",
        "* save the shortcuts (we created a folder called \"frog_photos\" and saved them there)."
      ]
    },
    {
      "cell_type": "markdown",
      "metadata": {
        "id": "i4n9rLaUBIaQ"
      },
      "source": [
        "*Specify* the folder in your Google drive where you saved the shortcuts to the photos (in our case \"frog_photos\")."
      ]
    },
    {
      "cell_type": "code",
      "metadata": {
        "id": "_-mA0G4XBEti"
      },
      "source": [
        "dir_shortcuts = \"/content/drive/MyDrive/Conservation/Projects/frog_id/frog_photos/\""
      ],
      "execution_count": 9,
      "outputs": []
    },
    {
      "cell_type": "markdown",
      "metadata": {
        "id": "OPDH9kwjBOr5"
      },
      "source": [
        "*If you can't access the five zipped folders please [email Victor](victor@wildlife.ai). "
      ]
    },
    {
      "cell_type": "markdown",
      "metadata": {
        "id": "eJcn0ys34ycz"
      },
      "source": [
        "###Load the zipped files"
      ]
    },
    {
      "cell_type": "markdown",
      "metadata": {
        "id": "-RPy3EYdBPo7"
      },
      "source": [
        "To download the five zip folders with the photos you will need to grant access to the Google file stream. \n",
        "\n"
      ]
    },
    {
      "cell_type": "code",
      "metadata": {
        "id": "3-QJXJoNrQR6"
      },
      "source": [
        "# Mount the drive in colab\n",
        "drive.mount('/content/drive/')\n",
        "\n",
        "# Load the five zipped files\n",
        "whareorino_a = zipfile.ZipFile(dir_shortcuts + \"whareorino_a.zip\", 'r')\n",
        "whareorino_b = zipfile.ZipFile(dir_shortcuts + \"whareorino_b.zip\", 'r')\n",
        "whareorino_c = zipfile.ZipFile(dir_shortcuts + \"whareorino_c.zip\", 'r')\n",
        "whareorino_d = zipfile.ZipFile(dir_shortcuts + \"whareorino_d.zip\", 'r')\n",
        "pukeokahu = zipfile.ZipFile(dir_shortcuts + \"pukeokahu.zip\", 'r')\n",
        "\n",
        "# Extract the filepath of the photos of individual frogs\n",
        "zips = [whareorino_a, whareorino_b, whareorino_c, whareorino_d, pukeokahu]\n",
        "pdList = []\n",
        "\n",
        "for zip_file in zips:\n",
        "  zip_pd = pd.DataFrame(\n",
        "      [x for x in zip_file.namelist() if 'Individual Frogs' in x and not x.endswith(('.db','/','Store'))]\n",
        "      )\n",
        "  pdList.append(zip_pd)\n",
        "\n",
        "# Combine the file paths of the five grids into a single data frame\n",
        "frog_df = pd.concat(pdList)\n"
      ],
      "execution_count": null,
      "outputs": []
    },
    {
      "cell_type": "markdown",
      "metadata": {
        "id": "4_rviwZICUxy"
      },
      "source": [
        "###Create a data frame with frog information"
      ]
    },
    {
      "cell_type": "markdown",
      "metadata": {
        "id": "6Adg9vOm4yl8"
      },
      "source": [
        "Create a data frame to keep track of the photos uploaded to Zooniverse"
      ]
    },
    {
      "cell_type": "markdown",
      "metadata": {
        "id": "fKgOvCsEX3lI"
      },
      "source": [
        "####Prepare information related to the photos"
      ]
    },
    {
      "cell_type": "code",
      "metadata": {
        "id": "U0Gp-086GaCn"
      },
      "source": [
        "# Rename the column of df\n",
        "frog_df = frog_df.rename(columns={0: \"zip_path\"})\n",
        "\n",
        "# Add new columns using directory and filename information\n",
        "directories = frog_df['zip_path'].str.split(\"/\", n = 4, expand = True)\n",
        "\n",
        "# Add the grid, frog_id, filename, and capture cols \n",
        "frog_df[\"grid\"] = directories[0]\n",
        "frog_df[\"frog_id\"] = directories[2] \n",
        "frog_df[\"filename\"] = directories[3] \n",
        "frog_df[\"capture\"] = frog_df[\"filename\"].str.split(\".\",1, expand = True)[0].str.replace('_', '-').str.rsplit(\"-\",1, expand = True)[1] \n",
        "\n",
        "\n",
        "# Manually filter out non-standard photos\n",
        "frog_df = frog_df[~frog_df['filename'].str.contains((\"Picture|IMG|#\"))]\n"
      ],
      "execution_count": 11,
      "outputs": []
    },
    {
      "cell_type": "markdown",
      "metadata": {
        "id": "PMJh8aydX8pu"
      },
      "source": [
        "####Prepare information related to Zooniverse subjects"
      ]
    },
    {
      "cell_type": "code",
      "metadata": {
        "id": "wNxL6SRwYb0R"
      },
      "source": [
        "# Get info of subjects uploaded to the project\n",
        "export = project.get_export(\"subjects\")\n",
        "\n",
        "# Save the subjects info as pandas data frame\n",
        "subjects_df = pd.read_csv(\n",
        "    io.StringIO(export.content.decode(\"utf-8\")),\n",
        "    usecols=[\n",
        "        \"subject_id\",\n",
        "        \"metadata\",\n",
        "    ],\n",
        ")\n",
        "\n",
        "# Reset index of df\n",
        "subj_df = subjects_df.reset_index(drop=True).reset_index()\n",
        "\n",
        "# Flatten the metadata from the uploaded subjects\n",
        "meta_df = pd.json_normalize(subj_df.metadata.apply(json.loads))\n",
        "\n",
        "# Drop metadata and index columns from original df\n",
        "subj_df = subj_df.drop(columns=[\"metadata\", \"index\",]).rename(\n",
        "    columns={\"id\": \"subject_id\"}\n",
        ")\n",
        "\n",
        "# Combine the flatten metadata with the subjects df\n",
        "subj_df = pd.concat([subj_df, meta_df], axis=1)\n",
        "\n",
        "# Add the subject_id of photos already uploaded to Zooniverse\n",
        "frog_df = pd.merge(frog_df, subj_df, \n",
        "                   how=\"left\", on=[\"grid\", \"capture\", \"frog_id\", \"filename\"])\n",
        "\n",
        "# Exclude photos with weird filenames\n",
        "frog_df = frog_df[frog_df['capture'].str.isnumeric() & (~frog_df['capture'].isnull())]"
      ],
      "execution_count": 12,
      "outputs": []
    },
    {
      "cell_type": "markdown",
      "metadata": {
        "id": "MGOkh9rmDqCY"
      },
      "source": [
        "###Temporarily download photos to colab"
      ]
    },
    {
      "cell_type": "markdown",
      "metadata": {
        "id": "8p2eaOGM67ob"
      },
      "source": [
        "Specify the directory to save the photos and the number of photos"
      ]
    },
    {
      "cell_type": "code",
      "metadata": {
        "id": "C9mWfek766uC"
      },
      "source": [
        "# Specify the directory in colab to temporarily save the photos\n",
        "tmp_dir = 'photos_ulpoad/'\n",
        "\n",
        "# Specify the number of photos to upload\n",
        "n_photos = 1000"
      ],
      "execution_count": 56,
      "outputs": []
    },
    {
      "cell_type": "code",
      "metadata": {
        "id": "66sToIXh_5K8"
      },
      "source": [
        "# List photos that can't be downloaded because of:\n",
        "# \"Bad magic number for file header\"\n",
        "faulty_images = ['Grid A/Individual Frogs/80/1100-263.jpg',\n",
        "                'Grid B/Individual Frogs/499/1100-3257.JPG',\n",
        "                'Grid B/Individual Frogs/195/1000-2564.jpg',\n",
        "                'Grid B/Individual Frogs/325/1100-2875.jpg',\n",
        "                'Grid C/Individual Frogs/120/0100-4190.JPG',\n",
        "                'Grid D/Individual Frogs/156/1100-6428.jpg',\n",
        "                'Grid D/Individual Frogs/518/1100-7484.jpg',\n",
        "                'Grid D/Individual Frogs/685/1101-7727.JPG',\n",
        "                'Grid D/Individual Frogs/940/1000-10378.JPG',\n",
        "                'Grid D/Individual Frogs/789/0001-10472.JPG',\n",
        "                'Pukeokahu Frog Monitoring/Individual Frogs/364/1100-8589.JPG',\n",
        "                'Pukeokahu Frog Monitoring/Individual Frogs/88/1100-88.jpg']"
      ],
      "execution_count": 82,
      "outputs": []
    },
    {
      "cell_type": "markdown",
      "metadata": {
        "id": "kwtccb2S7CCg"
      },
      "source": [
        "Temporarily download the photos to colab"
      ]
    },
    {
      "cell_type": "code",
      "metadata": {
        "id": "wrH-wP6mwW_Q"
      },
      "source": [
        "# Create the folder to store the videos if not exist\n",
        "if not os.path.exists(tmp_dir):\n",
        "    os.mkdir(tmp_dir)\n",
        "\n",
        "# Select photos that haven't been uploaded \n",
        "photos_upload = frog_df[frog_df['subject_id'].isnull()]\n",
        "\n",
        "# Filter out falty images\n",
        "photos_upload = photos_upload[~photos_upload['zip_path'].isin(faulty_images)]\n",
        "\n",
        "# Select n number of photos to upload to Zooniverse\n",
        "photos_upload = photos_upload.sample(n_photos)\n",
        "photos_upload[\"photo_path\"] = np.nan\n",
        "\n",
        "for zip_file in zips:\n",
        "  # Get a list of all archived file names from the zip\n",
        "  listOfFileNames = zip_file.namelist()\n",
        "  # Iterate over the file names\n",
        "  for fileName in listOfFileNames:\n",
        "      # Check filename endswith csv\n",
        "      if fileName in photos_upload['zip_path'].values:\n",
        "          #print(fileName)\n",
        "          # Extract a single file from zip\n",
        "          zip_file.extract(fileName, tmp_dir) \n",
        "          # Include the colab path of the photo in the df\n",
        "          photos_upload.loc[photos_upload['zip_path'].eq(fileName),'photo_path'] = tmp_dir + fileName\n",
        "                                \n",
        "print(len(photos_upload.index), \"photos have been temporarily downloaded to\", tmp_dir)"
      ],
      "execution_count": null,
      "outputs": []
    },
    {
      "cell_type": "markdown",
      "metadata": {
        "id": "XH0MfKWzQXLE"
      },
      "source": [
        "Check metadata info makes sense before uploading the photos"
      ]
    },
    {
      "cell_type": "code",
      "metadata": {
        "id": "hgxz24WxQdX7"
      },
      "source": [
        "from google.colab import data_table\n",
        "data_table.DataTable(photos_upload)"
      ],
      "execution_count": null,
      "outputs": []
    },
    {
      "cell_type": "markdown",
      "metadata": {
        "id": "EoRESh4sKAPh"
      },
      "source": [
        "##Upload photos to Zooniverse"
      ]
    },
    {
      "cell_type": "code",
      "metadata": {
        "id": "FxiobTeZgSZ1"
      },
      "source": [
        "# Select the photo_path and other columns that will be used as metadata\n",
        "photos_upload = photos_upload[\n",
        "                            [\n",
        "                             \"photo_path\",\n",
        "                             \"filename\",\n",
        "                             \"capture\" ,\n",
        "                             \"frog_id\",\n",
        "                             \"grid\",\n",
        "                             ]\n",
        "                            ]\n",
        "        \n",
        "# Save the df as the subject metadata\n",
        "subject_metadata = photos_upload.set_index('photo_path').to_dict('index')\n",
        "\n",
        "# Create a subjet set in Zooniverse to host the photos\n",
        "subject_set = SubjectSet()\n",
        "\n",
        "subject_set.links.project = project\n",
        "subject_set.display_name = \"training_1000\" + date.today().strftime(\"_%d_%m_%Y\")\n",
        "\n",
        "subject_set.save()\n",
        "\n",
        "print(\"Zooniverse subject set created\")\n",
        "\n",
        "\n",
        "# Upload the photos to Zooniverse (with metadata)\n",
        "new_subjects = []\n",
        "\n",
        "for photo_path, metadata in subject_metadata.items():\n",
        "    subject = Subject()\n",
        "\n",
        "    subject.links.project = project\n",
        "    subject.add_location(photo_path)\n",
        "\n",
        "    subject.metadata.update(metadata)\n",
        "\n",
        "    subject.save()\n",
        "    new_subjects.append(subject)\n",
        "\n",
        "# Upload frames\n",
        "subject_set.add(new_subjects)\n",
        "\n",
        "print(\"Subjects uploaded to Zooniverse\")\n"
      ],
      "execution_count": null,
      "outputs": []
    }
  ]
}